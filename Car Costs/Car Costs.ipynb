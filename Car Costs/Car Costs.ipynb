{
 "cells": [
  {
   "cell_type": "markdown",
   "metadata": {},
   "source": [
    "# Определение стоимости автомобилей"
   ]
  },
  {
   "cell_type": "markdown",
   "metadata": {},
   "source": [
    "Сервис по продаже автомобилей с пробегом «Не бит, не крашен» разрабатывает приложение для привлечения новых клиентов. В нём можно быстро узнать рыночную стоимость своего автомобиля. В вашем распоряжении исторические данные: технические характеристики, комплектации и цены автомобилей. Вам нужно построить модель для определения стоимости. \n",
    "\n",
    "Заказчику важны:\n",
    "\n",
    "- качество предсказания;\n",
    "- скорость предсказания;\n",
    "- время обучения."
   ]
  },
  {
   "cell_type": "markdown",
   "metadata": {},
   "source": [
    "**Ход работы**\n",
    "\n",
    "Данные будут получены из файла `/datasets/autos.csv`. О качестве данных ничего не известно. Поэтому перед исследованием ряда вопросов и проверкой гипотез понадобится обзор данных.\n",
    "\n",
    "Проверим данные на ошибки, пропуски, дубликаты. По возможности исправим все эти \"пороки\".\n",
    "\n"
   ]
  },
  {
   "cell_type": "markdown",
   "metadata": {},
   "source": [
    "Таким образом, моя работа пройдет в **6 этапов**:\n",
    "\n",
    "1. Загрузка данных, путь к файлу:  `/datasets/autos.csv`.\n",
    "   \n",
    "   В датасете присутствует 16 столбцов:\n",
    "   \n",
    "   **Признаки:**\n",
    "   * `DateCrawled` — дата скачивания анкеты из базы\n",
    "   * `VehicleType` — тип автомобильного кузова\n",
    "   * `RegistrationYear` — год регистрации автомобиля\n",
    "   * `Gearbox` — тип коробки передач\n",
    "   * `Power` — мощность (л. с.)\n",
    "   * `Model` — модель автомобиля\n",
    "   * `Kilometer` — пробег (км)\n",
    "   * `RegistrationMonth` — месяц регистрации автомобиля\n",
    "   * `FuelType` — тип топлива\n",
    "   * `Brand` — марка автомобиля\n",
    "   * `Repaired` — была машина в ремонте или нет\n",
    "   * `DateCreated` — дата создания анкеты\n",
    "   * `NumberOfPictures` — количество фотографий автомобиля\n",
    "   * `PostalCode` — почтовый индекс владельца анкеты (пользователя)\n",
    "   * `LastSeen` — дата последней активности пользователя\n",
    "   \n",
    "   **Целевой признак:**\n",
    "   * `Price` — цена (евро)\n",
    "  \n",
    "\n",
    "2. Изучение данных. Заполнение пропущенных значений и обработка аномалий в столбцах. Удаление неинформативных признаков при их наличии.\n",
    "3. Подготовка выборок для обучения моделей.\n",
    "4. Обучение разных моделей, одна из которых — LightGBM, как минимум одна — не бустинг.\n",
    "5. Анализ времени обучения, времени предсказания и качества моделей.\n",
    "6. Опираясь на критерии заказчика, выбор лучшей модели, проверка её качества на тестовой выборке."
   ]
  },
  {
   "cell_type": "markdown",
   "metadata": {},
   "source": [
    "## Подготовка данных"
   ]
  },
  {
   "cell_type": "markdown",
   "metadata": {},
   "source": [
    "### Импорт библиотек"
   ]
  },
  {
   "cell_type": "markdown",
   "metadata": {},
   "source": [
    "**Импортируем все необходимые для работы библиотеки:**"
   ]
  },
  {
   "cell_type": "code",
   "execution_count": 1,
   "metadata": {},
   "outputs": [
    {
     "name": "stdout",
     "output_type": "stream",
     "text": [
      "Requirement already satisfied: lightgbm in /opt/conda/lib/python3.9/site-packages (3.3.1)\n",
      "Requirement already satisfied: scikit-learn!=0.22.0 in /opt/conda/lib/python3.9/site-packages (from lightgbm) (0.24.1)\n",
      "Requirement already satisfied: scipy in /opt/conda/lib/python3.9/site-packages (from lightgbm) (1.9.1)\n",
      "Requirement already satisfied: wheel in /opt/conda/lib/python3.9/site-packages (from lightgbm) (0.36.2)\n",
      "Requirement already satisfied: numpy in /opt/conda/lib/python3.9/site-packages (from lightgbm) (1.21.1)\n",
      "Requirement already satisfied: threadpoolctl>=2.0.0 in /opt/conda/lib/python3.9/site-packages (from scikit-learn!=0.22.0->lightgbm) (3.1.0)\n",
      "Requirement already satisfied: joblib>=0.11 in /opt/conda/lib/python3.9/site-packages (from scikit-learn!=0.22.0->lightgbm) (1.1.0)\n"
     ]
    }
   ],
   "source": [
    "!pip install lightgbm"
   ]
  },
  {
   "cell_type": "code",
   "execution_count": 2,
   "metadata": {},
   "outputs": [],
   "source": [
    "import warnings\n",
    "\n",
    "warnings.filterwarnings('ignore')\n",
    "\n",
    "import pandas as pd\n",
    "import matplotlib.pyplot as plt\n",
    "import seaborn as sns\n",
    "import numpy as np\n",
    "\n",
    "from catboost import CatBoostRegressor\n",
    "\n",
    "from sklearn.linear_model import LinearRegression\n",
    "from sklearn.ensemble import RandomForestRegressor\n",
    "\n",
    "from lightgbm import LGBMRegressor\n",
    "\n",
    "from sklearn.metrics import mean_squared_error\n",
    "from sklearn.metrics import make_scorer\n",
    "\n",
    "from sklearn.model_selection import train_test_split\n",
    "from sklearn.model_selection import RandomizedSearchCV\n",
    "\n",
    "from sklearn.preprocessing import StandardScaler\n",
    "from sklearn.preprocessing import OneHotEncoder, OrdinalEncoder\n",
    "\n",
    "import time"
   ]
  },
  {
   "cell_type": "markdown",
   "metadata": {},
   "source": [
    "### Чтение файла"
   ]
  },
  {
   "cell_type": "code",
   "execution_count": 3,
   "metadata": {},
   "outputs": [],
   "source": [
    "try:\n",
    "    \n",
    "    df = pd.read_csv(\"C:/Users/KreoS/Downloads/autos.csv\")\n",
    "except:\n",
    "    \n",
    "    df = pd.read_csv(\"/datasets/autos.csv\")"
   ]
  },
  {
   "cell_type": "markdown",
   "metadata": {},
   "source": [
    "### Изучение данных"
   ]
  },
  {
   "cell_type": "markdown",
   "metadata": {},
   "source": [
    "Выведем первые строки датафрейма:"
   ]
  },
  {
   "cell_type": "code",
   "execution_count": 4,
   "metadata": {},
   "outputs": [
    {
     "data": {
      "text/html": [
       "<div>\n",
       "<style scoped>\n",
       "    .dataframe tbody tr th:only-of-type {\n",
       "        vertical-align: middle;\n",
       "    }\n",
       "\n",
       "    .dataframe tbody tr th {\n",
       "        vertical-align: top;\n",
       "    }\n",
       "\n",
       "    .dataframe thead th {\n",
       "        text-align: right;\n",
       "    }\n",
       "</style>\n",
       "<table border=\"1\" class=\"dataframe\">\n",
       "  <thead>\n",
       "    <tr style=\"text-align: right;\">\n",
       "      <th></th>\n",
       "      <th>DateCrawled</th>\n",
       "      <th>Price</th>\n",
       "      <th>VehicleType</th>\n",
       "      <th>RegistrationYear</th>\n",
       "      <th>Gearbox</th>\n",
       "      <th>Power</th>\n",
       "      <th>Model</th>\n",
       "      <th>Kilometer</th>\n",
       "      <th>RegistrationMonth</th>\n",
       "      <th>FuelType</th>\n",
       "      <th>Brand</th>\n",
       "      <th>Repaired</th>\n",
       "      <th>DateCreated</th>\n",
       "      <th>NumberOfPictures</th>\n",
       "      <th>PostalCode</th>\n",
       "      <th>LastSeen</th>\n",
       "    </tr>\n",
       "  </thead>\n",
       "  <tbody>\n",
       "    <tr>\n",
       "      <th>0</th>\n",
       "      <td>2016-03-24 11:52:17</td>\n",
       "      <td>480</td>\n",
       "      <td>NaN</td>\n",
       "      <td>1993</td>\n",
       "      <td>manual</td>\n",
       "      <td>0</td>\n",
       "      <td>golf</td>\n",
       "      <td>150000</td>\n",
       "      <td>0</td>\n",
       "      <td>petrol</td>\n",
       "      <td>volkswagen</td>\n",
       "      <td>NaN</td>\n",
       "      <td>2016-03-24 00:00:00</td>\n",
       "      <td>0</td>\n",
       "      <td>70435</td>\n",
       "      <td>2016-04-07 03:16:57</td>\n",
       "    </tr>\n",
       "    <tr>\n",
       "      <th>1</th>\n",
       "      <td>2016-03-24 10:58:45</td>\n",
       "      <td>18300</td>\n",
       "      <td>coupe</td>\n",
       "      <td>2011</td>\n",
       "      <td>manual</td>\n",
       "      <td>190</td>\n",
       "      <td>NaN</td>\n",
       "      <td>125000</td>\n",
       "      <td>5</td>\n",
       "      <td>gasoline</td>\n",
       "      <td>audi</td>\n",
       "      <td>yes</td>\n",
       "      <td>2016-03-24 00:00:00</td>\n",
       "      <td>0</td>\n",
       "      <td>66954</td>\n",
       "      <td>2016-04-07 01:46:50</td>\n",
       "    </tr>\n",
       "    <tr>\n",
       "      <th>2</th>\n",
       "      <td>2016-03-14 12:52:21</td>\n",
       "      <td>9800</td>\n",
       "      <td>suv</td>\n",
       "      <td>2004</td>\n",
       "      <td>auto</td>\n",
       "      <td>163</td>\n",
       "      <td>grand</td>\n",
       "      <td>125000</td>\n",
       "      <td>8</td>\n",
       "      <td>gasoline</td>\n",
       "      <td>jeep</td>\n",
       "      <td>NaN</td>\n",
       "      <td>2016-03-14 00:00:00</td>\n",
       "      <td>0</td>\n",
       "      <td>90480</td>\n",
       "      <td>2016-04-05 12:47:46</td>\n",
       "    </tr>\n",
       "    <tr>\n",
       "      <th>3</th>\n",
       "      <td>2016-03-17 16:54:04</td>\n",
       "      <td>1500</td>\n",
       "      <td>small</td>\n",
       "      <td>2001</td>\n",
       "      <td>manual</td>\n",
       "      <td>75</td>\n",
       "      <td>golf</td>\n",
       "      <td>150000</td>\n",
       "      <td>6</td>\n",
       "      <td>petrol</td>\n",
       "      <td>volkswagen</td>\n",
       "      <td>no</td>\n",
       "      <td>2016-03-17 00:00:00</td>\n",
       "      <td>0</td>\n",
       "      <td>91074</td>\n",
       "      <td>2016-03-17 17:40:17</td>\n",
       "    </tr>\n",
       "    <tr>\n",
       "      <th>4</th>\n",
       "      <td>2016-03-31 17:25:20</td>\n",
       "      <td>3600</td>\n",
       "      <td>small</td>\n",
       "      <td>2008</td>\n",
       "      <td>manual</td>\n",
       "      <td>69</td>\n",
       "      <td>fabia</td>\n",
       "      <td>90000</td>\n",
       "      <td>7</td>\n",
       "      <td>gasoline</td>\n",
       "      <td>skoda</td>\n",
       "      <td>no</td>\n",
       "      <td>2016-03-31 00:00:00</td>\n",
       "      <td>0</td>\n",
       "      <td>60437</td>\n",
       "      <td>2016-04-06 10:17:21</td>\n",
       "    </tr>\n",
       "  </tbody>\n",
       "</table>\n",
       "</div>"
      ],
      "text/plain": [
       "           DateCrawled  Price VehicleType  RegistrationYear Gearbox  Power  \\\n",
       "0  2016-03-24 11:52:17    480         NaN              1993  manual      0   \n",
       "1  2016-03-24 10:58:45  18300       coupe              2011  manual    190   \n",
       "2  2016-03-14 12:52:21   9800         suv              2004    auto    163   \n",
       "3  2016-03-17 16:54:04   1500       small              2001  manual     75   \n",
       "4  2016-03-31 17:25:20   3600       small              2008  manual     69   \n",
       "\n",
       "   Model  Kilometer  RegistrationMonth  FuelType       Brand Repaired  \\\n",
       "0   golf     150000                  0    petrol  volkswagen      NaN   \n",
       "1    NaN     125000                  5  gasoline        audi      yes   \n",
       "2  grand     125000                  8  gasoline        jeep      NaN   \n",
       "3   golf     150000                  6    petrol  volkswagen       no   \n",
       "4  fabia      90000                  7  gasoline       skoda       no   \n",
       "\n",
       "           DateCreated  NumberOfPictures  PostalCode             LastSeen  \n",
       "0  2016-03-24 00:00:00                 0       70435  2016-04-07 03:16:57  \n",
       "1  2016-03-24 00:00:00                 0       66954  2016-04-07 01:46:50  \n",
       "2  2016-03-14 00:00:00                 0       90480  2016-04-05 12:47:46  \n",
       "3  2016-03-17 00:00:00                 0       91074  2016-03-17 17:40:17  \n",
       "4  2016-03-31 00:00:00                 0       60437  2016-04-06 10:17:21  "
      ]
     },
     "execution_count": 4,
     "metadata": {},
     "output_type": "execute_result"
    }
   ],
   "source": [
    "df.head()"
   ]
  },
  {
   "cell_type": "markdown",
   "metadata": {},
   "source": [
    "Выведем размеры таблицы:"
   ]
  },
  {
   "cell_type": "code",
   "execution_count": 5,
   "metadata": {},
   "outputs": [
    {
     "data": {
      "text/plain": [
       "(354369, 16)"
      ]
     },
     "execution_count": 5,
     "metadata": {},
     "output_type": "execute_result"
    }
   ],
   "source": [
    "df.shape"
   ]
  },
  {
   "cell_type": "markdown",
   "metadata": {},
   "source": [
    "Выведем общую информацию о датафрейме:"
   ]
  },
  {
   "cell_type": "code",
   "execution_count": 6,
   "metadata": {},
   "outputs": [
    {
     "name": "stdout",
     "output_type": "stream",
     "text": [
      "<class 'pandas.core.frame.DataFrame'>\n",
      "RangeIndex: 354369 entries, 0 to 354368\n",
      "Data columns (total 16 columns):\n",
      " #   Column             Non-Null Count   Dtype \n",
      "---  ------             --------------   ----- \n",
      " 0   DateCrawled        354369 non-null  object\n",
      " 1   Price              354369 non-null  int64 \n",
      " 2   VehicleType        316879 non-null  object\n",
      " 3   RegistrationYear   354369 non-null  int64 \n",
      " 4   Gearbox            334536 non-null  object\n",
      " 5   Power              354369 non-null  int64 \n",
      " 6   Model              334664 non-null  object\n",
      " 7   Kilometer          354369 non-null  int64 \n",
      " 8   RegistrationMonth  354369 non-null  int64 \n",
      " 9   FuelType           321474 non-null  object\n",
      " 10  Brand              354369 non-null  object\n",
      " 11  Repaired           283215 non-null  object\n",
      " 12  DateCreated        354369 non-null  object\n",
      " 13  NumberOfPictures   354369 non-null  int64 \n",
      " 14  PostalCode         354369 non-null  int64 \n",
      " 15  LastSeen           354369 non-null  object\n",
      "dtypes: int64(7), object(9)\n",
      "memory usage: 43.3+ MB\n"
     ]
    }
   ],
   "source": [
    "df.info()"
   ]
  },
  {
   "cell_type": "markdown",
   "metadata": {},
   "source": [
    "Выведем на экран основные статистики:"
   ]
  },
  {
   "cell_type": "code",
   "execution_count": 7,
   "metadata": {},
   "outputs": [
    {
     "data": {
      "text/html": [
       "<style  type=\"text/css\" >\n",
       "#T_35455_row0_col0,#T_35455_row0_col1,#T_35455_row0_col2,#T_35455_row0_col3,#T_35455_row0_col4,#T_35455_row0_col5,#T_35455_row0_col6{\n",
       "            background-color:  #800026;\n",
       "            color:  #f1f1f1;\n",
       "        }#T_35455_row1_col0,#T_35455_row2_col0{\n",
       "            background-color:  #fffdc8;\n",
       "            color:  #000000;\n",
       "        }#T_35455_row1_col1,#T_35455_row4_col1,#T_35455_row5_col0,#T_35455_row5_col1,#T_35455_row6_col1{\n",
       "            background-color:  #fffecb;\n",
       "            color:  #000000;\n",
       "        }#T_35455_row1_col2,#T_35455_row1_col4,#T_35455_row1_col5,#T_35455_row2_col1,#T_35455_row2_col2,#T_35455_row2_col4,#T_35455_row2_col5,#T_35455_row3_col0,#T_35455_row3_col1,#T_35455_row3_col2,#T_35455_row3_col3,#T_35455_row3_col4,#T_35455_row3_col5,#T_35455_row3_col6,#T_35455_row4_col0,#T_35455_row4_col2,#T_35455_row4_col4,#T_35455_row4_col5,#T_35455_row5_col2,#T_35455_row5_col4,#T_35455_row5_col5,#T_35455_row6_col2,#T_35455_row6_col4,#T_35455_row6_col5,#T_35455_row7_col4,#T_35455_row7_col5{\n",
       "            background-color:  #ffffcc;\n",
       "            color:  #000000;\n",
       "        }#T_35455_row1_col3{\n",
       "            background-color:  #feb953;\n",
       "            color:  #000000;\n",
       "        }#T_35455_row1_col6,#T_35455_row5_col6{\n",
       "            background-color:  #ffeb9c;\n",
       "            color:  #000000;\n",
       "        }#T_35455_row2_col3{\n",
       "            background-color:  #fff1ab;\n",
       "            color:  #000000;\n",
       "        }#T_35455_row2_col6{\n",
       "            background-color:  #fff5b5;\n",
       "            color:  #000000;\n",
       "        }#T_35455_row4_col3{\n",
       "            background-color:  #febd57;\n",
       "            color:  #000000;\n",
       "        }#T_35455_row4_col6{\n",
       "            background-color:  #fff3af;\n",
       "            color:  #000000;\n",
       "        }#T_35455_row5_col3,#T_35455_row6_col3,#T_35455_row7_col3{\n",
       "            background-color:  #fea647;\n",
       "            color:  #000000;\n",
       "        }#T_35455_row6_col0{\n",
       "            background-color:  #fffdc6;\n",
       "            color:  #000000;\n",
       "        }#T_35455_row6_col6{\n",
       "            background-color:  #fee288;\n",
       "            color:  #000000;\n",
       "        }#T_35455_row7_col0,#T_35455_row7_col2{\n",
       "            background-color:  #fff7b9;\n",
       "            color:  #000000;\n",
       "        }#T_35455_row7_col1{\n",
       "            background-color:  #fffbc2;\n",
       "            color:  #000000;\n",
       "        }#T_35455_row7_col6{\n",
       "            background-color:  #fed06c;\n",
       "            color:  #000000;\n",
       "        }</style><table id=\"T_35455_\" ><thead>    <tr>        <th class=\"blank level0\" ></th>        <th class=\"col_heading level0 col0\" >Price</th>        <th class=\"col_heading level0 col1\" >RegistrationYear</th>        <th class=\"col_heading level0 col2\" >Power</th>        <th class=\"col_heading level0 col3\" >Kilometer</th>        <th class=\"col_heading level0 col4\" >RegistrationMonth</th>        <th class=\"col_heading level0 col5\" >NumberOfPictures</th>        <th class=\"col_heading level0 col6\" >PostalCode</th>    </tr></thead><tbody>\n",
       "                <tr>\n",
       "                        <th id=\"T_35455_level0_row0\" class=\"row_heading level0 row0\" >count</th>\n",
       "                        <td id=\"T_35455_row0_col0\" class=\"data row0 col0\" >354369.000000</td>\n",
       "                        <td id=\"T_35455_row0_col1\" class=\"data row0 col1\" >354369.000000</td>\n",
       "                        <td id=\"T_35455_row0_col2\" class=\"data row0 col2\" >354369.000000</td>\n",
       "                        <td id=\"T_35455_row0_col3\" class=\"data row0 col3\" >354369.000000</td>\n",
       "                        <td id=\"T_35455_row0_col4\" class=\"data row0 col4\" >354369.000000</td>\n",
       "                        <td id=\"T_35455_row0_col5\" class=\"data row0 col5\" >354369.000000</td>\n",
       "                        <td id=\"T_35455_row0_col6\" class=\"data row0 col6\" >354369.000000</td>\n",
       "            </tr>\n",
       "            <tr>\n",
       "                        <th id=\"T_35455_level0_row1\" class=\"row_heading level0 row1\" >mean</th>\n",
       "                        <td id=\"T_35455_row1_col0\" class=\"data row1 col0\" >4416.656776</td>\n",
       "                        <td id=\"T_35455_row1_col1\" class=\"data row1 col1\" >2004.234448</td>\n",
       "                        <td id=\"T_35455_row1_col2\" class=\"data row1 col2\" >110.094337</td>\n",
       "                        <td id=\"T_35455_row1_col3\" class=\"data row1 col3\" >128211.172535</td>\n",
       "                        <td id=\"T_35455_row1_col4\" class=\"data row1 col4\" >5.714645</td>\n",
       "                        <td id=\"T_35455_row1_col5\" class=\"data row1 col5\" >0.000000</td>\n",
       "                        <td id=\"T_35455_row1_col6\" class=\"data row1 col6\" >50508.689087</td>\n",
       "            </tr>\n",
       "            <tr>\n",
       "                        <th id=\"T_35455_level0_row2\" class=\"row_heading level0 row2\" >std</th>\n",
       "                        <td id=\"T_35455_row2_col0\" class=\"data row2 col0\" >4514.158514</td>\n",
       "                        <td id=\"T_35455_row2_col1\" class=\"data row2 col1\" >90.227958</td>\n",
       "                        <td id=\"T_35455_row2_col2\" class=\"data row2 col2\" >189.850405</td>\n",
       "                        <td id=\"T_35455_row2_col3\" class=\"data row2 col3\" >37905.341530</td>\n",
       "                        <td id=\"T_35455_row2_col4\" class=\"data row2 col4\" >3.726421</td>\n",
       "                        <td id=\"T_35455_row2_col5\" class=\"data row2 col5\" >0.000000</td>\n",
       "                        <td id=\"T_35455_row2_col6\" class=\"data row2 col6\" >25783.096248</td>\n",
       "            </tr>\n",
       "            <tr>\n",
       "                        <th id=\"T_35455_level0_row3\" class=\"row_heading level0 row3\" >min</th>\n",
       "                        <td id=\"T_35455_row3_col0\" class=\"data row3 col0\" >0.000000</td>\n",
       "                        <td id=\"T_35455_row3_col1\" class=\"data row3 col1\" >1000.000000</td>\n",
       "                        <td id=\"T_35455_row3_col2\" class=\"data row3 col2\" >0.000000</td>\n",
       "                        <td id=\"T_35455_row3_col3\" class=\"data row3 col3\" >5000.000000</td>\n",
       "                        <td id=\"T_35455_row3_col4\" class=\"data row3 col4\" >0.000000</td>\n",
       "                        <td id=\"T_35455_row3_col5\" class=\"data row3 col5\" >0.000000</td>\n",
       "                        <td id=\"T_35455_row3_col6\" class=\"data row3 col6\" >1067.000000</td>\n",
       "            </tr>\n",
       "            <tr>\n",
       "                        <th id=\"T_35455_level0_row4\" class=\"row_heading level0 row4\" >25%</th>\n",
       "                        <td id=\"T_35455_row4_col0\" class=\"data row4 col0\" >1050.000000</td>\n",
       "                        <td id=\"T_35455_row4_col1\" class=\"data row4 col1\" >1999.000000</td>\n",
       "                        <td id=\"T_35455_row4_col2\" class=\"data row4 col2\" >69.000000</td>\n",
       "                        <td id=\"T_35455_row4_col3\" class=\"data row4 col3\" >125000.000000</td>\n",
       "                        <td id=\"T_35455_row4_col4\" class=\"data row4 col4\" >3.000000</td>\n",
       "                        <td id=\"T_35455_row4_col5\" class=\"data row4 col5\" >0.000000</td>\n",
       "                        <td id=\"T_35455_row4_col6\" class=\"data row4 col6\" >30165.000000</td>\n",
       "            </tr>\n",
       "            <tr>\n",
       "                        <th id=\"T_35455_level0_row5\" class=\"row_heading level0 row5\" >50%</th>\n",
       "                        <td id=\"T_35455_row5_col0\" class=\"data row5 col0\" >2700.000000</td>\n",
       "                        <td id=\"T_35455_row5_col1\" class=\"data row5 col1\" >2003.000000</td>\n",
       "                        <td id=\"T_35455_row5_col2\" class=\"data row5 col2\" >105.000000</td>\n",
       "                        <td id=\"T_35455_row5_col3\" class=\"data row5 col3\" >150000.000000</td>\n",
       "                        <td id=\"T_35455_row5_col4\" class=\"data row5 col4\" >6.000000</td>\n",
       "                        <td id=\"T_35455_row5_col5\" class=\"data row5 col5\" >0.000000</td>\n",
       "                        <td id=\"T_35455_row5_col6\" class=\"data row5 col6\" >49413.000000</td>\n",
       "            </tr>\n",
       "            <tr>\n",
       "                        <th id=\"T_35455_level0_row6\" class=\"row_heading level0 row6\" >75%</th>\n",
       "                        <td id=\"T_35455_row6_col0\" class=\"data row6 col0\" >6400.000000</td>\n",
       "                        <td id=\"T_35455_row6_col1\" class=\"data row6 col1\" >2008.000000</td>\n",
       "                        <td id=\"T_35455_row6_col2\" class=\"data row6 col2\" >143.000000</td>\n",
       "                        <td id=\"T_35455_row6_col3\" class=\"data row6 col3\" >150000.000000</td>\n",
       "                        <td id=\"T_35455_row6_col4\" class=\"data row6 col4\" >9.000000</td>\n",
       "                        <td id=\"T_35455_row6_col5\" class=\"data row6 col5\" >0.000000</td>\n",
       "                        <td id=\"T_35455_row6_col6\" class=\"data row6 col6\" >71083.000000</td>\n",
       "            </tr>\n",
       "            <tr>\n",
       "                        <th id=\"T_35455_level0_row7\" class=\"row_heading level0 row7\" >max</th>\n",
       "                        <td id=\"T_35455_row7_col0\" class=\"data row7 col0\" >20000.000000</td>\n",
       "                        <td id=\"T_35455_row7_col1\" class=\"data row7 col1\" >9999.000000</td>\n",
       "                        <td id=\"T_35455_row7_col2\" class=\"data row7 col2\" >20000.000000</td>\n",
       "                        <td id=\"T_35455_row7_col3\" class=\"data row7 col3\" >150000.000000</td>\n",
       "                        <td id=\"T_35455_row7_col4\" class=\"data row7 col4\" >12.000000</td>\n",
       "                        <td id=\"T_35455_row7_col5\" class=\"data row7 col5\" >0.000000</td>\n",
       "                        <td id=\"T_35455_row7_col6\" class=\"data row7 col6\" >99998.000000</td>\n",
       "            </tr>\n",
       "    </tbody></table>"
      ],
      "text/plain": [
       "<pandas.io.formats.style.Styler at 0x7fde5097cb20>"
      ]
     },
     "execution_count": 7,
     "metadata": {},
     "output_type": "execute_result"
    }
   ],
   "source": [
    "df.describe().style.background_gradient('YlOrRd')"
   ]
  },
  {
   "cell_type": "markdown",
   "metadata": {},
   "source": [
    "Посмотрим на количество пропусков в столбцах:"
   ]
  },
  {
   "cell_type": "code",
   "execution_count": 8,
   "metadata": {},
   "outputs": [
    {
     "data": {
      "text/html": [
       "<style  type=\"text/css\" >\n",
       "#T_2022e_row0_col0,#T_2022e_row1_col0,#T_2022e_row3_col0,#T_2022e_row5_col0,#T_2022e_row7_col0,#T_2022e_row8_col0,#T_2022e_row10_col0,#T_2022e_row12_col0,#T_2022e_row13_col0,#T_2022e_row14_col0,#T_2022e_row15_col0{\n",
       "            background-color:  #3b4cc0;\n",
       "            color:  #f1f1f1;\n",
       "        }#T_2022e_row2_col0{\n",
       "            background-color:  #e3d9d3;\n",
       "            color:  #000000;\n",
       "        }#T_2022e_row4_col0{\n",
       "            background-color:  #97b8ff;\n",
       "            color:  #000000;\n",
       "        }#T_2022e_row6_col0{\n",
       "            background-color:  #96b7ff;\n",
       "            color:  #000000;\n",
       "        }#T_2022e_row9_col0{\n",
       "            background-color:  #d3dbe7;\n",
       "            color:  #000000;\n",
       "        }#T_2022e_row11_col0{\n",
       "            background-color:  #b40426;\n",
       "            color:  #f1f1f1;\n",
       "        }</style><table id=\"T_2022e_\" ><thead>    <tr>        <th class=\"blank level0\" ></th>        <th class=\"col_heading level0 col0\" >Кол-во пропусков</th>    </tr></thead><tbody>\n",
       "                <tr>\n",
       "                        <th id=\"T_2022e_level0_row0\" class=\"row_heading level0 row0\" >DateCrawled</th>\n",
       "                        <td id=\"T_2022e_row0_col0\" class=\"data row0 col0\" >0</td>\n",
       "            </tr>\n",
       "            <tr>\n",
       "                        <th id=\"T_2022e_level0_row1\" class=\"row_heading level0 row1\" >Price</th>\n",
       "                        <td id=\"T_2022e_row1_col0\" class=\"data row1 col0\" >0</td>\n",
       "            </tr>\n",
       "            <tr>\n",
       "                        <th id=\"T_2022e_level0_row2\" class=\"row_heading level0 row2\" >VehicleType</th>\n",
       "                        <td id=\"T_2022e_row2_col0\" class=\"data row2 col0\" >37490</td>\n",
       "            </tr>\n",
       "            <tr>\n",
       "                        <th id=\"T_2022e_level0_row3\" class=\"row_heading level0 row3\" >RegistrationYear</th>\n",
       "                        <td id=\"T_2022e_row3_col0\" class=\"data row3 col0\" >0</td>\n",
       "            </tr>\n",
       "            <tr>\n",
       "                        <th id=\"T_2022e_level0_row4\" class=\"row_heading level0 row4\" >Gearbox</th>\n",
       "                        <td id=\"T_2022e_row4_col0\" class=\"data row4 col0\" >19833</td>\n",
       "            </tr>\n",
       "            <tr>\n",
       "                        <th id=\"T_2022e_level0_row5\" class=\"row_heading level0 row5\" >Power</th>\n",
       "                        <td id=\"T_2022e_row5_col0\" class=\"data row5 col0\" >0</td>\n",
       "            </tr>\n",
       "            <tr>\n",
       "                        <th id=\"T_2022e_level0_row6\" class=\"row_heading level0 row6\" >Model</th>\n",
       "                        <td id=\"T_2022e_row6_col0\" class=\"data row6 col0\" >19705</td>\n",
       "            </tr>\n",
       "            <tr>\n",
       "                        <th id=\"T_2022e_level0_row7\" class=\"row_heading level0 row7\" >Kilometer</th>\n",
       "                        <td id=\"T_2022e_row7_col0\" class=\"data row7 col0\" >0</td>\n",
       "            </tr>\n",
       "            <tr>\n",
       "                        <th id=\"T_2022e_level0_row8\" class=\"row_heading level0 row8\" >RegistrationMonth</th>\n",
       "                        <td id=\"T_2022e_row8_col0\" class=\"data row8 col0\" >0</td>\n",
       "            </tr>\n",
       "            <tr>\n",
       "                        <th id=\"T_2022e_level0_row9\" class=\"row_heading level0 row9\" >FuelType</th>\n",
       "                        <td id=\"T_2022e_row9_col0\" class=\"data row9 col0\" >32895</td>\n",
       "            </tr>\n",
       "            <tr>\n",
       "                        <th id=\"T_2022e_level0_row10\" class=\"row_heading level0 row10\" >Brand</th>\n",
       "                        <td id=\"T_2022e_row10_col0\" class=\"data row10 col0\" >0</td>\n",
       "            </tr>\n",
       "            <tr>\n",
       "                        <th id=\"T_2022e_level0_row11\" class=\"row_heading level0 row11\" >Repaired</th>\n",
       "                        <td id=\"T_2022e_row11_col0\" class=\"data row11 col0\" >71154</td>\n",
       "            </tr>\n",
       "            <tr>\n",
       "                        <th id=\"T_2022e_level0_row12\" class=\"row_heading level0 row12\" >DateCreated</th>\n",
       "                        <td id=\"T_2022e_row12_col0\" class=\"data row12 col0\" >0</td>\n",
       "            </tr>\n",
       "            <tr>\n",
       "                        <th id=\"T_2022e_level0_row13\" class=\"row_heading level0 row13\" >NumberOfPictures</th>\n",
       "                        <td id=\"T_2022e_row13_col0\" class=\"data row13 col0\" >0</td>\n",
       "            </tr>\n",
       "            <tr>\n",
       "                        <th id=\"T_2022e_level0_row14\" class=\"row_heading level0 row14\" >PostalCode</th>\n",
       "                        <td id=\"T_2022e_row14_col0\" class=\"data row14 col0\" >0</td>\n",
       "            </tr>\n",
       "            <tr>\n",
       "                        <th id=\"T_2022e_level0_row15\" class=\"row_heading level0 row15\" >LastSeen</th>\n",
       "                        <td id=\"T_2022e_row15_col0\" class=\"data row15 col0\" >0</td>\n",
       "            </tr>\n",
       "    </tbody></table>"
      ],
      "text/plain": [
       "<pandas.io.formats.style.Styler at 0x7fde50421d30>"
      ]
     },
     "execution_count": 8,
     "metadata": {},
     "output_type": "execute_result"
    }
   ],
   "source": [
    "pd.DataFrame(df.isna().sum(), columns=['Кол-во пропусков']).style.background_gradient('coolwarm')"
   ]
  },
  {
   "cell_type": "markdown",
   "metadata": {},
   "source": [
    "Посмотрим на процентное соотношение пропусков:"
   ]
  },
  {
   "cell_type": "code",
   "execution_count": 9,
   "metadata": {},
   "outputs": [
    {
     "data": {
      "text/html": [
       "<style  type=\"text/css\" >\n",
       "#T_52f8d_row0_col0,#T_52f8d_row1_col0,#T_52f8d_row3_col0,#T_52f8d_row5_col0,#T_52f8d_row7_col0,#T_52f8d_row8_col0,#T_52f8d_row10_col0,#T_52f8d_row12_col0,#T_52f8d_row13_col0,#T_52f8d_row14_col0,#T_52f8d_row15_col0{\n",
       "            background-color:  #3b4cc0;\n",
       "            color:  #f1f1f1;\n",
       "        }#T_52f8d_row2_col0{\n",
       "            background-color:  #e3d9d3;\n",
       "            color:  #000000;\n",
       "        }#T_52f8d_row4_col0{\n",
       "            background-color:  #97b8ff;\n",
       "            color:  #000000;\n",
       "        }#T_52f8d_row6_col0{\n",
       "            background-color:  #96b7ff;\n",
       "            color:  #000000;\n",
       "        }#T_52f8d_row9_col0{\n",
       "            background-color:  #d3dbe7;\n",
       "            color:  #000000;\n",
       "        }#T_52f8d_row11_col0{\n",
       "            background-color:  #b40426;\n",
       "            color:  #f1f1f1;\n",
       "        }</style><table id=\"T_52f8d_\" ><thead>    <tr>        <th class=\"blank level0\" ></th>        <th class=\"col_heading level0 col0\" >%</th>    </tr></thead><tbody>\n",
       "                <tr>\n",
       "                        <th id=\"T_52f8d_level0_row0\" class=\"row_heading level0 row0\" >DateCrawled</th>\n",
       "                        <td id=\"T_52f8d_row0_col0\" class=\"data row0 col0\" >0.000000</td>\n",
       "            </tr>\n",
       "            <tr>\n",
       "                        <th id=\"T_52f8d_level0_row1\" class=\"row_heading level0 row1\" >Price</th>\n",
       "                        <td id=\"T_52f8d_row1_col0\" class=\"data row1 col0\" >0.000000</td>\n",
       "            </tr>\n",
       "            <tr>\n",
       "                        <th id=\"T_52f8d_level0_row2\" class=\"row_heading level0 row2\" >VehicleType</th>\n",
       "                        <td id=\"T_52f8d_row2_col0\" class=\"data row2 col0\" >10.580000</td>\n",
       "            </tr>\n",
       "            <tr>\n",
       "                        <th id=\"T_52f8d_level0_row3\" class=\"row_heading level0 row3\" >RegistrationYear</th>\n",
       "                        <td id=\"T_52f8d_row3_col0\" class=\"data row3 col0\" >0.000000</td>\n",
       "            </tr>\n",
       "            <tr>\n",
       "                        <th id=\"T_52f8d_level0_row4\" class=\"row_heading level0 row4\" >Gearbox</th>\n",
       "                        <td id=\"T_52f8d_row4_col0\" class=\"data row4 col0\" >5.600000</td>\n",
       "            </tr>\n",
       "            <tr>\n",
       "                        <th id=\"T_52f8d_level0_row5\" class=\"row_heading level0 row5\" >Power</th>\n",
       "                        <td id=\"T_52f8d_row5_col0\" class=\"data row5 col0\" >0.000000</td>\n",
       "            </tr>\n",
       "            <tr>\n",
       "                        <th id=\"T_52f8d_level0_row6\" class=\"row_heading level0 row6\" >Model</th>\n",
       "                        <td id=\"T_52f8d_row6_col0\" class=\"data row6 col0\" >5.560000</td>\n",
       "            </tr>\n",
       "            <tr>\n",
       "                        <th id=\"T_52f8d_level0_row7\" class=\"row_heading level0 row7\" >Kilometer</th>\n",
       "                        <td id=\"T_52f8d_row7_col0\" class=\"data row7 col0\" >0.000000</td>\n",
       "            </tr>\n",
       "            <tr>\n",
       "                        <th id=\"T_52f8d_level0_row8\" class=\"row_heading level0 row8\" >RegistrationMonth</th>\n",
       "                        <td id=\"T_52f8d_row8_col0\" class=\"data row8 col0\" >0.000000</td>\n",
       "            </tr>\n",
       "            <tr>\n",
       "                        <th id=\"T_52f8d_level0_row9\" class=\"row_heading level0 row9\" >FuelType</th>\n",
       "                        <td id=\"T_52f8d_row9_col0\" class=\"data row9 col0\" >9.280000</td>\n",
       "            </tr>\n",
       "            <tr>\n",
       "                        <th id=\"T_52f8d_level0_row10\" class=\"row_heading level0 row10\" >Brand</th>\n",
       "                        <td id=\"T_52f8d_row10_col0\" class=\"data row10 col0\" >0.000000</td>\n",
       "            </tr>\n",
       "            <tr>\n",
       "                        <th id=\"T_52f8d_level0_row11\" class=\"row_heading level0 row11\" >Repaired</th>\n",
       "                        <td id=\"T_52f8d_row11_col0\" class=\"data row11 col0\" >20.080000</td>\n",
       "            </tr>\n",
       "            <tr>\n",
       "                        <th id=\"T_52f8d_level0_row12\" class=\"row_heading level0 row12\" >DateCreated</th>\n",
       "                        <td id=\"T_52f8d_row12_col0\" class=\"data row12 col0\" >0.000000</td>\n",
       "            </tr>\n",
       "            <tr>\n",
       "                        <th id=\"T_52f8d_level0_row13\" class=\"row_heading level0 row13\" >NumberOfPictures</th>\n",
       "                        <td id=\"T_52f8d_row13_col0\" class=\"data row13 col0\" >0.000000</td>\n",
       "            </tr>\n",
       "            <tr>\n",
       "                        <th id=\"T_52f8d_level0_row14\" class=\"row_heading level0 row14\" >PostalCode</th>\n",
       "                        <td id=\"T_52f8d_row14_col0\" class=\"data row14 col0\" >0.000000</td>\n",
       "            </tr>\n",
       "            <tr>\n",
       "                        <th id=\"T_52f8d_level0_row15\" class=\"row_heading level0 row15\" >LastSeen</th>\n",
       "                        <td id=\"T_52f8d_row15_col0\" class=\"data row15 col0\" >0.000000</td>\n",
       "            </tr>\n",
       "    </tbody></table>"
      ],
      "text/plain": [
       "<pandas.io.formats.style.Styler at 0x7fde507d59a0>"
      ]
     },
     "execution_count": 9,
     "metadata": {},
     "output_type": "execute_result"
    }
   ],
   "source": [
    "pd.DataFrame(round(df.isna().mean() * 100, 2), columns=['%']).style.background_gradient('coolwarm')"
   ]
  },
  {
   "cell_type": "markdown",
   "metadata": {},
   "source": [
    "### Приведение столбцов к `змеиному_регистру`"
   ]
  },
  {
   "cell_type": "markdown",
   "metadata": {},
   "source": [
    "Столбцы сейчас не приведены к общему стандарту. Поэтому приведем их к нему:"
   ]
  },
  {
   "cell_type": "code",
   "execution_count": 10,
   "metadata": {},
   "outputs": [],
   "source": [
    "df.columns = [x.lower() for x in df.columns] # приведение столбцов к змеиному регистру"
   ]
  },
  {
   "cell_type": "code",
   "execution_count": 11,
   "metadata": {},
   "outputs": [],
   "source": [
    "df = df.rename(                              # переименование столбцов\n",
    "    columns={\n",
    "        'datecrawled': 'date_crawled',\n",
    "        'vehicletype': 'vehicle_type',\n",
    "        'registrationyear': 'registration_year',\n",
    "        'registrationmonth': 'registration_month',\n",
    "        'fueltype': 'fuel_type',\n",
    "        'datecreated': 'date_created',\n",
    "        'numberofpictures': 'number_of_pictures',\n",
    "        'postalcode': 'postal_code',\n",
    "        'lastseen': 'last_seen'\n",
    "    })"
   ]
  },
  {
   "cell_type": "markdown",
   "metadata": {},
   "source": [
    "Выведем названия переименованных столбцов, чтобы убедиться, что столбцы были успешно приведены к `змеиному_регистру`:"
   ]
  },
  {
   "cell_type": "code",
   "execution_count": 12,
   "metadata": {},
   "outputs": [
    {
     "data": {
      "text/plain": [
       "['date_crawled',\n",
       " 'price',\n",
       " 'vehicle_type',\n",
       " 'registration_year',\n",
       " 'gearbox',\n",
       " 'power',\n",
       " 'model',\n",
       " 'kilometer',\n",
       " 'registration_month',\n",
       " 'fuel_type',\n",
       " 'brand',\n",
       " 'repaired',\n",
       " 'date_created',\n",
       " 'number_of_pictures',\n",
       " 'postal_code',\n",
       " 'last_seen']"
      ]
     },
     "execution_count": 12,
     "metadata": {},
     "output_type": "execute_result"
    }
   ],
   "source": [
    "df.columns.to_list() # вывод названий столбцов списком"
   ]
  },
  {
   "cell_type": "markdown",
   "metadata": {},
   "source": [
    "### Проверка на явные дубликаты"
   ]
  },
  {
   "cell_type": "code",
   "execution_count": 13,
   "metadata": {},
   "outputs": [
    {
     "data": {
      "text/plain": [
       "4"
      ]
     },
     "execution_count": 13,
     "metadata": {},
     "output_type": "execute_result"
    }
   ],
   "source": [
    "df.duplicated().sum()"
   ]
  },
  {
   "cell_type": "markdown",
   "metadata": {},
   "source": [
    "В данных присутствуют 4 явных строки-дубликата. Удалим их:"
   ]
  },
  {
   "cell_type": "code",
   "execution_count": 14,
   "metadata": {},
   "outputs": [],
   "source": [
    "df = df.drop_duplicates()"
   ]
  },
  {
   "cell_type": "code",
   "execution_count": 15,
   "metadata": {},
   "outputs": [
    {
     "data": {
      "text/plain": [
       "0"
      ]
     },
     "execution_count": 15,
     "metadata": {},
     "output_type": "execute_result"
    }
   ],
   "source": [
    "df.duplicated().sum()"
   ]
  },
  {
   "cell_type": "markdown",
   "metadata": {},
   "source": [
    "### Удаление лишних столбцов"
   ]
  },
  {
   "cell_type": "markdown",
   "metadata": {},
   "source": [
    "Такие столбцы, как `date_crawled`, `date_created`, `number_of_pictures`, `last_seen`, `postal_code` - не значимые признаки, они никак не влияют на предсказание цены автомобиля, поэтому \n",
    "соответствующие столбцы можно удалить."
   ]
  },
  {
   "cell_type": "code",
   "execution_count": 16,
   "metadata": {},
   "outputs": [],
   "source": [
    "df = df.drop([                                                                    # удаление столбцов из датафрейма\n",
    "    'date_crawled', 'date_created',\n",
    "    'number_of_pictures', 'postal_code', 'last_seen'\n",
    "],\n",
    "             axis=1)"
   ]
  },
  {
   "cell_type": "markdown",
   "metadata": {},
   "source": [
    "Выведем первые 5 строк датафрейма:"
   ]
  },
  {
   "cell_type": "code",
   "execution_count": 17,
   "metadata": {
    "scrolled": true
   },
   "outputs": [
    {
     "data": {
      "text/html": [
       "<div>\n",
       "<style scoped>\n",
       "    .dataframe tbody tr th:only-of-type {\n",
       "        vertical-align: middle;\n",
       "    }\n",
       "\n",
       "    .dataframe tbody tr th {\n",
       "        vertical-align: top;\n",
       "    }\n",
       "\n",
       "    .dataframe thead th {\n",
       "        text-align: right;\n",
       "    }\n",
       "</style>\n",
       "<table border=\"1\" class=\"dataframe\">\n",
       "  <thead>\n",
       "    <tr style=\"text-align: right;\">\n",
       "      <th></th>\n",
       "      <th>price</th>\n",
       "      <th>vehicle_type</th>\n",
       "      <th>registration_year</th>\n",
       "      <th>gearbox</th>\n",
       "      <th>power</th>\n",
       "      <th>model</th>\n",
       "      <th>kilometer</th>\n",
       "      <th>registration_month</th>\n",
       "      <th>fuel_type</th>\n",
       "      <th>brand</th>\n",
       "      <th>repaired</th>\n",
       "    </tr>\n",
       "  </thead>\n",
       "  <tbody>\n",
       "    <tr>\n",
       "      <th>0</th>\n",
       "      <td>480</td>\n",
       "      <td>NaN</td>\n",
       "      <td>1993</td>\n",
       "      <td>manual</td>\n",
       "      <td>0</td>\n",
       "      <td>golf</td>\n",
       "      <td>150000</td>\n",
       "      <td>0</td>\n",
       "      <td>petrol</td>\n",
       "      <td>volkswagen</td>\n",
       "      <td>NaN</td>\n",
       "    </tr>\n",
       "    <tr>\n",
       "      <th>1</th>\n",
       "      <td>18300</td>\n",
       "      <td>coupe</td>\n",
       "      <td>2011</td>\n",
       "      <td>manual</td>\n",
       "      <td>190</td>\n",
       "      <td>NaN</td>\n",
       "      <td>125000</td>\n",
       "      <td>5</td>\n",
       "      <td>gasoline</td>\n",
       "      <td>audi</td>\n",
       "      <td>yes</td>\n",
       "    </tr>\n",
       "    <tr>\n",
       "      <th>2</th>\n",
       "      <td>9800</td>\n",
       "      <td>suv</td>\n",
       "      <td>2004</td>\n",
       "      <td>auto</td>\n",
       "      <td>163</td>\n",
       "      <td>grand</td>\n",
       "      <td>125000</td>\n",
       "      <td>8</td>\n",
       "      <td>gasoline</td>\n",
       "      <td>jeep</td>\n",
       "      <td>NaN</td>\n",
       "    </tr>\n",
       "    <tr>\n",
       "      <th>3</th>\n",
       "      <td>1500</td>\n",
       "      <td>small</td>\n",
       "      <td>2001</td>\n",
       "      <td>manual</td>\n",
       "      <td>75</td>\n",
       "      <td>golf</td>\n",
       "      <td>150000</td>\n",
       "      <td>6</td>\n",
       "      <td>petrol</td>\n",
       "      <td>volkswagen</td>\n",
       "      <td>no</td>\n",
       "    </tr>\n",
       "    <tr>\n",
       "      <th>4</th>\n",
       "      <td>3600</td>\n",
       "      <td>small</td>\n",
       "      <td>2008</td>\n",
       "      <td>manual</td>\n",
       "      <td>69</td>\n",
       "      <td>fabia</td>\n",
       "      <td>90000</td>\n",
       "      <td>7</td>\n",
       "      <td>gasoline</td>\n",
       "      <td>skoda</td>\n",
       "      <td>no</td>\n",
       "    </tr>\n",
       "  </tbody>\n",
       "</table>\n",
       "</div>"
      ],
      "text/plain": [
       "   price vehicle_type  registration_year gearbox  power  model  kilometer  \\\n",
       "0    480          NaN               1993  manual      0   golf     150000   \n",
       "1  18300        coupe               2011  manual    190    NaN     125000   \n",
       "2   9800          suv               2004    auto    163  grand     125000   \n",
       "3   1500        small               2001  manual     75   golf     150000   \n",
       "4   3600        small               2008  manual     69  fabia      90000   \n",
       "\n",
       "   registration_month fuel_type       brand repaired  \n",
       "0                   0    petrol  volkswagen      NaN  \n",
       "1                   5  gasoline        audi      yes  \n",
       "2                   8  gasoline        jeep      NaN  \n",
       "3                   6    petrol  volkswagen       no  \n",
       "4                   7  gasoline       skoda       no  "
      ]
     },
     "execution_count": 17,
     "metadata": {},
     "output_type": "execute_result"
    }
   ],
   "source": [
    "df.head()"
   ]
  },
  {
   "cell_type": "markdown",
   "metadata": {},
   "source": [
    "Столбцы были успешно удалены."
   ]
  },
  {
   "cell_type": "markdown",
   "metadata": {},
   "source": [
    "После удаления столбцов с датами проверим еще раз наш датасет на дубликаты:"
   ]
  },
  {
   "cell_type": "code",
   "execution_count": 18,
   "metadata": {},
   "outputs": [
    {
     "data": {
      "text/plain": [
       "27539"
      ]
     },
     "execution_count": 18,
     "metadata": {},
     "output_type": "execute_result"
    }
   ],
   "source": [
    "df.duplicated().sum()"
   ]
  },
  {
   "cell_type": "markdown",
   "metadata": {},
   "source": [
    "Удалим дубликаты:"
   ]
  },
  {
   "cell_type": "code",
   "execution_count": 19,
   "metadata": {},
   "outputs": [],
   "source": [
    "df = df.drop_duplicates()"
   ]
  },
  {
   "cell_type": "code",
   "execution_count": 20,
   "metadata": {},
   "outputs": [
    {
     "data": {
      "text/plain": [
       "0"
      ]
     },
     "execution_count": 20,
     "metadata": {},
     "output_type": "execute_result"
    }
   ],
   "source": [
    "df.duplicated().sum()"
   ]
  },
  {
   "cell_type": "markdown",
   "metadata": {},
   "source": [
    "### Работа с пропусками"
   ]
  },
  {
   "cell_type": "markdown",
   "metadata": {},
   "source": [
    "Столбцы `gearbox` и `model` имеют примерно 5.5% пропусков. Удплим пропуски в этих столбцах:"
   ]
  },
  {
   "cell_type": "code",
   "execution_count": 21,
   "metadata": {},
   "outputs": [],
   "source": [
    "df = df.dropna(subset=['gearbox', 'model']).reset_index(drop=True)"
   ]
  },
  {
   "cell_type": "markdown",
   "metadata": {},
   "source": [
    "Пропуски в столбце `vehicle_type` составляют больше 10 %. Удалять такое количество пропусков нельзя. Заполним пропуски в этом столбце на значение `other`."
   ]
  },
  {
   "cell_type": "code",
   "execution_count": 22,
   "metadata": {},
   "outputs": [],
   "source": [
    "df['vehicle_type'] = df['vehicle_type'].fillna(value='other')"
   ]
  },
  {
   "cell_type": "code",
   "execution_count": 23,
   "metadata": {},
   "outputs": [
    {
     "data": {
      "text/plain": [
       "0"
      ]
     },
     "execution_count": 23,
     "metadata": {},
     "output_type": "execute_result"
    }
   ],
   "source": [
    "df['vehicle_type'].isna().sum()"
   ]
  },
  {
   "cell_type": "markdown",
   "metadata": {},
   "source": [
    "Посмотрим на уникальные значения столбца данного столбца:"
   ]
  },
  {
   "cell_type": "code",
   "execution_count": 24,
   "metadata": {},
   "outputs": [
    {
     "data": {
      "text/plain": [
       "array(['other', 'suv', 'small', 'sedan', 'convertible', 'bus', 'wagon',\n",
       "       'coupe'], dtype=object)"
      ]
     },
     "execution_count": 24,
     "metadata": {},
     "output_type": "execute_result"
    }
   ],
   "source": [
    "df['vehicle_type'].unique()"
   ]
  },
  {
   "cell_type": "markdown",
   "metadata": {},
   "source": [
    "Посмотрим на уникальные значения столбца `fuel_type`:"
   ]
  },
  {
   "cell_type": "code",
   "execution_count": 25,
   "metadata": {},
   "outputs": [
    {
     "data": {
      "text/plain": [
       "array(['petrol', 'gasoline', nan, 'lpg', 'other', 'hybrid', 'cng',\n",
       "       'electric'], dtype=object)"
      ]
     },
     "execution_count": 25,
     "metadata": {},
     "output_type": "execute_result"
    }
   ],
   "source": [
    "df['fuel_type'].unique()"
   ]
  },
  {
   "cell_type": "markdown",
   "metadata": {},
   "source": [
    "Как мы видим, в списке уникальных значений есть значение `other`. Возможно в списке выбора топлива не было необходимого варианта, поэтому возможно некоторые люди не заполняли эту графу, поэтому заменим пропуски на значение `other`:"
   ]
  },
  {
   "cell_type": "code",
   "execution_count": 26,
   "metadata": {},
   "outputs": [],
   "source": [
    "df['fuel_type'] = df['fuel_type'].fillna(value='other')"
   ]
  },
  {
   "cell_type": "markdown",
   "metadata": {},
   "source": [
    "Пропуски в столбце `repaired` могут означать, что авто не чинилось. Заменим пропуски на `no`:"
   ]
  },
  {
   "cell_type": "code",
   "execution_count": 27,
   "metadata": {},
   "outputs": [],
   "source": [
    "df['repaired'] = df['repaired'].fillna(value='no')"
   ]
  },
  {
   "cell_type": "markdown",
   "metadata": {},
   "source": [
    "Проверим ещё раз пропуски:"
   ]
  },
  {
   "cell_type": "code",
   "execution_count": 28,
   "metadata": {},
   "outputs": [
    {
     "data": {
      "text/html": [
       "<style  type=\"text/css\" >\n",
       "#T_67c85_row0_col0,#T_67c85_row1_col0,#T_67c85_row2_col0,#T_67c85_row3_col0,#T_67c85_row4_col0,#T_67c85_row5_col0,#T_67c85_row6_col0,#T_67c85_row7_col0,#T_67c85_row8_col0,#T_67c85_row9_col0,#T_67c85_row10_col0{\n",
       "            background-color:  #3b4cc0;\n",
       "            color:  #f1f1f1;\n",
       "        }</style><table id=\"T_67c85_\" ><thead>    <tr>        <th class=\"blank level0\" ></th>        <th class=\"col_heading level0 col0\" >Кол-во пропусков</th>    </tr></thead><tbody>\n",
       "                <tr>\n",
       "                        <th id=\"T_67c85_level0_row0\" class=\"row_heading level0 row0\" >price</th>\n",
       "                        <td id=\"T_67c85_row0_col0\" class=\"data row0 col0\" >0</td>\n",
       "            </tr>\n",
       "            <tr>\n",
       "                        <th id=\"T_67c85_level0_row1\" class=\"row_heading level0 row1\" >vehicle_type</th>\n",
       "                        <td id=\"T_67c85_row1_col0\" class=\"data row1 col0\" >0</td>\n",
       "            </tr>\n",
       "            <tr>\n",
       "                        <th id=\"T_67c85_level0_row2\" class=\"row_heading level0 row2\" >registration_year</th>\n",
       "                        <td id=\"T_67c85_row2_col0\" class=\"data row2 col0\" >0</td>\n",
       "            </tr>\n",
       "            <tr>\n",
       "                        <th id=\"T_67c85_level0_row3\" class=\"row_heading level0 row3\" >gearbox</th>\n",
       "                        <td id=\"T_67c85_row3_col0\" class=\"data row3 col0\" >0</td>\n",
       "            </tr>\n",
       "            <tr>\n",
       "                        <th id=\"T_67c85_level0_row4\" class=\"row_heading level0 row4\" >power</th>\n",
       "                        <td id=\"T_67c85_row4_col0\" class=\"data row4 col0\" >0</td>\n",
       "            </tr>\n",
       "            <tr>\n",
       "                        <th id=\"T_67c85_level0_row5\" class=\"row_heading level0 row5\" >model</th>\n",
       "                        <td id=\"T_67c85_row5_col0\" class=\"data row5 col0\" >0</td>\n",
       "            </tr>\n",
       "            <tr>\n",
       "                        <th id=\"T_67c85_level0_row6\" class=\"row_heading level0 row6\" >kilometer</th>\n",
       "                        <td id=\"T_67c85_row6_col0\" class=\"data row6 col0\" >0</td>\n",
       "            </tr>\n",
       "            <tr>\n",
       "                        <th id=\"T_67c85_level0_row7\" class=\"row_heading level0 row7\" >registration_month</th>\n",
       "                        <td id=\"T_67c85_row7_col0\" class=\"data row7 col0\" >0</td>\n",
       "            </tr>\n",
       "            <tr>\n",
       "                        <th id=\"T_67c85_level0_row8\" class=\"row_heading level0 row8\" >fuel_type</th>\n",
       "                        <td id=\"T_67c85_row8_col0\" class=\"data row8 col0\" >0</td>\n",
       "            </tr>\n",
       "            <tr>\n",
       "                        <th id=\"T_67c85_level0_row9\" class=\"row_heading level0 row9\" >brand</th>\n",
       "                        <td id=\"T_67c85_row9_col0\" class=\"data row9 col0\" >0</td>\n",
       "            </tr>\n",
       "            <tr>\n",
       "                        <th id=\"T_67c85_level0_row10\" class=\"row_heading level0 row10\" >repaired</th>\n",
       "                        <td id=\"T_67c85_row10_col0\" class=\"data row10 col0\" >0</td>\n",
       "            </tr>\n",
       "    </tbody></table>"
      ],
      "text/plain": [
       "<pandas.io.formats.style.Styler at 0x7fde50868940>"
      ]
     },
     "execution_count": 28,
     "metadata": {},
     "output_type": "execute_result"
    }
   ],
   "source": [
    "pd.DataFrame(df.isna().sum(), columns=['Кол-во пропусков']).style.background_gradient('coolwarm')"
   ]
  },
  {
   "cell_type": "markdown",
   "metadata": {},
   "source": [
    "Все пропуски были удалены/заполнены."
   ]
  },
  {
   "cell_type": "markdown",
   "metadata": {},
   "source": [
    "### Работа с аномальными значениями"
   ]
  },
  {
   "cell_type": "markdown",
   "metadata": {},
   "source": [
    "Из таблицы с основными статистиками мы видим, что в данных присутствуют автомобили с нулевыми стоимостью и мощностью, а также год регистрации самый поздний 9999, а самый ранний 1000. Скорее всего это ошибка Вряд ли на рынке можно найти иномарку с ценой меньше 1000 евро, поэтому уберём строки, в которых значения цен меньше 1000 евро. Также сделаем срез по мощности с условием, что она больше 50, но меньше лошадиных сил. Так же уберем строки, в которых год меньше 1950 и больше 2016."
   ]
  },
  {
   "cell_type": "code",
   "execution_count": 29,
   "metadata": {},
   "outputs": [],
   "source": [
    "df = df.loc[(df['price'] > 1000) & (df['power'] > 50) & (df['power'] < 500) &\n",
    "            (df['registration_year'] <= 2016) &\n",
    "            (df['registration_year'] >= 1950)]"
   ]
  },
  {
   "cell_type": "markdown",
   "metadata": {},
   "source": [
    "Посмотрим на размер данных после предобработки:"
   ]
  },
  {
   "cell_type": "code",
   "execution_count": 30,
   "metadata": {},
   "outputs": [
    {
     "data": {
      "text/plain": [
       "(204929, 11)"
      ]
     },
     "execution_count": 30,
     "metadata": {},
     "output_type": "execute_result"
    }
   ],
   "source": [
    "df.shape"
   ]
  },
  {
   "cell_type": "markdown",
   "metadata": {},
   "source": [
    "## Обучение моделей"
   ]
  },
  {
   "cell_type": "markdown",
   "metadata": {},
   "source": [
    "### Деление данных на выборки"
   ]
  },
  {
   "cell_type": "markdown",
   "metadata": {},
   "source": [
    "Поделим данные на обучающую, валидационную и тестовую выборки:"
   ]
  },
  {
   "cell_type": "code",
   "execution_count": 31,
   "metadata": {},
   "outputs": [],
   "source": [
    "df_train, df_valid_test = train_test_split(df, test_size=0.4, random_state=12345)\n",
    "df_valid, df_test = train_test_split(df_valid_test, test_size=0.5, random_state=12345)"
   ]
  },
  {
   "cell_type": "markdown",
   "metadata": {},
   "source": [
    "Сбросим индексы:"
   ]
  },
  {
   "cell_type": "code",
   "execution_count": 32,
   "metadata": {},
   "outputs": [
    {
     "data": {
      "text/html": [
       "<div>\n",
       "<style scoped>\n",
       "    .dataframe tbody tr th:only-of-type {\n",
       "        vertical-align: middle;\n",
       "    }\n",
       "\n",
       "    .dataframe tbody tr th {\n",
       "        vertical-align: top;\n",
       "    }\n",
       "\n",
       "    .dataframe thead th {\n",
       "        text-align: right;\n",
       "    }\n",
       "</style>\n",
       "<table border=\"1\" class=\"dataframe\">\n",
       "  <thead>\n",
       "    <tr style=\"text-align: right;\">\n",
       "      <th></th>\n",
       "      <th>price</th>\n",
       "      <th>vehicle_type</th>\n",
       "      <th>registration_year</th>\n",
       "      <th>gearbox</th>\n",
       "      <th>power</th>\n",
       "      <th>model</th>\n",
       "      <th>kilometer</th>\n",
       "      <th>registration_month</th>\n",
       "      <th>fuel_type</th>\n",
       "      <th>brand</th>\n",
       "      <th>repaired</th>\n",
       "    </tr>\n",
       "  </thead>\n",
       "  <tbody>\n",
       "    <tr>\n",
       "      <th>0</th>\n",
       "      <td>3900</td>\n",
       "      <td>small</td>\n",
       "      <td>2008</td>\n",
       "      <td>manual</td>\n",
       "      <td>131</td>\n",
       "      <td>other</td>\n",
       "      <td>150000</td>\n",
       "      <td>9</td>\n",
       "      <td>gasoline</td>\n",
       "      <td>fiat</td>\n",
       "      <td>no</td>\n",
       "    </tr>\n",
       "    <tr>\n",
       "      <th>1</th>\n",
       "      <td>4699</td>\n",
       "      <td>small</td>\n",
       "      <td>2006</td>\n",
       "      <td>manual</td>\n",
       "      <td>110</td>\n",
       "      <td>corolla</td>\n",
       "      <td>90000</td>\n",
       "      <td>4</td>\n",
       "      <td>petrol</td>\n",
       "      <td>toyota</td>\n",
       "      <td>no</td>\n",
       "    </tr>\n",
       "    <tr>\n",
       "      <th>2</th>\n",
       "      <td>5850</td>\n",
       "      <td>small</td>\n",
       "      <td>2007</td>\n",
       "      <td>manual</td>\n",
       "      <td>140</td>\n",
       "      <td>golf</td>\n",
       "      <td>150000</td>\n",
       "      <td>8</td>\n",
       "      <td>gasoline</td>\n",
       "      <td>volkswagen</td>\n",
       "      <td>no</td>\n",
       "    </tr>\n",
       "    <tr>\n",
       "      <th>3</th>\n",
       "      <td>6600</td>\n",
       "      <td>sedan</td>\n",
       "      <td>2009</td>\n",
       "      <td>manual</td>\n",
       "      <td>95</td>\n",
       "      <td>one</td>\n",
       "      <td>150000</td>\n",
       "      <td>3</td>\n",
       "      <td>petrol</td>\n",
       "      <td>mini</td>\n",
       "      <td>no</td>\n",
       "    </tr>\n",
       "    <tr>\n",
       "      <th>4</th>\n",
       "      <td>3899</td>\n",
       "      <td>small</td>\n",
       "      <td>2002</td>\n",
       "      <td>manual</td>\n",
       "      <td>100</td>\n",
       "      <td>ibiza</td>\n",
       "      <td>125000</td>\n",
       "      <td>11</td>\n",
       "      <td>petrol</td>\n",
       "      <td>seat</td>\n",
       "      <td>no</td>\n",
       "    </tr>\n",
       "  </tbody>\n",
       "</table>\n",
       "</div>"
      ],
      "text/plain": [
       "   price vehicle_type  registration_year gearbox  power    model  kilometer  \\\n",
       "0   3900        small               2008  manual    131    other     150000   \n",
       "1   4699        small               2006  manual    110  corolla      90000   \n",
       "2   5850        small               2007  manual    140     golf     150000   \n",
       "3   6600        sedan               2009  manual     95      one     150000   \n",
       "4   3899        small               2002  manual    100    ibiza     125000   \n",
       "\n",
       "   registration_month fuel_type       brand repaired  \n",
       "0                   9  gasoline        fiat       no  \n",
       "1                   4    petrol      toyota       no  \n",
       "2                   8  gasoline  volkswagen       no  \n",
       "3                   3    petrol        mini       no  \n",
       "4                  11    petrol        seat       no  "
      ]
     },
     "execution_count": 32,
     "metadata": {},
     "output_type": "execute_result"
    }
   ],
   "source": [
    "df_train = df_train.reset_index(drop=True)\n",
    "df_train.head()"
   ]
  },
  {
   "cell_type": "code",
   "execution_count": 33,
   "metadata": {},
   "outputs": [
    {
     "data": {
      "text/html": [
       "<div>\n",
       "<style scoped>\n",
       "    .dataframe tbody tr th:only-of-type {\n",
       "        vertical-align: middle;\n",
       "    }\n",
       "\n",
       "    .dataframe tbody tr th {\n",
       "        vertical-align: top;\n",
       "    }\n",
       "\n",
       "    .dataframe thead th {\n",
       "        text-align: right;\n",
       "    }\n",
       "</style>\n",
       "<table border=\"1\" class=\"dataframe\">\n",
       "  <thead>\n",
       "    <tr style=\"text-align: right;\">\n",
       "      <th></th>\n",
       "      <th>price</th>\n",
       "      <th>vehicle_type</th>\n",
       "      <th>registration_year</th>\n",
       "      <th>gearbox</th>\n",
       "      <th>power</th>\n",
       "      <th>model</th>\n",
       "      <th>kilometer</th>\n",
       "      <th>registration_month</th>\n",
       "      <th>fuel_type</th>\n",
       "      <th>brand</th>\n",
       "      <th>repaired</th>\n",
       "    </tr>\n",
       "  </thead>\n",
       "  <tbody>\n",
       "    <tr>\n",
       "      <th>0</th>\n",
       "      <td>2900</td>\n",
       "      <td>bus</td>\n",
       "      <td>1988</td>\n",
       "      <td>manual</td>\n",
       "      <td>75</td>\n",
       "      <td>transporter</td>\n",
       "      <td>150000</td>\n",
       "      <td>7</td>\n",
       "      <td>gasoline</td>\n",
       "      <td>volkswagen</td>\n",
       "      <td>no</td>\n",
       "    </tr>\n",
       "    <tr>\n",
       "      <th>1</th>\n",
       "      <td>8750</td>\n",
       "      <td>bus</td>\n",
       "      <td>2007</td>\n",
       "      <td>auto</td>\n",
       "      <td>140</td>\n",
       "      <td>b_klasse</td>\n",
       "      <td>150000</td>\n",
       "      <td>8</td>\n",
       "      <td>gasoline</td>\n",
       "      <td>mercedes_benz</td>\n",
       "      <td>no</td>\n",
       "    </tr>\n",
       "    <tr>\n",
       "      <th>2</th>\n",
       "      <td>4850</td>\n",
       "      <td>small</td>\n",
       "      <td>2006</td>\n",
       "      <td>manual</td>\n",
       "      <td>105</td>\n",
       "      <td>golf</td>\n",
       "      <td>150000</td>\n",
       "      <td>9</td>\n",
       "      <td>gasoline</td>\n",
       "      <td>volkswagen</td>\n",
       "      <td>no</td>\n",
       "    </tr>\n",
       "    <tr>\n",
       "      <th>3</th>\n",
       "      <td>2200</td>\n",
       "      <td>small</td>\n",
       "      <td>2001</td>\n",
       "      <td>manual</td>\n",
       "      <td>58</td>\n",
       "      <td>corsa</td>\n",
       "      <td>150000</td>\n",
       "      <td>7</td>\n",
       "      <td>petrol</td>\n",
       "      <td>opel</td>\n",
       "      <td>no</td>\n",
       "    </tr>\n",
       "    <tr>\n",
       "      <th>4</th>\n",
       "      <td>16999</td>\n",
       "      <td>coupe</td>\n",
       "      <td>2007</td>\n",
       "      <td>auto</td>\n",
       "      <td>286</td>\n",
       "      <td>3er</td>\n",
       "      <td>150000</td>\n",
       "      <td>7</td>\n",
       "      <td>gasoline</td>\n",
       "      <td>bmw</td>\n",
       "      <td>no</td>\n",
       "    </tr>\n",
       "    <tr>\n",
       "      <th>...</th>\n",
       "      <td>...</td>\n",
       "      <td>...</td>\n",
       "      <td>...</td>\n",
       "      <td>...</td>\n",
       "      <td>...</td>\n",
       "      <td>...</td>\n",
       "      <td>...</td>\n",
       "      <td>...</td>\n",
       "      <td>...</td>\n",
       "      <td>...</td>\n",
       "      <td>...</td>\n",
       "    </tr>\n",
       "    <tr>\n",
       "      <th>40981</th>\n",
       "      <td>5300</td>\n",
       "      <td>sedan</td>\n",
       "      <td>2009</td>\n",
       "      <td>manual</td>\n",
       "      <td>105</td>\n",
       "      <td>bravo</td>\n",
       "      <td>80000</td>\n",
       "      <td>3</td>\n",
       "      <td>gasoline</td>\n",
       "      <td>fiat</td>\n",
       "      <td>no</td>\n",
       "    </tr>\n",
       "    <tr>\n",
       "      <th>40982</th>\n",
       "      <td>12000</td>\n",
       "      <td>suv</td>\n",
       "      <td>2009</td>\n",
       "      <td>auto</td>\n",
       "      <td>250</td>\n",
       "      <td>other</td>\n",
       "      <td>125000</td>\n",
       "      <td>5</td>\n",
       "      <td>petrol</td>\n",
       "      <td>saab</td>\n",
       "      <td>no</td>\n",
       "    </tr>\n",
       "    <tr>\n",
       "      <th>40983</th>\n",
       "      <td>15899</td>\n",
       "      <td>sedan</td>\n",
       "      <td>2007</td>\n",
       "      <td>manual</td>\n",
       "      <td>150</td>\n",
       "      <td>x_reihe</td>\n",
       "      <td>80000</td>\n",
       "      <td>8</td>\n",
       "      <td>gasoline</td>\n",
       "      <td>bmw</td>\n",
       "      <td>no</td>\n",
       "    </tr>\n",
       "    <tr>\n",
       "      <th>40984</th>\n",
       "      <td>1800</td>\n",
       "      <td>wagon</td>\n",
       "      <td>1999</td>\n",
       "      <td>manual</td>\n",
       "      <td>60</td>\n",
       "      <td>caddy</td>\n",
       "      <td>150000</td>\n",
       "      <td>0</td>\n",
       "      <td>petrol</td>\n",
       "      <td>volkswagen</td>\n",
       "      <td>no</td>\n",
       "    </tr>\n",
       "    <tr>\n",
       "      <th>40985</th>\n",
       "      <td>1290</td>\n",
       "      <td>small</td>\n",
       "      <td>2007</td>\n",
       "      <td>manual</td>\n",
       "      <td>60</td>\n",
       "      <td>ka</td>\n",
       "      <td>125000</td>\n",
       "      <td>12</td>\n",
       "      <td>other</td>\n",
       "      <td>ford</td>\n",
       "      <td>no</td>\n",
       "    </tr>\n",
       "  </tbody>\n",
       "</table>\n",
       "<p>40986 rows × 11 columns</p>\n",
       "</div>"
      ],
      "text/plain": [
       "       price vehicle_type  registration_year gearbox  power        model  \\\n",
       "0       2900          bus               1988  manual     75  transporter   \n",
       "1       8750          bus               2007    auto    140     b_klasse   \n",
       "2       4850        small               2006  manual    105         golf   \n",
       "3       2200        small               2001  manual     58        corsa   \n",
       "4      16999        coupe               2007    auto    286          3er   \n",
       "...      ...          ...                ...     ...    ...          ...   \n",
       "40981   5300        sedan               2009  manual    105        bravo   \n",
       "40982  12000          suv               2009    auto    250        other   \n",
       "40983  15899        sedan               2007  manual    150      x_reihe   \n",
       "40984   1800        wagon               1999  manual     60        caddy   \n",
       "40985   1290        small               2007  manual     60           ka   \n",
       "\n",
       "       kilometer  registration_month fuel_type          brand repaired  \n",
       "0         150000                   7  gasoline     volkswagen       no  \n",
       "1         150000                   8  gasoline  mercedes_benz       no  \n",
       "2         150000                   9  gasoline     volkswagen       no  \n",
       "3         150000                   7    petrol           opel       no  \n",
       "4         150000                   7  gasoline            bmw       no  \n",
       "...          ...                 ...       ...            ...      ...  \n",
       "40981      80000                   3  gasoline           fiat       no  \n",
       "40982     125000                   5    petrol           saab       no  \n",
       "40983      80000                   8  gasoline            bmw       no  \n",
       "40984     150000                   0    petrol     volkswagen       no  \n",
       "40985     125000                  12     other           ford       no  \n",
       "\n",
       "[40986 rows x 11 columns]"
      ]
     },
     "execution_count": 33,
     "metadata": {},
     "output_type": "execute_result"
    }
   ],
   "source": [
    "df_valid = df_valid.reset_index(drop=True)\n",
    "df_valid"
   ]
  },
  {
   "cell_type": "code",
   "execution_count": 34,
   "metadata": {},
   "outputs": [
    {
     "data": {
      "text/html": [
       "<div>\n",
       "<style scoped>\n",
       "    .dataframe tbody tr th:only-of-type {\n",
       "        vertical-align: middle;\n",
       "    }\n",
       "\n",
       "    .dataframe tbody tr th {\n",
       "        vertical-align: top;\n",
       "    }\n",
       "\n",
       "    .dataframe thead th {\n",
       "        text-align: right;\n",
       "    }\n",
       "</style>\n",
       "<table border=\"1\" class=\"dataframe\">\n",
       "  <thead>\n",
       "    <tr style=\"text-align: right;\">\n",
       "      <th></th>\n",
       "      <th>price</th>\n",
       "      <th>vehicle_type</th>\n",
       "      <th>registration_year</th>\n",
       "      <th>gearbox</th>\n",
       "      <th>power</th>\n",
       "      <th>model</th>\n",
       "      <th>kilometer</th>\n",
       "      <th>registration_month</th>\n",
       "      <th>fuel_type</th>\n",
       "      <th>brand</th>\n",
       "      <th>repaired</th>\n",
       "    </tr>\n",
       "  </thead>\n",
       "  <tbody>\n",
       "    <tr>\n",
       "      <th>0</th>\n",
       "      <td>3500</td>\n",
       "      <td>sedan</td>\n",
       "      <td>1998</td>\n",
       "      <td>manual</td>\n",
       "      <td>200</td>\n",
       "      <td>golf</td>\n",
       "      <td>150000</td>\n",
       "      <td>6</td>\n",
       "      <td>petrol</td>\n",
       "      <td>volkswagen</td>\n",
       "      <td>no</td>\n",
       "    </tr>\n",
       "    <tr>\n",
       "      <th>1</th>\n",
       "      <td>5999</td>\n",
       "      <td>wagon</td>\n",
       "      <td>2011</td>\n",
       "      <td>manual</td>\n",
       "      <td>125</td>\n",
       "      <td>astra</td>\n",
       "      <td>150000</td>\n",
       "      <td>8</td>\n",
       "      <td>gasoline</td>\n",
       "      <td>opel</td>\n",
       "      <td>no</td>\n",
       "    </tr>\n",
       "    <tr>\n",
       "      <th>2</th>\n",
       "      <td>3200</td>\n",
       "      <td>convertible</td>\n",
       "      <td>1997</td>\n",
       "      <td>manual</td>\n",
       "      <td>125</td>\n",
       "      <td>80</td>\n",
       "      <td>150000</td>\n",
       "      <td>5</td>\n",
       "      <td>petrol</td>\n",
       "      <td>audi</td>\n",
       "      <td>no</td>\n",
       "    </tr>\n",
       "    <tr>\n",
       "      <th>3</th>\n",
       "      <td>2000</td>\n",
       "      <td>wagon</td>\n",
       "      <td>2002</td>\n",
       "      <td>manual</td>\n",
       "      <td>141</td>\n",
       "      <td>6_reihe</td>\n",
       "      <td>150000</td>\n",
       "      <td>12</td>\n",
       "      <td>petrol</td>\n",
       "      <td>mazda</td>\n",
       "      <td>no</td>\n",
       "    </tr>\n",
       "    <tr>\n",
       "      <th>4</th>\n",
       "      <td>3200</td>\n",
       "      <td>wagon</td>\n",
       "      <td>2006</td>\n",
       "      <td>manual</td>\n",
       "      <td>101</td>\n",
       "      <td>focus</td>\n",
       "      <td>125000</td>\n",
       "      <td>0</td>\n",
       "      <td>other</td>\n",
       "      <td>ford</td>\n",
       "      <td>no</td>\n",
       "    </tr>\n",
       "  </tbody>\n",
       "</table>\n",
       "</div>"
      ],
      "text/plain": [
       "   price vehicle_type  registration_year gearbox  power    model  kilometer  \\\n",
       "0   3500        sedan               1998  manual    200     golf     150000   \n",
       "1   5999        wagon               2011  manual    125    astra     150000   \n",
       "2   3200  convertible               1997  manual    125       80     150000   \n",
       "3   2000        wagon               2002  manual    141  6_reihe     150000   \n",
       "4   3200        wagon               2006  manual    101    focus     125000   \n",
       "\n",
       "   registration_month fuel_type       brand repaired  \n",
       "0                   6    petrol  volkswagen       no  \n",
       "1                   8  gasoline        opel       no  \n",
       "2                   5    petrol        audi       no  \n",
       "3                  12    petrol       mazda       no  \n",
       "4                   0     other        ford       no  "
      ]
     },
     "execution_count": 34,
     "metadata": {},
     "output_type": "execute_result"
    }
   ],
   "source": [
    "df_test = df_test.reset_index(drop=True)\n",
    "df_test.head()"
   ]
  },
  {
   "cell_type": "markdown",
   "metadata": {},
   "source": [
    "Выведем размеры получившихся выборок:"
   ]
  },
  {
   "cell_type": "code",
   "execution_count": 35,
   "metadata": {},
   "outputs": [
    {
     "data": {
      "text/plain": [
       "(122957, 11)"
      ]
     },
     "execution_count": 35,
     "metadata": {},
     "output_type": "execute_result"
    }
   ],
   "source": [
    "df_train.shape # размер обучающей выборки"
   ]
  },
  {
   "cell_type": "code",
   "execution_count": 36,
   "metadata": {},
   "outputs": [
    {
     "data": {
      "text/plain": [
       "(40986, 11)"
      ]
     },
     "execution_count": 36,
     "metadata": {},
     "output_type": "execute_result"
    }
   ],
   "source": [
    "df_valid.shape # размер валидационной выборки"
   ]
  },
  {
   "cell_type": "code",
   "execution_count": 37,
   "metadata": {},
   "outputs": [
    {
     "data": {
      "text/plain": [
       "(40986, 11)"
      ]
     },
     "execution_count": 37,
     "metadata": {},
     "output_type": "execute_result"
    }
   ],
   "source": [
    "df_test.shape # размер тестовой выборки"
   ]
  },
  {
   "cell_type": "code",
   "execution_count": 38,
   "metadata": {},
   "outputs": [
    {
     "data": {
      "text/plain": [
       "True"
      ]
     },
     "execution_count": 38,
     "metadata": {},
     "output_type": "execute_result"
    }
   ],
   "source": [
    "df.shape[0] == df_train.shape[0] + df_valid.shape[0] + df_test.shape[0]"
   ]
  },
  {
   "cell_type": "markdown",
   "metadata": {},
   "source": [
    "Суммарное количество строк трех выборок сходится с количеством строк исходного датафрейма."
   ]
  },
  {
   "cell_type": "markdown",
   "metadata": {},
   "source": [
    "### Деление выборок на признаки и целевой признак"
   ]
  },
  {
   "cell_type": "markdown",
   "metadata": {},
   "source": [
    "Разделим выборки на признаки и целевой признак:"
   ]
  },
  {
   "cell_type": "code",
   "execution_count": 39,
   "metadata": {},
   "outputs": [],
   "source": [
    "features_train = df_train.drop(['price'], axis=1) # деление обучающей выборки\n",
    "target_train = df_train['price']"
   ]
  },
  {
   "cell_type": "code",
   "execution_count": 40,
   "metadata": {},
   "outputs": [],
   "source": [
    "features_valid = df_valid.drop(['price'], axis=1) # деление валидацинной выборки\n",
    "target_valid = df_valid['price']"
   ]
  },
  {
   "cell_type": "code",
   "execution_count": 41,
   "metadata": {},
   "outputs": [],
   "source": [
    "features_test = df_test.drop(['price'], axis=1) # деление тестовой выборки\n",
    "target_test = df_test['price']"
   ]
  },
  {
   "cell_type": "markdown",
   "metadata": {},
   "source": [
    "### Функция для вычисления `RMSE`"
   ]
  },
  {
   "cell_type": "markdown",
   "metadata": {},
   "source": [
    "Функция для вычисления `RMSE`:"
   ]
  },
  {
   "cell_type": "code",
   "execution_count": 42,
   "metadata": {},
   "outputs": [],
   "source": [
    "def rmse(y, y_pred):\n",
    "    return mean_squared_error(y, y_pred) ** .5"
   ]
  },
  {
   "cell_type": "markdown",
   "metadata": {},
   "source": [
    "### CatBoostRegressor"
   ]
  },
  {
   "cell_type": "code",
   "execution_count": 43,
   "metadata": {},
   "outputs": [],
   "source": [
    "cat_features = ['vehicle_type', 'gearbox', 'fuel_type', 'brand', 'repaired', 'model']\n",
    "\n",
    "model_catboost = CatBoostRegressor(loss_function='RMSE', iterations=2000, random_state=12345)"
   ]
  },
  {
   "cell_type": "markdown",
   "metadata": {},
   "source": [
    "Обучим модель:"
   ]
  },
  {
   "cell_type": "code",
   "execution_count": 44,
   "metadata": {},
   "outputs": [
    {
     "name": "stdout",
     "output_type": "stream",
     "text": [
      "Время обучения: 173.31 с\n"
     ]
    }
   ],
   "source": [
    "start = time.time()\n",
    "\n",
    "model_catboost.fit(features_train, target_train, cat_features=cat_features, verbose=False)\n",
    "\n",
    "end = time.time()\n",
    "\n",
    "fit_time_cat = round(end - start, 2)\n",
    "\n",
    "print('Время обучения:', fit_time_cat, 'с')"
   ]
  },
  {
   "cell_type": "markdown",
   "metadata": {},
   "source": [
    "Сделаем предсказания:"
   ]
  },
  {
   "cell_type": "code",
   "execution_count": 45,
   "metadata": {},
   "outputs": [
    {
     "name": "stdout",
     "output_type": "stream",
     "text": [
      "Время предсказания: 0.49 с\n"
     ]
    }
   ],
   "source": [
    "start = time.time()\n",
    "\n",
    "predictions = model_catboost.predict(features_valid)\n",
    "\n",
    "end = time.time()\n",
    "\n",
    "pred_time_cat = round(end - start, 2)\n",
    "\n",
    "print('Время предсказания:', pred_time_cat, 'с')"
   ]
  },
  {
   "cell_type": "markdown",
   "metadata": {},
   "source": [
    "Посчитаем `RMSE`:"
   ]
  },
  {
   "cell_type": "code",
   "execution_count": 46,
   "metadata": {},
   "outputs": [
    {
     "name": "stdout",
     "output_type": "stream",
     "text": [
      "RMSE модели CatBoostRegressor на валидационной выборке: 1625.21\n"
     ]
    }
   ],
   "source": [
    "catboost_rmse = round(rmse(target_valid, predictions), 2)\n",
    "print('RMSE модели CatBoostRegressor на валидационной выборке:', catboost_rmse)"
   ]
  },
  {
   "cell_type": "markdown",
   "metadata": {},
   "source": [
    "### One-Hot Encoding"
   ]
  },
  {
   "cell_type": "markdown",
   "metadata": {},
   "source": [
    "Закодируем категориальные данные и обучим модель `Линейной регрессии` и `Случайного дерева`."
   ]
  },
  {
   "cell_type": "markdown",
   "metadata": {},
   "source": [
    "#### Применим `OneHotEncoder`"
   ]
  },
  {
   "cell_type": "code",
   "execution_count": 47,
   "metadata": {},
   "outputs": [],
   "source": [
    "ohe = OneHotEncoder(sparse=False, handle_unknown='ignore')\n",
    "ohe.fit(features_train[cat_features])\n",
    "features_train_cat_ohe = ohe.transform(features_train[cat_features])\n",
    "features_valid_cat_ohe = ohe.transform(features_valid[cat_features])\n",
    "features_test_cat_ohe = ohe.transform(features_test[cat_features])"
   ]
  },
  {
   "cell_type": "markdown",
   "metadata": {},
   "source": [
    "Преобразуем `np.array` в `DataFrame`:"
   ]
  },
  {
   "cell_type": "code",
   "execution_count": 48,
   "metadata": {},
   "outputs": [],
   "source": [
    "features_train_cat_ohe = pd.DataFrame(features_train_cat_ohe, columns=ohe.get_feature_names())\n",
    "features_valid_cat_ohe = pd.DataFrame(features_valid_cat_ohe, columns=ohe.get_feature_names())\n",
    "features_test_cat_ohe = pd.DataFrame(features_test_cat_ohe, columns=ohe.get_feature_names())"
   ]
  },
  {
   "cell_type": "markdown",
   "metadata": {},
   "source": [
    "Посмотрим на получившиеся датафреймы:"
   ]
  },
  {
   "cell_type": "code",
   "execution_count": 49,
   "metadata": {},
   "outputs": [
    {
     "data": {
      "text/html": [
       "<div>\n",
       "<style scoped>\n",
       "    .dataframe tbody tr th:only-of-type {\n",
       "        vertical-align: middle;\n",
       "    }\n",
       "\n",
       "    .dataframe tbody tr th {\n",
       "        vertical-align: top;\n",
       "    }\n",
       "\n",
       "    .dataframe thead th {\n",
       "        text-align: right;\n",
       "    }\n",
       "</style>\n",
       "<table border=\"1\" class=\"dataframe\">\n",
       "  <thead>\n",
       "    <tr style=\"text-align: right;\">\n",
       "      <th></th>\n",
       "      <th>x0_bus</th>\n",
       "      <th>x0_convertible</th>\n",
       "      <th>x0_coupe</th>\n",
       "      <th>x0_other</th>\n",
       "      <th>x0_sedan</th>\n",
       "      <th>x0_small</th>\n",
       "      <th>x0_suv</th>\n",
       "      <th>x0_wagon</th>\n",
       "      <th>x1_auto</th>\n",
       "      <th>x1_manual</th>\n",
       "      <th>...</th>\n",
       "      <th>x5_wrangler</th>\n",
       "      <th>x5_x_reihe</th>\n",
       "      <th>x5_x_trail</th>\n",
       "      <th>x5_x_type</th>\n",
       "      <th>x5_xc_reihe</th>\n",
       "      <th>x5_yaris</th>\n",
       "      <th>x5_yeti</th>\n",
       "      <th>x5_ypsilon</th>\n",
       "      <th>x5_z_reihe</th>\n",
       "      <th>x5_zafira</th>\n",
       "    </tr>\n",
       "  </thead>\n",
       "  <tbody>\n",
       "    <tr>\n",
       "      <th>0</th>\n",
       "      <td>0.0</td>\n",
       "      <td>0.0</td>\n",
       "      <td>0.0</td>\n",
       "      <td>0.0</td>\n",
       "      <td>0.0</td>\n",
       "      <td>1.0</td>\n",
       "      <td>0.0</td>\n",
       "      <td>0.0</td>\n",
       "      <td>0.0</td>\n",
       "      <td>1.0</td>\n",
       "      <td>...</td>\n",
       "      <td>0.0</td>\n",
       "      <td>0.0</td>\n",
       "      <td>0.0</td>\n",
       "      <td>0.0</td>\n",
       "      <td>0.0</td>\n",
       "      <td>0.0</td>\n",
       "      <td>0.0</td>\n",
       "      <td>0.0</td>\n",
       "      <td>0.0</td>\n",
       "      <td>0.0</td>\n",
       "    </tr>\n",
       "    <tr>\n",
       "      <th>1</th>\n",
       "      <td>0.0</td>\n",
       "      <td>0.0</td>\n",
       "      <td>0.0</td>\n",
       "      <td>0.0</td>\n",
       "      <td>0.0</td>\n",
       "      <td>1.0</td>\n",
       "      <td>0.0</td>\n",
       "      <td>0.0</td>\n",
       "      <td>0.0</td>\n",
       "      <td>1.0</td>\n",
       "      <td>...</td>\n",
       "      <td>0.0</td>\n",
       "      <td>0.0</td>\n",
       "      <td>0.0</td>\n",
       "      <td>0.0</td>\n",
       "      <td>0.0</td>\n",
       "      <td>0.0</td>\n",
       "      <td>0.0</td>\n",
       "      <td>0.0</td>\n",
       "      <td>0.0</td>\n",
       "      <td>0.0</td>\n",
       "    </tr>\n",
       "    <tr>\n",
       "      <th>2</th>\n",
       "      <td>0.0</td>\n",
       "      <td>0.0</td>\n",
       "      <td>0.0</td>\n",
       "      <td>0.0</td>\n",
       "      <td>0.0</td>\n",
       "      <td>1.0</td>\n",
       "      <td>0.0</td>\n",
       "      <td>0.0</td>\n",
       "      <td>0.0</td>\n",
       "      <td>1.0</td>\n",
       "      <td>...</td>\n",
       "      <td>0.0</td>\n",
       "      <td>0.0</td>\n",
       "      <td>0.0</td>\n",
       "      <td>0.0</td>\n",
       "      <td>0.0</td>\n",
       "      <td>0.0</td>\n",
       "      <td>0.0</td>\n",
       "      <td>0.0</td>\n",
       "      <td>0.0</td>\n",
       "      <td>0.0</td>\n",
       "    </tr>\n",
       "    <tr>\n",
       "      <th>3</th>\n",
       "      <td>0.0</td>\n",
       "      <td>0.0</td>\n",
       "      <td>0.0</td>\n",
       "      <td>0.0</td>\n",
       "      <td>1.0</td>\n",
       "      <td>0.0</td>\n",
       "      <td>0.0</td>\n",
       "      <td>0.0</td>\n",
       "      <td>0.0</td>\n",
       "      <td>1.0</td>\n",
       "      <td>...</td>\n",
       "      <td>0.0</td>\n",
       "      <td>0.0</td>\n",
       "      <td>0.0</td>\n",
       "      <td>0.0</td>\n",
       "      <td>0.0</td>\n",
       "      <td>0.0</td>\n",
       "      <td>0.0</td>\n",
       "      <td>0.0</td>\n",
       "      <td>0.0</td>\n",
       "      <td>0.0</td>\n",
       "    </tr>\n",
       "    <tr>\n",
       "      <th>4</th>\n",
       "      <td>0.0</td>\n",
       "      <td>0.0</td>\n",
       "      <td>0.0</td>\n",
       "      <td>0.0</td>\n",
       "      <td>0.0</td>\n",
       "      <td>1.0</td>\n",
       "      <td>0.0</td>\n",
       "      <td>0.0</td>\n",
       "      <td>0.0</td>\n",
       "      <td>1.0</td>\n",
       "      <td>...</td>\n",
       "      <td>0.0</td>\n",
       "      <td>0.0</td>\n",
       "      <td>0.0</td>\n",
       "      <td>0.0</td>\n",
       "      <td>0.0</td>\n",
       "      <td>0.0</td>\n",
       "      <td>0.0</td>\n",
       "      <td>0.0</td>\n",
       "      <td>0.0</td>\n",
       "      <td>0.0</td>\n",
       "    </tr>\n",
       "  </tbody>\n",
       "</table>\n",
       "<p>5 rows × 305 columns</p>\n",
       "</div>"
      ],
      "text/plain": [
       "   x0_bus  x0_convertible  x0_coupe  x0_other  x0_sedan  x0_small  x0_suv  \\\n",
       "0     0.0             0.0       0.0       0.0       0.0       1.0     0.0   \n",
       "1     0.0             0.0       0.0       0.0       0.0       1.0     0.0   \n",
       "2     0.0             0.0       0.0       0.0       0.0       1.0     0.0   \n",
       "3     0.0             0.0       0.0       0.0       1.0       0.0     0.0   \n",
       "4     0.0             0.0       0.0       0.0       0.0       1.0     0.0   \n",
       "\n",
       "   x0_wagon  x1_auto  x1_manual  ...  x5_wrangler  x5_x_reihe  x5_x_trail  \\\n",
       "0       0.0      0.0        1.0  ...          0.0         0.0         0.0   \n",
       "1       0.0      0.0        1.0  ...          0.0         0.0         0.0   \n",
       "2       0.0      0.0        1.0  ...          0.0         0.0         0.0   \n",
       "3       0.0      0.0        1.0  ...          0.0         0.0         0.0   \n",
       "4       0.0      0.0        1.0  ...          0.0         0.0         0.0   \n",
       "\n",
       "   x5_x_type  x5_xc_reihe  x5_yaris  x5_yeti  x5_ypsilon  x5_z_reihe  \\\n",
       "0        0.0          0.0       0.0      0.0         0.0         0.0   \n",
       "1        0.0          0.0       0.0      0.0         0.0         0.0   \n",
       "2        0.0          0.0       0.0      0.0         0.0         0.0   \n",
       "3        0.0          0.0       0.0      0.0         0.0         0.0   \n",
       "4        0.0          0.0       0.0      0.0         0.0         0.0   \n",
       "\n",
       "   x5_zafira  \n",
       "0        0.0  \n",
       "1        0.0  \n",
       "2        0.0  \n",
       "3        0.0  \n",
       "4        0.0  \n",
       "\n",
       "[5 rows x 305 columns]"
      ]
     },
     "execution_count": 49,
     "metadata": {},
     "output_type": "execute_result"
    }
   ],
   "source": [
    "features_train_cat_ohe.head()  "
   ]
  },
  {
   "cell_type": "code",
   "execution_count": 50,
   "metadata": {},
   "outputs": [
    {
     "data": {
      "text/html": [
       "<div>\n",
       "<style scoped>\n",
       "    .dataframe tbody tr th:only-of-type {\n",
       "        vertical-align: middle;\n",
       "    }\n",
       "\n",
       "    .dataframe tbody tr th {\n",
       "        vertical-align: top;\n",
       "    }\n",
       "\n",
       "    .dataframe thead th {\n",
       "        text-align: right;\n",
       "    }\n",
       "</style>\n",
       "<table border=\"1\" class=\"dataframe\">\n",
       "  <thead>\n",
       "    <tr style=\"text-align: right;\">\n",
       "      <th></th>\n",
       "      <th>x0_bus</th>\n",
       "      <th>x0_convertible</th>\n",
       "      <th>x0_coupe</th>\n",
       "      <th>x0_other</th>\n",
       "      <th>x0_sedan</th>\n",
       "      <th>x0_small</th>\n",
       "      <th>x0_suv</th>\n",
       "      <th>x0_wagon</th>\n",
       "      <th>x1_auto</th>\n",
       "      <th>x1_manual</th>\n",
       "      <th>...</th>\n",
       "      <th>x5_wrangler</th>\n",
       "      <th>x5_x_reihe</th>\n",
       "      <th>x5_x_trail</th>\n",
       "      <th>x5_x_type</th>\n",
       "      <th>x5_xc_reihe</th>\n",
       "      <th>x5_yaris</th>\n",
       "      <th>x5_yeti</th>\n",
       "      <th>x5_ypsilon</th>\n",
       "      <th>x5_z_reihe</th>\n",
       "      <th>x5_zafira</th>\n",
       "    </tr>\n",
       "  </thead>\n",
       "  <tbody>\n",
       "    <tr>\n",
       "      <th>0</th>\n",
       "      <td>1.0</td>\n",
       "      <td>0.0</td>\n",
       "      <td>0.0</td>\n",
       "      <td>0.0</td>\n",
       "      <td>0.0</td>\n",
       "      <td>0.0</td>\n",
       "      <td>0.0</td>\n",
       "      <td>0.0</td>\n",
       "      <td>0.0</td>\n",
       "      <td>1.0</td>\n",
       "      <td>...</td>\n",
       "      <td>0.0</td>\n",
       "      <td>0.0</td>\n",
       "      <td>0.0</td>\n",
       "      <td>0.0</td>\n",
       "      <td>0.0</td>\n",
       "      <td>0.0</td>\n",
       "      <td>0.0</td>\n",
       "      <td>0.0</td>\n",
       "      <td>0.0</td>\n",
       "      <td>0.0</td>\n",
       "    </tr>\n",
       "    <tr>\n",
       "      <th>1</th>\n",
       "      <td>1.0</td>\n",
       "      <td>0.0</td>\n",
       "      <td>0.0</td>\n",
       "      <td>0.0</td>\n",
       "      <td>0.0</td>\n",
       "      <td>0.0</td>\n",
       "      <td>0.0</td>\n",
       "      <td>0.0</td>\n",
       "      <td>1.0</td>\n",
       "      <td>0.0</td>\n",
       "      <td>...</td>\n",
       "      <td>0.0</td>\n",
       "      <td>0.0</td>\n",
       "      <td>0.0</td>\n",
       "      <td>0.0</td>\n",
       "      <td>0.0</td>\n",
       "      <td>0.0</td>\n",
       "      <td>0.0</td>\n",
       "      <td>0.0</td>\n",
       "      <td>0.0</td>\n",
       "      <td>0.0</td>\n",
       "    </tr>\n",
       "    <tr>\n",
       "      <th>2</th>\n",
       "      <td>0.0</td>\n",
       "      <td>0.0</td>\n",
       "      <td>0.0</td>\n",
       "      <td>0.0</td>\n",
       "      <td>0.0</td>\n",
       "      <td>1.0</td>\n",
       "      <td>0.0</td>\n",
       "      <td>0.0</td>\n",
       "      <td>0.0</td>\n",
       "      <td>1.0</td>\n",
       "      <td>...</td>\n",
       "      <td>0.0</td>\n",
       "      <td>0.0</td>\n",
       "      <td>0.0</td>\n",
       "      <td>0.0</td>\n",
       "      <td>0.0</td>\n",
       "      <td>0.0</td>\n",
       "      <td>0.0</td>\n",
       "      <td>0.0</td>\n",
       "      <td>0.0</td>\n",
       "      <td>0.0</td>\n",
       "    </tr>\n",
       "    <tr>\n",
       "      <th>3</th>\n",
       "      <td>0.0</td>\n",
       "      <td>0.0</td>\n",
       "      <td>0.0</td>\n",
       "      <td>0.0</td>\n",
       "      <td>0.0</td>\n",
       "      <td>1.0</td>\n",
       "      <td>0.0</td>\n",
       "      <td>0.0</td>\n",
       "      <td>0.0</td>\n",
       "      <td>1.0</td>\n",
       "      <td>...</td>\n",
       "      <td>0.0</td>\n",
       "      <td>0.0</td>\n",
       "      <td>0.0</td>\n",
       "      <td>0.0</td>\n",
       "      <td>0.0</td>\n",
       "      <td>0.0</td>\n",
       "      <td>0.0</td>\n",
       "      <td>0.0</td>\n",
       "      <td>0.0</td>\n",
       "      <td>0.0</td>\n",
       "    </tr>\n",
       "    <tr>\n",
       "      <th>4</th>\n",
       "      <td>0.0</td>\n",
       "      <td>0.0</td>\n",
       "      <td>1.0</td>\n",
       "      <td>0.0</td>\n",
       "      <td>0.0</td>\n",
       "      <td>0.0</td>\n",
       "      <td>0.0</td>\n",
       "      <td>0.0</td>\n",
       "      <td>1.0</td>\n",
       "      <td>0.0</td>\n",
       "      <td>...</td>\n",
       "      <td>0.0</td>\n",
       "      <td>0.0</td>\n",
       "      <td>0.0</td>\n",
       "      <td>0.0</td>\n",
       "      <td>0.0</td>\n",
       "      <td>0.0</td>\n",
       "      <td>0.0</td>\n",
       "      <td>0.0</td>\n",
       "      <td>0.0</td>\n",
       "      <td>0.0</td>\n",
       "    </tr>\n",
       "  </tbody>\n",
       "</table>\n",
       "<p>5 rows × 305 columns</p>\n",
       "</div>"
      ],
      "text/plain": [
       "   x0_bus  x0_convertible  x0_coupe  x0_other  x0_sedan  x0_small  x0_suv  \\\n",
       "0     1.0             0.0       0.0       0.0       0.0       0.0     0.0   \n",
       "1     1.0             0.0       0.0       0.0       0.0       0.0     0.0   \n",
       "2     0.0             0.0       0.0       0.0       0.0       1.0     0.0   \n",
       "3     0.0             0.0       0.0       0.0       0.0       1.0     0.0   \n",
       "4     0.0             0.0       1.0       0.0       0.0       0.0     0.0   \n",
       "\n",
       "   x0_wagon  x1_auto  x1_manual  ...  x5_wrangler  x5_x_reihe  x5_x_trail  \\\n",
       "0       0.0      0.0        1.0  ...          0.0         0.0         0.0   \n",
       "1       0.0      1.0        0.0  ...          0.0         0.0         0.0   \n",
       "2       0.0      0.0        1.0  ...          0.0         0.0         0.0   \n",
       "3       0.0      0.0        1.0  ...          0.0         0.0         0.0   \n",
       "4       0.0      1.0        0.0  ...          0.0         0.0         0.0   \n",
       "\n",
       "   x5_x_type  x5_xc_reihe  x5_yaris  x5_yeti  x5_ypsilon  x5_z_reihe  \\\n",
       "0        0.0          0.0       0.0      0.0         0.0         0.0   \n",
       "1        0.0          0.0       0.0      0.0         0.0         0.0   \n",
       "2        0.0          0.0       0.0      0.0         0.0         0.0   \n",
       "3        0.0          0.0       0.0      0.0         0.0         0.0   \n",
       "4        0.0          0.0       0.0      0.0         0.0         0.0   \n",
       "\n",
       "   x5_zafira  \n",
       "0        0.0  \n",
       "1        0.0  \n",
       "2        0.0  \n",
       "3        0.0  \n",
       "4        0.0  \n",
       "\n",
       "[5 rows x 305 columns]"
      ]
     },
     "execution_count": 50,
     "metadata": {},
     "output_type": "execute_result"
    }
   ],
   "source": [
    "features_valid_cat_ohe.head()"
   ]
  },
  {
   "cell_type": "code",
   "execution_count": 51,
   "metadata": {},
   "outputs": [
    {
     "data": {
      "text/html": [
       "<div>\n",
       "<style scoped>\n",
       "    .dataframe tbody tr th:only-of-type {\n",
       "        vertical-align: middle;\n",
       "    }\n",
       "\n",
       "    .dataframe tbody tr th {\n",
       "        vertical-align: top;\n",
       "    }\n",
       "\n",
       "    .dataframe thead th {\n",
       "        text-align: right;\n",
       "    }\n",
       "</style>\n",
       "<table border=\"1\" class=\"dataframe\">\n",
       "  <thead>\n",
       "    <tr style=\"text-align: right;\">\n",
       "      <th></th>\n",
       "      <th>x0_bus</th>\n",
       "      <th>x0_convertible</th>\n",
       "      <th>x0_coupe</th>\n",
       "      <th>x0_other</th>\n",
       "      <th>x0_sedan</th>\n",
       "      <th>x0_small</th>\n",
       "      <th>x0_suv</th>\n",
       "      <th>x0_wagon</th>\n",
       "      <th>x1_auto</th>\n",
       "      <th>x1_manual</th>\n",
       "      <th>...</th>\n",
       "      <th>x5_wrangler</th>\n",
       "      <th>x5_x_reihe</th>\n",
       "      <th>x5_x_trail</th>\n",
       "      <th>x5_x_type</th>\n",
       "      <th>x5_xc_reihe</th>\n",
       "      <th>x5_yaris</th>\n",
       "      <th>x5_yeti</th>\n",
       "      <th>x5_ypsilon</th>\n",
       "      <th>x5_z_reihe</th>\n",
       "      <th>x5_zafira</th>\n",
       "    </tr>\n",
       "  </thead>\n",
       "  <tbody>\n",
       "    <tr>\n",
       "      <th>0</th>\n",
       "      <td>0.0</td>\n",
       "      <td>0.0</td>\n",
       "      <td>0.0</td>\n",
       "      <td>0.0</td>\n",
       "      <td>1.0</td>\n",
       "      <td>0.0</td>\n",
       "      <td>0.0</td>\n",
       "      <td>0.0</td>\n",
       "      <td>0.0</td>\n",
       "      <td>1.0</td>\n",
       "      <td>...</td>\n",
       "      <td>0.0</td>\n",
       "      <td>0.0</td>\n",
       "      <td>0.0</td>\n",
       "      <td>0.0</td>\n",
       "      <td>0.0</td>\n",
       "      <td>0.0</td>\n",
       "      <td>0.0</td>\n",
       "      <td>0.0</td>\n",
       "      <td>0.0</td>\n",
       "      <td>0.0</td>\n",
       "    </tr>\n",
       "    <tr>\n",
       "      <th>1</th>\n",
       "      <td>0.0</td>\n",
       "      <td>0.0</td>\n",
       "      <td>0.0</td>\n",
       "      <td>0.0</td>\n",
       "      <td>0.0</td>\n",
       "      <td>0.0</td>\n",
       "      <td>0.0</td>\n",
       "      <td>1.0</td>\n",
       "      <td>0.0</td>\n",
       "      <td>1.0</td>\n",
       "      <td>...</td>\n",
       "      <td>0.0</td>\n",
       "      <td>0.0</td>\n",
       "      <td>0.0</td>\n",
       "      <td>0.0</td>\n",
       "      <td>0.0</td>\n",
       "      <td>0.0</td>\n",
       "      <td>0.0</td>\n",
       "      <td>0.0</td>\n",
       "      <td>0.0</td>\n",
       "      <td>0.0</td>\n",
       "    </tr>\n",
       "    <tr>\n",
       "      <th>2</th>\n",
       "      <td>0.0</td>\n",
       "      <td>1.0</td>\n",
       "      <td>0.0</td>\n",
       "      <td>0.0</td>\n",
       "      <td>0.0</td>\n",
       "      <td>0.0</td>\n",
       "      <td>0.0</td>\n",
       "      <td>0.0</td>\n",
       "      <td>0.0</td>\n",
       "      <td>1.0</td>\n",
       "      <td>...</td>\n",
       "      <td>0.0</td>\n",
       "      <td>0.0</td>\n",
       "      <td>0.0</td>\n",
       "      <td>0.0</td>\n",
       "      <td>0.0</td>\n",
       "      <td>0.0</td>\n",
       "      <td>0.0</td>\n",
       "      <td>0.0</td>\n",
       "      <td>0.0</td>\n",
       "      <td>0.0</td>\n",
       "    </tr>\n",
       "    <tr>\n",
       "      <th>3</th>\n",
       "      <td>0.0</td>\n",
       "      <td>0.0</td>\n",
       "      <td>0.0</td>\n",
       "      <td>0.0</td>\n",
       "      <td>0.0</td>\n",
       "      <td>0.0</td>\n",
       "      <td>0.0</td>\n",
       "      <td>1.0</td>\n",
       "      <td>0.0</td>\n",
       "      <td>1.0</td>\n",
       "      <td>...</td>\n",
       "      <td>0.0</td>\n",
       "      <td>0.0</td>\n",
       "      <td>0.0</td>\n",
       "      <td>0.0</td>\n",
       "      <td>0.0</td>\n",
       "      <td>0.0</td>\n",
       "      <td>0.0</td>\n",
       "      <td>0.0</td>\n",
       "      <td>0.0</td>\n",
       "      <td>0.0</td>\n",
       "    </tr>\n",
       "    <tr>\n",
       "      <th>4</th>\n",
       "      <td>0.0</td>\n",
       "      <td>0.0</td>\n",
       "      <td>0.0</td>\n",
       "      <td>0.0</td>\n",
       "      <td>0.0</td>\n",
       "      <td>0.0</td>\n",
       "      <td>0.0</td>\n",
       "      <td>1.0</td>\n",
       "      <td>0.0</td>\n",
       "      <td>1.0</td>\n",
       "      <td>...</td>\n",
       "      <td>0.0</td>\n",
       "      <td>0.0</td>\n",
       "      <td>0.0</td>\n",
       "      <td>0.0</td>\n",
       "      <td>0.0</td>\n",
       "      <td>0.0</td>\n",
       "      <td>0.0</td>\n",
       "      <td>0.0</td>\n",
       "      <td>0.0</td>\n",
       "      <td>0.0</td>\n",
       "    </tr>\n",
       "  </tbody>\n",
       "</table>\n",
       "<p>5 rows × 305 columns</p>\n",
       "</div>"
      ],
      "text/plain": [
       "   x0_bus  x0_convertible  x0_coupe  x0_other  x0_sedan  x0_small  x0_suv  \\\n",
       "0     0.0             0.0       0.0       0.0       1.0       0.0     0.0   \n",
       "1     0.0             0.0       0.0       0.0       0.0       0.0     0.0   \n",
       "2     0.0             1.0       0.0       0.0       0.0       0.0     0.0   \n",
       "3     0.0             0.0       0.0       0.0       0.0       0.0     0.0   \n",
       "4     0.0             0.0       0.0       0.0       0.0       0.0     0.0   \n",
       "\n",
       "   x0_wagon  x1_auto  x1_manual  ...  x5_wrangler  x5_x_reihe  x5_x_trail  \\\n",
       "0       0.0      0.0        1.0  ...          0.0         0.0         0.0   \n",
       "1       1.0      0.0        1.0  ...          0.0         0.0         0.0   \n",
       "2       0.0      0.0        1.0  ...          0.0         0.0         0.0   \n",
       "3       1.0      0.0        1.0  ...          0.0         0.0         0.0   \n",
       "4       1.0      0.0        1.0  ...          0.0         0.0         0.0   \n",
       "\n",
       "   x5_x_type  x5_xc_reihe  x5_yaris  x5_yeti  x5_ypsilon  x5_z_reihe  \\\n",
       "0        0.0          0.0       0.0      0.0         0.0         0.0   \n",
       "1        0.0          0.0       0.0      0.0         0.0         0.0   \n",
       "2        0.0          0.0       0.0      0.0         0.0         0.0   \n",
       "3        0.0          0.0       0.0      0.0         0.0         0.0   \n",
       "4        0.0          0.0       0.0      0.0         0.0         0.0   \n",
       "\n",
       "   x5_zafira  \n",
       "0        0.0  \n",
       "1        0.0  \n",
       "2        0.0  \n",
       "3        0.0  \n",
       "4        0.0  \n",
       "\n",
       "[5 rows x 305 columns]"
      ]
     },
     "execution_count": 51,
     "metadata": {},
     "output_type": "execute_result"
    }
   ],
   "source": [
    "features_test_cat_ohe.head()"
   ]
  },
  {
   "cell_type": "markdown",
   "metadata": {},
   "source": [
    "Объединим закодированные столбцы с исходным датафреймом признаков:"
   ]
  },
  {
   "cell_type": "code",
   "execution_count": 52,
   "metadata": {},
   "outputs": [],
   "source": [
    "features_train_ohe = features_train.join(features_train_cat_ohe)\n",
    "features_valid_ohe = features_valid.join(features_valid_cat_ohe)\n",
    "features_test_ohe = features_test.join(features_test_cat_ohe)"
   ]
  },
  {
   "cell_type": "markdown",
   "metadata": {},
   "source": [
    "Удалим незакодриванные категориальные столбцы:"
   ]
  },
  {
   "cell_type": "code",
   "execution_count": 53,
   "metadata": {},
   "outputs": [],
   "source": [
    "features_train_ohe = features_train_ohe.drop(cat_features, axis=1)\n",
    "features_valid_ohe = features_valid_ohe.drop(cat_features, axis=1)\n",
    "features_test_ohe = features_test_ohe.drop(cat_features, axis=1)"
   ]
  },
  {
   "cell_type": "markdown",
   "metadata": {},
   "source": [
    "Выведем получившиеся признаки для 3-х выборок:"
   ]
  },
  {
   "cell_type": "code",
   "execution_count": 54,
   "metadata": {},
   "outputs": [
    {
     "data": {
      "text/html": [
       "<div>\n",
       "<style scoped>\n",
       "    .dataframe tbody tr th:only-of-type {\n",
       "        vertical-align: middle;\n",
       "    }\n",
       "\n",
       "    .dataframe tbody tr th {\n",
       "        vertical-align: top;\n",
       "    }\n",
       "\n",
       "    .dataframe thead th {\n",
       "        text-align: right;\n",
       "    }\n",
       "</style>\n",
       "<table border=\"1\" class=\"dataframe\">\n",
       "  <thead>\n",
       "    <tr style=\"text-align: right;\">\n",
       "      <th></th>\n",
       "      <th>registration_year</th>\n",
       "      <th>power</th>\n",
       "      <th>kilometer</th>\n",
       "      <th>registration_month</th>\n",
       "      <th>x0_bus</th>\n",
       "      <th>x0_convertible</th>\n",
       "      <th>x0_coupe</th>\n",
       "      <th>x0_other</th>\n",
       "      <th>x0_sedan</th>\n",
       "      <th>x0_small</th>\n",
       "      <th>...</th>\n",
       "      <th>x5_wrangler</th>\n",
       "      <th>x5_x_reihe</th>\n",
       "      <th>x5_x_trail</th>\n",
       "      <th>x5_x_type</th>\n",
       "      <th>x5_xc_reihe</th>\n",
       "      <th>x5_yaris</th>\n",
       "      <th>x5_yeti</th>\n",
       "      <th>x5_ypsilon</th>\n",
       "      <th>x5_z_reihe</th>\n",
       "      <th>x5_zafira</th>\n",
       "    </tr>\n",
       "  </thead>\n",
       "  <tbody>\n",
       "    <tr>\n",
       "      <th>0</th>\n",
       "      <td>2008</td>\n",
       "      <td>131</td>\n",
       "      <td>150000</td>\n",
       "      <td>9</td>\n",
       "      <td>0.0</td>\n",
       "      <td>0.0</td>\n",
       "      <td>0.0</td>\n",
       "      <td>0.0</td>\n",
       "      <td>0.0</td>\n",
       "      <td>1.0</td>\n",
       "      <td>...</td>\n",
       "      <td>0.0</td>\n",
       "      <td>0.0</td>\n",
       "      <td>0.0</td>\n",
       "      <td>0.0</td>\n",
       "      <td>0.0</td>\n",
       "      <td>0.0</td>\n",
       "      <td>0.0</td>\n",
       "      <td>0.0</td>\n",
       "      <td>0.0</td>\n",
       "      <td>0.0</td>\n",
       "    </tr>\n",
       "    <tr>\n",
       "      <th>1</th>\n",
       "      <td>2006</td>\n",
       "      <td>110</td>\n",
       "      <td>90000</td>\n",
       "      <td>4</td>\n",
       "      <td>0.0</td>\n",
       "      <td>0.0</td>\n",
       "      <td>0.0</td>\n",
       "      <td>0.0</td>\n",
       "      <td>0.0</td>\n",
       "      <td>1.0</td>\n",
       "      <td>...</td>\n",
       "      <td>0.0</td>\n",
       "      <td>0.0</td>\n",
       "      <td>0.0</td>\n",
       "      <td>0.0</td>\n",
       "      <td>0.0</td>\n",
       "      <td>0.0</td>\n",
       "      <td>0.0</td>\n",
       "      <td>0.0</td>\n",
       "      <td>0.0</td>\n",
       "      <td>0.0</td>\n",
       "    </tr>\n",
       "    <tr>\n",
       "      <th>2</th>\n",
       "      <td>2007</td>\n",
       "      <td>140</td>\n",
       "      <td>150000</td>\n",
       "      <td>8</td>\n",
       "      <td>0.0</td>\n",
       "      <td>0.0</td>\n",
       "      <td>0.0</td>\n",
       "      <td>0.0</td>\n",
       "      <td>0.0</td>\n",
       "      <td>1.0</td>\n",
       "      <td>...</td>\n",
       "      <td>0.0</td>\n",
       "      <td>0.0</td>\n",
       "      <td>0.0</td>\n",
       "      <td>0.0</td>\n",
       "      <td>0.0</td>\n",
       "      <td>0.0</td>\n",
       "      <td>0.0</td>\n",
       "      <td>0.0</td>\n",
       "      <td>0.0</td>\n",
       "      <td>0.0</td>\n",
       "    </tr>\n",
       "    <tr>\n",
       "      <th>3</th>\n",
       "      <td>2009</td>\n",
       "      <td>95</td>\n",
       "      <td>150000</td>\n",
       "      <td>3</td>\n",
       "      <td>0.0</td>\n",
       "      <td>0.0</td>\n",
       "      <td>0.0</td>\n",
       "      <td>0.0</td>\n",
       "      <td>1.0</td>\n",
       "      <td>0.0</td>\n",
       "      <td>...</td>\n",
       "      <td>0.0</td>\n",
       "      <td>0.0</td>\n",
       "      <td>0.0</td>\n",
       "      <td>0.0</td>\n",
       "      <td>0.0</td>\n",
       "      <td>0.0</td>\n",
       "      <td>0.0</td>\n",
       "      <td>0.0</td>\n",
       "      <td>0.0</td>\n",
       "      <td>0.0</td>\n",
       "    </tr>\n",
       "    <tr>\n",
       "      <th>4</th>\n",
       "      <td>2002</td>\n",
       "      <td>100</td>\n",
       "      <td>125000</td>\n",
       "      <td>11</td>\n",
       "      <td>0.0</td>\n",
       "      <td>0.0</td>\n",
       "      <td>0.0</td>\n",
       "      <td>0.0</td>\n",
       "      <td>0.0</td>\n",
       "      <td>1.0</td>\n",
       "      <td>...</td>\n",
       "      <td>0.0</td>\n",
       "      <td>0.0</td>\n",
       "      <td>0.0</td>\n",
       "      <td>0.0</td>\n",
       "      <td>0.0</td>\n",
       "      <td>0.0</td>\n",
       "      <td>0.0</td>\n",
       "      <td>0.0</td>\n",
       "      <td>0.0</td>\n",
       "      <td>0.0</td>\n",
       "    </tr>\n",
       "  </tbody>\n",
       "</table>\n",
       "<p>5 rows × 309 columns</p>\n",
       "</div>"
      ],
      "text/plain": [
       "   registration_year  power  kilometer  registration_month  x0_bus  \\\n",
       "0               2008    131     150000                   9     0.0   \n",
       "1               2006    110      90000                   4     0.0   \n",
       "2               2007    140     150000                   8     0.0   \n",
       "3               2009     95     150000                   3     0.0   \n",
       "4               2002    100     125000                  11     0.0   \n",
       "\n",
       "   x0_convertible  x0_coupe  x0_other  x0_sedan  x0_small  ...  x5_wrangler  \\\n",
       "0             0.0       0.0       0.0       0.0       1.0  ...          0.0   \n",
       "1             0.0       0.0       0.0       0.0       1.0  ...          0.0   \n",
       "2             0.0       0.0       0.0       0.0       1.0  ...          0.0   \n",
       "3             0.0       0.0       0.0       1.0       0.0  ...          0.0   \n",
       "4             0.0       0.0       0.0       0.0       1.0  ...          0.0   \n",
       "\n",
       "   x5_x_reihe  x5_x_trail  x5_x_type  x5_xc_reihe  x5_yaris  x5_yeti  \\\n",
       "0         0.0         0.0        0.0          0.0       0.0      0.0   \n",
       "1         0.0         0.0        0.0          0.0       0.0      0.0   \n",
       "2         0.0         0.0        0.0          0.0       0.0      0.0   \n",
       "3         0.0         0.0        0.0          0.0       0.0      0.0   \n",
       "4         0.0         0.0        0.0          0.0       0.0      0.0   \n",
       "\n",
       "   x5_ypsilon  x5_z_reihe  x5_zafira  \n",
       "0         0.0         0.0        0.0  \n",
       "1         0.0         0.0        0.0  \n",
       "2         0.0         0.0        0.0  \n",
       "3         0.0         0.0        0.0  \n",
       "4         0.0         0.0        0.0  \n",
       "\n",
       "[5 rows x 309 columns]"
      ]
     },
     "execution_count": 54,
     "metadata": {},
     "output_type": "execute_result"
    }
   ],
   "source": [
    "features_train_ohe.head() "
   ]
  },
  {
   "cell_type": "code",
   "execution_count": 55,
   "metadata": {},
   "outputs": [
    {
     "data": {
      "text/html": [
       "<div>\n",
       "<style scoped>\n",
       "    .dataframe tbody tr th:only-of-type {\n",
       "        vertical-align: middle;\n",
       "    }\n",
       "\n",
       "    .dataframe tbody tr th {\n",
       "        vertical-align: top;\n",
       "    }\n",
       "\n",
       "    .dataframe thead th {\n",
       "        text-align: right;\n",
       "    }\n",
       "</style>\n",
       "<table border=\"1\" class=\"dataframe\">\n",
       "  <thead>\n",
       "    <tr style=\"text-align: right;\">\n",
       "      <th></th>\n",
       "      <th>registration_year</th>\n",
       "      <th>power</th>\n",
       "      <th>kilometer</th>\n",
       "      <th>registration_month</th>\n",
       "      <th>x0_bus</th>\n",
       "      <th>x0_convertible</th>\n",
       "      <th>x0_coupe</th>\n",
       "      <th>x0_other</th>\n",
       "      <th>x0_sedan</th>\n",
       "      <th>x0_small</th>\n",
       "      <th>...</th>\n",
       "      <th>x5_wrangler</th>\n",
       "      <th>x5_x_reihe</th>\n",
       "      <th>x5_x_trail</th>\n",
       "      <th>x5_x_type</th>\n",
       "      <th>x5_xc_reihe</th>\n",
       "      <th>x5_yaris</th>\n",
       "      <th>x5_yeti</th>\n",
       "      <th>x5_ypsilon</th>\n",
       "      <th>x5_z_reihe</th>\n",
       "      <th>x5_zafira</th>\n",
       "    </tr>\n",
       "  </thead>\n",
       "  <tbody>\n",
       "    <tr>\n",
       "      <th>0</th>\n",
       "      <td>1988</td>\n",
       "      <td>75</td>\n",
       "      <td>150000</td>\n",
       "      <td>7</td>\n",
       "      <td>1.0</td>\n",
       "      <td>0.0</td>\n",
       "      <td>0.0</td>\n",
       "      <td>0.0</td>\n",
       "      <td>0.0</td>\n",
       "      <td>0.0</td>\n",
       "      <td>...</td>\n",
       "      <td>0.0</td>\n",
       "      <td>0.0</td>\n",
       "      <td>0.0</td>\n",
       "      <td>0.0</td>\n",
       "      <td>0.0</td>\n",
       "      <td>0.0</td>\n",
       "      <td>0.0</td>\n",
       "      <td>0.0</td>\n",
       "      <td>0.0</td>\n",
       "      <td>0.0</td>\n",
       "    </tr>\n",
       "    <tr>\n",
       "      <th>1</th>\n",
       "      <td>2007</td>\n",
       "      <td>140</td>\n",
       "      <td>150000</td>\n",
       "      <td>8</td>\n",
       "      <td>1.0</td>\n",
       "      <td>0.0</td>\n",
       "      <td>0.0</td>\n",
       "      <td>0.0</td>\n",
       "      <td>0.0</td>\n",
       "      <td>0.0</td>\n",
       "      <td>...</td>\n",
       "      <td>0.0</td>\n",
       "      <td>0.0</td>\n",
       "      <td>0.0</td>\n",
       "      <td>0.0</td>\n",
       "      <td>0.0</td>\n",
       "      <td>0.0</td>\n",
       "      <td>0.0</td>\n",
       "      <td>0.0</td>\n",
       "      <td>0.0</td>\n",
       "      <td>0.0</td>\n",
       "    </tr>\n",
       "    <tr>\n",
       "      <th>2</th>\n",
       "      <td>2006</td>\n",
       "      <td>105</td>\n",
       "      <td>150000</td>\n",
       "      <td>9</td>\n",
       "      <td>0.0</td>\n",
       "      <td>0.0</td>\n",
       "      <td>0.0</td>\n",
       "      <td>0.0</td>\n",
       "      <td>0.0</td>\n",
       "      <td>1.0</td>\n",
       "      <td>...</td>\n",
       "      <td>0.0</td>\n",
       "      <td>0.0</td>\n",
       "      <td>0.0</td>\n",
       "      <td>0.0</td>\n",
       "      <td>0.0</td>\n",
       "      <td>0.0</td>\n",
       "      <td>0.0</td>\n",
       "      <td>0.0</td>\n",
       "      <td>0.0</td>\n",
       "      <td>0.0</td>\n",
       "    </tr>\n",
       "    <tr>\n",
       "      <th>3</th>\n",
       "      <td>2001</td>\n",
       "      <td>58</td>\n",
       "      <td>150000</td>\n",
       "      <td>7</td>\n",
       "      <td>0.0</td>\n",
       "      <td>0.0</td>\n",
       "      <td>0.0</td>\n",
       "      <td>0.0</td>\n",
       "      <td>0.0</td>\n",
       "      <td>1.0</td>\n",
       "      <td>...</td>\n",
       "      <td>0.0</td>\n",
       "      <td>0.0</td>\n",
       "      <td>0.0</td>\n",
       "      <td>0.0</td>\n",
       "      <td>0.0</td>\n",
       "      <td>0.0</td>\n",
       "      <td>0.0</td>\n",
       "      <td>0.0</td>\n",
       "      <td>0.0</td>\n",
       "      <td>0.0</td>\n",
       "    </tr>\n",
       "    <tr>\n",
       "      <th>4</th>\n",
       "      <td>2007</td>\n",
       "      <td>286</td>\n",
       "      <td>150000</td>\n",
       "      <td>7</td>\n",
       "      <td>0.0</td>\n",
       "      <td>0.0</td>\n",
       "      <td>1.0</td>\n",
       "      <td>0.0</td>\n",
       "      <td>0.0</td>\n",
       "      <td>0.0</td>\n",
       "      <td>...</td>\n",
       "      <td>0.0</td>\n",
       "      <td>0.0</td>\n",
       "      <td>0.0</td>\n",
       "      <td>0.0</td>\n",
       "      <td>0.0</td>\n",
       "      <td>0.0</td>\n",
       "      <td>0.0</td>\n",
       "      <td>0.0</td>\n",
       "      <td>0.0</td>\n",
       "      <td>0.0</td>\n",
       "    </tr>\n",
       "  </tbody>\n",
       "</table>\n",
       "<p>5 rows × 309 columns</p>\n",
       "</div>"
      ],
      "text/plain": [
       "   registration_year  power  kilometer  registration_month  x0_bus  \\\n",
       "0               1988     75     150000                   7     1.0   \n",
       "1               2007    140     150000                   8     1.0   \n",
       "2               2006    105     150000                   9     0.0   \n",
       "3               2001     58     150000                   7     0.0   \n",
       "4               2007    286     150000                   7     0.0   \n",
       "\n",
       "   x0_convertible  x0_coupe  x0_other  x0_sedan  x0_small  ...  x5_wrangler  \\\n",
       "0             0.0       0.0       0.0       0.0       0.0  ...          0.0   \n",
       "1             0.0       0.0       0.0       0.0       0.0  ...          0.0   \n",
       "2             0.0       0.0       0.0       0.0       1.0  ...          0.0   \n",
       "3             0.0       0.0       0.0       0.0       1.0  ...          0.0   \n",
       "4             0.0       1.0       0.0       0.0       0.0  ...          0.0   \n",
       "\n",
       "   x5_x_reihe  x5_x_trail  x5_x_type  x5_xc_reihe  x5_yaris  x5_yeti  \\\n",
       "0         0.0         0.0        0.0          0.0       0.0      0.0   \n",
       "1         0.0         0.0        0.0          0.0       0.0      0.0   \n",
       "2         0.0         0.0        0.0          0.0       0.0      0.0   \n",
       "3         0.0         0.0        0.0          0.0       0.0      0.0   \n",
       "4         0.0         0.0        0.0          0.0       0.0      0.0   \n",
       "\n",
       "   x5_ypsilon  x5_z_reihe  x5_zafira  \n",
       "0         0.0         0.0        0.0  \n",
       "1         0.0         0.0        0.0  \n",
       "2         0.0         0.0        0.0  \n",
       "3         0.0         0.0        0.0  \n",
       "4         0.0         0.0        0.0  \n",
       "\n",
       "[5 rows x 309 columns]"
      ]
     },
     "execution_count": 55,
     "metadata": {},
     "output_type": "execute_result"
    }
   ],
   "source": [
    "features_valid_ohe.head() "
   ]
  },
  {
   "cell_type": "code",
   "execution_count": 56,
   "metadata": {},
   "outputs": [
    {
     "data": {
      "text/html": [
       "<div>\n",
       "<style scoped>\n",
       "    .dataframe tbody tr th:only-of-type {\n",
       "        vertical-align: middle;\n",
       "    }\n",
       "\n",
       "    .dataframe tbody tr th {\n",
       "        vertical-align: top;\n",
       "    }\n",
       "\n",
       "    .dataframe thead th {\n",
       "        text-align: right;\n",
       "    }\n",
       "</style>\n",
       "<table border=\"1\" class=\"dataframe\">\n",
       "  <thead>\n",
       "    <tr style=\"text-align: right;\">\n",
       "      <th></th>\n",
       "      <th>registration_year</th>\n",
       "      <th>power</th>\n",
       "      <th>kilometer</th>\n",
       "      <th>registration_month</th>\n",
       "      <th>x0_bus</th>\n",
       "      <th>x0_convertible</th>\n",
       "      <th>x0_coupe</th>\n",
       "      <th>x0_other</th>\n",
       "      <th>x0_sedan</th>\n",
       "      <th>x0_small</th>\n",
       "      <th>...</th>\n",
       "      <th>x5_wrangler</th>\n",
       "      <th>x5_x_reihe</th>\n",
       "      <th>x5_x_trail</th>\n",
       "      <th>x5_x_type</th>\n",
       "      <th>x5_xc_reihe</th>\n",
       "      <th>x5_yaris</th>\n",
       "      <th>x5_yeti</th>\n",
       "      <th>x5_ypsilon</th>\n",
       "      <th>x5_z_reihe</th>\n",
       "      <th>x5_zafira</th>\n",
       "    </tr>\n",
       "  </thead>\n",
       "  <tbody>\n",
       "    <tr>\n",
       "      <th>0</th>\n",
       "      <td>1998</td>\n",
       "      <td>200</td>\n",
       "      <td>150000</td>\n",
       "      <td>6</td>\n",
       "      <td>0.0</td>\n",
       "      <td>0.0</td>\n",
       "      <td>0.0</td>\n",
       "      <td>0.0</td>\n",
       "      <td>1.0</td>\n",
       "      <td>0.0</td>\n",
       "      <td>...</td>\n",
       "      <td>0.0</td>\n",
       "      <td>0.0</td>\n",
       "      <td>0.0</td>\n",
       "      <td>0.0</td>\n",
       "      <td>0.0</td>\n",
       "      <td>0.0</td>\n",
       "      <td>0.0</td>\n",
       "      <td>0.0</td>\n",
       "      <td>0.0</td>\n",
       "      <td>0.0</td>\n",
       "    </tr>\n",
       "    <tr>\n",
       "      <th>1</th>\n",
       "      <td>2011</td>\n",
       "      <td>125</td>\n",
       "      <td>150000</td>\n",
       "      <td>8</td>\n",
       "      <td>0.0</td>\n",
       "      <td>0.0</td>\n",
       "      <td>0.0</td>\n",
       "      <td>0.0</td>\n",
       "      <td>0.0</td>\n",
       "      <td>0.0</td>\n",
       "      <td>...</td>\n",
       "      <td>0.0</td>\n",
       "      <td>0.0</td>\n",
       "      <td>0.0</td>\n",
       "      <td>0.0</td>\n",
       "      <td>0.0</td>\n",
       "      <td>0.0</td>\n",
       "      <td>0.0</td>\n",
       "      <td>0.0</td>\n",
       "      <td>0.0</td>\n",
       "      <td>0.0</td>\n",
       "    </tr>\n",
       "    <tr>\n",
       "      <th>2</th>\n",
       "      <td>1997</td>\n",
       "      <td>125</td>\n",
       "      <td>150000</td>\n",
       "      <td>5</td>\n",
       "      <td>0.0</td>\n",
       "      <td>1.0</td>\n",
       "      <td>0.0</td>\n",
       "      <td>0.0</td>\n",
       "      <td>0.0</td>\n",
       "      <td>0.0</td>\n",
       "      <td>...</td>\n",
       "      <td>0.0</td>\n",
       "      <td>0.0</td>\n",
       "      <td>0.0</td>\n",
       "      <td>0.0</td>\n",
       "      <td>0.0</td>\n",
       "      <td>0.0</td>\n",
       "      <td>0.0</td>\n",
       "      <td>0.0</td>\n",
       "      <td>0.0</td>\n",
       "      <td>0.0</td>\n",
       "    </tr>\n",
       "    <tr>\n",
       "      <th>3</th>\n",
       "      <td>2002</td>\n",
       "      <td>141</td>\n",
       "      <td>150000</td>\n",
       "      <td>12</td>\n",
       "      <td>0.0</td>\n",
       "      <td>0.0</td>\n",
       "      <td>0.0</td>\n",
       "      <td>0.0</td>\n",
       "      <td>0.0</td>\n",
       "      <td>0.0</td>\n",
       "      <td>...</td>\n",
       "      <td>0.0</td>\n",
       "      <td>0.0</td>\n",
       "      <td>0.0</td>\n",
       "      <td>0.0</td>\n",
       "      <td>0.0</td>\n",
       "      <td>0.0</td>\n",
       "      <td>0.0</td>\n",
       "      <td>0.0</td>\n",
       "      <td>0.0</td>\n",
       "      <td>0.0</td>\n",
       "    </tr>\n",
       "    <tr>\n",
       "      <th>4</th>\n",
       "      <td>2006</td>\n",
       "      <td>101</td>\n",
       "      <td>125000</td>\n",
       "      <td>0</td>\n",
       "      <td>0.0</td>\n",
       "      <td>0.0</td>\n",
       "      <td>0.0</td>\n",
       "      <td>0.0</td>\n",
       "      <td>0.0</td>\n",
       "      <td>0.0</td>\n",
       "      <td>...</td>\n",
       "      <td>0.0</td>\n",
       "      <td>0.0</td>\n",
       "      <td>0.0</td>\n",
       "      <td>0.0</td>\n",
       "      <td>0.0</td>\n",
       "      <td>0.0</td>\n",
       "      <td>0.0</td>\n",
       "      <td>0.0</td>\n",
       "      <td>0.0</td>\n",
       "      <td>0.0</td>\n",
       "    </tr>\n",
       "  </tbody>\n",
       "</table>\n",
       "<p>5 rows × 309 columns</p>\n",
       "</div>"
      ],
      "text/plain": [
       "   registration_year  power  kilometer  registration_month  x0_bus  \\\n",
       "0               1998    200     150000                   6     0.0   \n",
       "1               2011    125     150000                   8     0.0   \n",
       "2               1997    125     150000                   5     0.0   \n",
       "3               2002    141     150000                  12     0.0   \n",
       "4               2006    101     125000                   0     0.0   \n",
       "\n",
       "   x0_convertible  x0_coupe  x0_other  x0_sedan  x0_small  ...  x5_wrangler  \\\n",
       "0             0.0       0.0       0.0       1.0       0.0  ...          0.0   \n",
       "1             0.0       0.0       0.0       0.0       0.0  ...          0.0   \n",
       "2             1.0       0.0       0.0       0.0       0.0  ...          0.0   \n",
       "3             0.0       0.0       0.0       0.0       0.0  ...          0.0   \n",
       "4             0.0       0.0       0.0       0.0       0.0  ...          0.0   \n",
       "\n",
       "   x5_x_reihe  x5_x_trail  x5_x_type  x5_xc_reihe  x5_yaris  x5_yeti  \\\n",
       "0         0.0         0.0        0.0          0.0       0.0      0.0   \n",
       "1         0.0         0.0        0.0          0.0       0.0      0.0   \n",
       "2         0.0         0.0        0.0          0.0       0.0      0.0   \n",
       "3         0.0         0.0        0.0          0.0       0.0      0.0   \n",
       "4         0.0         0.0        0.0          0.0       0.0      0.0   \n",
       "\n",
       "   x5_ypsilon  x5_z_reihe  x5_zafira  \n",
       "0         0.0         0.0        0.0  \n",
       "1         0.0         0.0        0.0  \n",
       "2         0.0         0.0        0.0  \n",
       "3         0.0         0.0        0.0  \n",
       "4         0.0         0.0        0.0  \n",
       "\n",
       "[5 rows x 309 columns]"
      ]
     },
     "execution_count": 56,
     "metadata": {},
     "output_type": "execute_result"
    }
   ],
   "source": [
    "features_test_ohe.head() "
   ]
  },
  {
   "cell_type": "markdown",
   "metadata": {},
   "source": [
    "#### RandomForestRegressor"
   ]
  },
  {
   "cell_type": "markdown",
   "metadata": {},
   "source": [
    "Обучим модель и сделаем предсказания."
   ]
  },
  {
   "cell_type": "markdown",
   "metadata": {},
   "source": [
    "Для подбора гипепараметров используем `RandomizedSearchCV`."
   ]
  },
  {
   "cell_type": "code",
   "execution_count": 57,
   "metadata": {},
   "outputs": [],
   "source": [
    "model_forest_ohe = RandomForestRegressor(random_state=12345)"
   ]
  },
  {
   "cell_type": "markdown",
   "metadata": {},
   "source": [
    "Выделим гиперпараметры для перебора:"
   ]
  },
  {
   "cell_type": "code",
   "execution_count": 58,
   "metadata": {},
   "outputs": [],
   "source": [
    "parametrs = {\n",
    "    'max_depth': range(1, 10),\n",
    "    'n_estimators': range(10, 101, 10),\n",
    "    'min_samples_leaf': range(1, 8),\n",
    "    'min_samples_split': range(2, 10, 2)\n",
    "}"
   ]
  },
  {
   "cell_type": "markdown",
   "metadata": {},
   "source": [
    "Используем make_scorer для дальнейшего использония `RMSE` в `RandomizedSearchCV`:"
   ]
  },
  {
   "cell_type": "code",
   "execution_count": 59,
   "metadata": {},
   "outputs": [],
   "source": [
    "rmse_scorer = make_scorer(rmse, greater_is_better=False)"
   ]
  },
  {
   "cell_type": "code",
   "execution_count": 60,
   "metadata": {},
   "outputs": [],
   "source": [
    "random_src = RandomizedSearchCV(estimator=model_forest_ohe,\n",
    "                                param_distributions=parametrs,\n",
    "                                cv=3,\n",
    "                                n_iter=10,\n",
    "                                n_jobs=-1,\n",
    "                                random_state=12345,\n",
    "                                scoring=rmse_scorer,\n",
    "                                verbose=2)"
   ]
  },
  {
   "cell_type": "markdown",
   "metadata": {},
   "source": [
    "Для обучения `RandomizedSearchCV` объединим обучающую и валидационную выборки:"
   ]
  },
  {
   "cell_type": "code",
   "execution_count": 61,
   "metadata": {},
   "outputs": [],
   "source": [
    "features_train_ohe_united = pd.concat([features_train_ohe, features_valid_ohe]).reset_index(drop=True)\n",
    "target_train_united = pd.concat([target_train, target_valid]).reset_index(drop=True)"
   ]
  },
  {
   "cell_type": "code",
   "execution_count": 62,
   "metadata": {},
   "outputs": [
    {
     "name": "stdout",
     "output_type": "stream",
     "text": [
      "Fitting 3 folds for each of 10 candidates, totalling 30 fits\n",
      "[CV] END max_depth=2, min_samples_leaf=6, min_samples_split=2, n_estimators=30; total time=   7.8s\n",
      "[CV] END max_depth=2, min_samples_leaf=6, min_samples_split=2, n_estimators=30; total time=   7.8s\n",
      "[CV] END max_depth=2, min_samples_leaf=6, min_samples_split=2, n_estimators=30; total time=   7.5s\n",
      "[CV] END max_depth=8, min_samples_leaf=6, min_samples_split=4, n_estimators=80; total time= 1.4min\n",
      "[CV] END max_depth=8, min_samples_leaf=6, min_samples_split=4, n_estimators=80; total time= 1.4min\n",
      "[CV] END max_depth=8, min_samples_leaf=6, min_samples_split=4, n_estimators=80; total time= 1.4min\n",
      "[CV] END max_depth=2, min_samples_leaf=3, min_samples_split=6, n_estimators=30; total time=   7.9s\n",
      "[CV] END max_depth=2, min_samples_leaf=3, min_samples_split=6, n_estimators=30; total time=   7.8s\n",
      "[CV] END max_depth=2, min_samples_leaf=3, min_samples_split=6, n_estimators=30; total time=   7.9s\n",
      "[CV] END max_depth=2, min_samples_leaf=7, min_samples_split=6, n_estimators=70; total time=  17.0s\n",
      "[CV] END max_depth=2, min_samples_leaf=7, min_samples_split=6, n_estimators=70; total time=  16.6s\n",
      "[CV] END max_depth=2, min_samples_leaf=7, min_samples_split=6, n_estimators=70; total time=  16.4s\n",
      "[CV] END max_depth=8, min_samples_leaf=5, min_samples_split=8, n_estimators=40; total time=  42.3s\n",
      "[CV] END max_depth=8, min_samples_leaf=5, min_samples_split=8, n_estimators=40; total time=  41.2s\n",
      "[CV] END max_depth=8, min_samples_leaf=5, min_samples_split=8, n_estimators=40; total time=  41.6s\n",
      "[CV] END max_depth=5, min_samples_leaf=7, min_samples_split=8, n_estimators=90; total time= 1.0min\n",
      "[CV] END max_depth=5, min_samples_leaf=7, min_samples_split=8, n_estimators=90; total time= 1.0min\n",
      "[CV] END max_depth=5, min_samples_leaf=7, min_samples_split=8, n_estimators=90; total time= 1.0min\n",
      "[CV] END max_depth=4, min_samples_leaf=2, min_samples_split=2, n_estimators=30; total time=  16.5s\n",
      "[CV] END max_depth=4, min_samples_leaf=2, min_samples_split=2, n_estimators=30; total time=  16.4s\n",
      "[CV] END max_depth=4, min_samples_leaf=2, min_samples_split=2, n_estimators=30; total time=  16.3s\n",
      "[CV] END max_depth=3, min_samples_leaf=4, min_samples_split=8, n_estimators=40; total time=  15.5s\n",
      "[CV] END max_depth=3, min_samples_leaf=4, min_samples_split=8, n_estimators=40; total time=  15.4s\n",
      "[CV] END max_depth=3, min_samples_leaf=4, min_samples_split=8, n_estimators=40; total time=  15.6s\n",
      "[CV] END max_depth=1, min_samples_leaf=7, min_samples_split=6, n_estimators=80; total time=   8.8s\n",
      "[CV] END max_depth=1, min_samples_leaf=7, min_samples_split=6, n_estimators=80; total time=   8.6s\n",
      "[CV] END max_depth=1, min_samples_leaf=7, min_samples_split=6, n_estimators=80; total time=   8.7s\n",
      "[CV] END max_depth=6, min_samples_leaf=7, min_samples_split=8, n_estimators=50; total time=  40.9s\n",
      "[CV] END max_depth=6, min_samples_leaf=7, min_samples_split=8, n_estimators=50; total time=  42.2s\n"
     ]
    },
    {
     "data": {
      "text/plain": [
       "RandomizedSearchCV(cv=3, estimator=RandomForestRegressor(random_state=12345),\n",
       "                   n_jobs=-1,\n",
       "                   param_distributions={'max_depth': range(1, 10),\n",
       "                                        'min_samples_leaf': range(1, 8),\n",
       "                                        'min_samples_split': range(2, 10, 2),\n",
       "                                        'n_estimators': range(10, 101, 10)},\n",
       "                   random_state=12345,\n",
       "                   scoring=make_scorer(rmse, greater_is_better=False),\n",
       "                   verbose=2)"
      ]
     },
     "execution_count": 62,
     "metadata": {},
     "output_type": "execute_result"
    }
   ],
   "source": [
    "random_src.fit(features_train_ohe_united, target_train_united)"
   ]
  },
  {
   "cell_type": "markdown",
   "metadata": {},
   "source": [
    "Выведем результаты кросс-валидации:"
   ]
  },
  {
   "cell_type": "code",
   "execution_count": 63,
   "metadata": {},
   "outputs": [
    {
     "name": "stdout",
     "output_type": "stream",
     "text": [
      "Время обучения: 84.4 с\n"
     ]
    }
   ],
   "source": [
    "fit_time_forest_ohe = round(random_src.cv_results_['mean_fit_time'][random_src.best_index_], 2)\n",
    "print('Время обучения:', fit_time_forest_ohe, 'с')"
   ]
  },
  {
   "cell_type": "code",
   "execution_count": 64,
   "metadata": {},
   "outputs": [
    {
     "name": "stdout",
     "output_type": "stream",
     "text": [
      "Время предсказания: 0.4 с\n"
     ]
    }
   ],
   "source": [
    "pred_time_forest_ohe = round(random_src.cv_results_['mean_score_time'][random_src.best_index_], 2)\n",
    "print('Время предсказания:', pred_time_forest_ohe, 'с')"
   ]
  },
  {
   "cell_type": "code",
   "execution_count": 65,
   "metadata": {},
   "outputs": [
    {
     "data": {
      "text/plain": [
       "{'n_estimators': 80,\n",
       " 'min_samples_split': 4,\n",
       " 'min_samples_leaf': 6,\n",
       " 'max_depth': 8}"
      ]
     },
     "execution_count": 65,
     "metadata": {},
     "output_type": "execute_result"
    }
   ],
   "source": [
    "random_src.cv_results_['params'][random_src.best_index_] # гиперпараметры лучшей модели"
   ]
  },
  {
   "cell_type": "code",
   "execution_count": 66,
   "metadata": {},
   "outputs": [
    {
     "name": "stdout",
     "output_type": "stream",
     "text": [
      "RMSE модели RandomForestRegressor на валидационной выборке: 2073.26\n"
     ]
    }
   ],
   "source": [
    "forest_ohe_rmse = abs(round(random_src.best_score_, 2))\n",
    "print('RMSE модели RandomForestRegressor на валидационной выборке:', forest_ohe_rmse)"
   ]
  },
  {
   "cell_type": "markdown",
   "metadata": {},
   "source": [
    "#### Линейная регрессия"
   ]
  },
  {
   "cell_type": "markdown",
   "metadata": {},
   "source": [
    "Для модели линейной регрессии сделаем масштабирование признаков:"
   ]
  },
  {
   "cell_type": "code",
   "execution_count": 71,
   "metadata": {},
   "outputs": [],
   "source": [
    "numeric_col = features_train.select_dtypes(include=['number']).columns.to_list()\n",
    "\n",
    "features_train_ohe_scaled = features_train_ohe.copy()\n",
    "features_valid_ohe_scaled = features_valid_ohe.copy()\n",
    "features_test_ohe_scaled = features_test_ohe.copy()\n",
    "\n",
    "scaler = StandardScaler()\n",
    "scaler.fit(features_train_ohe[numeric_col])\n",
    "features_train_ohe_scaled[numeric_col] = scaler.transform(features_train_ohe[numeric_col])\n",
    "features_valid_ohe_scaled[numeric_col] = scaler.transform(features_valid_ohe[numeric_col])\n",
    "features_test_ohe_scaled[numeric_col] = scaler.transform(features_test_ohe[numeric_col])"
   ]
  },
  {
   "cell_type": "markdown",
   "metadata": {},
   "source": [
    "Обучим модель и сделаем предсказания:"
   ]
  },
  {
   "cell_type": "code",
   "execution_count": 72,
   "metadata": {},
   "outputs": [
    {
     "name": "stdout",
     "output_type": "stream",
     "text": [
      "Время обучения: 19.37 с\n"
     ]
    }
   ],
   "source": [
    "model_linear_ohe = LinearRegression()\n",
    "\n",
    "start = time.time()\n",
    "\n",
    "model_linear_ohe.fit(features_train_ohe_scaled, target_train)\n",
    "\n",
    "end = time.time()\n",
    "\n",
    "fit_time_linear_ohe_scaled = round(end - start, 2)\n",
    "\n",
    "print('Время обучения:', fit_time_linear_ohe_scaled, 'с')"
   ]
  },
  {
   "cell_type": "code",
   "execution_count": 73,
   "metadata": {},
   "outputs": [
    {
     "name": "stdout",
     "output_type": "stream",
     "text": [
      "Время предсказания: 0.14 с\n"
     ]
    }
   ],
   "source": [
    "start = time.time()\n",
    "\n",
    "predictions = model_linear_ohe.predict(features_valid_ohe_scaled)\n",
    "\n",
    "end = time.time()\n",
    "\n",
    "pred_time_linear_ohe_scaled = round(end - start, 2)\n",
    "\n",
    "print('Время предсказания:', pred_time_linear_ohe_scaled, 'с')"
   ]
  },
  {
   "cell_type": "code",
   "execution_count": 74,
   "metadata": {},
   "outputs": [
    {
     "name": "stdout",
     "output_type": "stream",
     "text": [
      "RMSE модели LinearRegression на валидационной выборке: 2580.86\n"
     ]
    }
   ],
   "source": [
    "linear_ohe_scaled_rmse = round(rmse(target_valid, predictions), 2)\n",
    "print('RMSE модели LinearRegression на валидационной выборке:', linear_ohe_scaled_rmse)"
   ]
  },
  {
   "cell_type": "markdown",
   "metadata": {},
   "source": [
    "### Ordinal Encoding"
   ]
  },
  {
   "cell_type": "markdown",
   "metadata": {},
   "source": [
    "#### Применим `OdinalEncoder`"
   ]
  },
  {
   "cell_type": "code",
   "execution_count": 75,
   "metadata": {},
   "outputs": [],
   "source": [
    "oe = OrdinalEncoder(handle_unknown='use_encoded_value', unknown_value=-1)\n",
    "oe.fit(features_train[cat_features])\n",
    "\n",
    "features_train_oe = features_train.copy()\n",
    "features_valid_oe = features_valid.copy()\n",
    "features_test_oe = features_test.copy()\n",
    "\n",
    "features_train_oe[cat_features] = oe.transform(features_train_oe[cat_features])\n",
    "features_valid_oe[cat_features] = oe.transform(features_valid_oe[cat_features])\n",
    "features_test_oe[cat_features] = oe.transform(features_test_oe[cat_features])"
   ]
  },
  {
   "cell_type": "markdown",
   "metadata": {},
   "source": [
    "Выведем получившиеся признаки для 3-х выборок:"
   ]
  },
  {
   "cell_type": "code",
   "execution_count": 76,
   "metadata": {},
   "outputs": [
    {
     "data": {
      "text/html": [
       "<div>\n",
       "<style scoped>\n",
       "    .dataframe tbody tr th:only-of-type {\n",
       "        vertical-align: middle;\n",
       "    }\n",
       "\n",
       "    .dataframe tbody tr th {\n",
       "        vertical-align: top;\n",
       "    }\n",
       "\n",
       "    .dataframe thead th {\n",
       "        text-align: right;\n",
       "    }\n",
       "</style>\n",
       "<table border=\"1\" class=\"dataframe\">\n",
       "  <thead>\n",
       "    <tr style=\"text-align: right;\">\n",
       "      <th></th>\n",
       "      <th>vehicle_type</th>\n",
       "      <th>registration_year</th>\n",
       "      <th>gearbox</th>\n",
       "      <th>power</th>\n",
       "      <th>model</th>\n",
       "      <th>kilometer</th>\n",
       "      <th>registration_month</th>\n",
       "      <th>fuel_type</th>\n",
       "      <th>brand</th>\n",
       "      <th>repaired</th>\n",
       "    </tr>\n",
       "  </thead>\n",
       "  <tbody>\n",
       "    <tr>\n",
       "      <th>0</th>\n",
       "      <td>5.0</td>\n",
       "      <td>2008</td>\n",
       "      <td>1.0</td>\n",
       "      <td>131</td>\n",
       "      <td>165.0</td>\n",
       "      <td>150000</td>\n",
       "      <td>9</td>\n",
       "      <td>2.0</td>\n",
       "      <td>9.0</td>\n",
       "      <td>0.0</td>\n",
       "    </tr>\n",
       "    <tr>\n",
       "      <th>1</th>\n",
       "      <td>5.0</td>\n",
       "      <td>2006</td>\n",
       "      <td>1.0</td>\n",
       "      <td>110</td>\n",
       "      <td>81.0</td>\n",
       "      <td>90000</td>\n",
       "      <td>4</td>\n",
       "      <td>6.0</td>\n",
       "      <td>35.0</td>\n",
       "      <td>0.0</td>\n",
       "    </tr>\n",
       "    <tr>\n",
       "      <th>2</th>\n",
       "      <td>5.0</td>\n",
       "      <td>2007</td>\n",
       "      <td>1.0</td>\n",
       "      <td>140</td>\n",
       "      <td>115.0</td>\n",
       "      <td>150000</td>\n",
       "      <td>8</td>\n",
       "      <td>2.0</td>\n",
       "      <td>37.0</td>\n",
       "      <td>0.0</td>\n",
       "    </tr>\n",
       "    <tr>\n",
       "      <th>3</th>\n",
       "      <td>4.0</td>\n",
       "      <td>2009</td>\n",
       "      <td>1.0</td>\n",
       "      <td>95</td>\n",
       "      <td>164.0</td>\n",
       "      <td>150000</td>\n",
       "      <td>3</td>\n",
       "      <td>6.0</td>\n",
       "      <td>21.0</td>\n",
       "      <td>0.0</td>\n",
       "    </tr>\n",
       "    <tr>\n",
       "      <th>4</th>\n",
       "      <td>5.0</td>\n",
       "      <td>2002</td>\n",
       "      <td>1.0</td>\n",
       "      <td>100</td>\n",
       "      <td>119.0</td>\n",
       "      <td>125000</td>\n",
       "      <td>11</td>\n",
       "      <td>6.0</td>\n",
       "      <td>30.0</td>\n",
       "      <td>0.0</td>\n",
       "    </tr>\n",
       "  </tbody>\n",
       "</table>\n",
       "</div>"
      ],
      "text/plain": [
       "   vehicle_type  registration_year  gearbox  power  model  kilometer  \\\n",
       "0           5.0               2008      1.0    131  165.0     150000   \n",
       "1           5.0               2006      1.0    110   81.0      90000   \n",
       "2           5.0               2007      1.0    140  115.0     150000   \n",
       "3           4.0               2009      1.0     95  164.0     150000   \n",
       "4           5.0               2002      1.0    100  119.0     125000   \n",
       "\n",
       "   registration_month  fuel_type  brand  repaired  \n",
       "0                   9        2.0    9.0       0.0  \n",
       "1                   4        6.0   35.0       0.0  \n",
       "2                   8        2.0   37.0       0.0  \n",
       "3                   3        6.0   21.0       0.0  \n",
       "4                  11        6.0   30.0       0.0  "
      ]
     },
     "execution_count": 76,
     "metadata": {},
     "output_type": "execute_result"
    }
   ],
   "source": [
    "features_train_oe.head()"
   ]
  },
  {
   "cell_type": "code",
   "execution_count": 77,
   "metadata": {},
   "outputs": [
    {
     "data": {
      "text/html": [
       "<div>\n",
       "<style scoped>\n",
       "    .dataframe tbody tr th:only-of-type {\n",
       "        vertical-align: middle;\n",
       "    }\n",
       "\n",
       "    .dataframe tbody tr th {\n",
       "        vertical-align: top;\n",
       "    }\n",
       "\n",
       "    .dataframe thead th {\n",
       "        text-align: right;\n",
       "    }\n",
       "</style>\n",
       "<table border=\"1\" class=\"dataframe\">\n",
       "  <thead>\n",
       "    <tr style=\"text-align: right;\">\n",
       "      <th></th>\n",
       "      <th>vehicle_type</th>\n",
       "      <th>registration_year</th>\n",
       "      <th>gearbox</th>\n",
       "      <th>power</th>\n",
       "      <th>model</th>\n",
       "      <th>kilometer</th>\n",
       "      <th>registration_month</th>\n",
       "      <th>fuel_type</th>\n",
       "      <th>brand</th>\n",
       "      <th>repaired</th>\n",
       "    </tr>\n",
       "  </thead>\n",
       "  <tbody>\n",
       "    <tr>\n",
       "      <th>0</th>\n",
       "      <td>0.0</td>\n",
       "      <td>1988</td>\n",
       "      <td>1.0</td>\n",
       "      <td>75</td>\n",
       "      <td>221.0</td>\n",
       "      <td>150000</td>\n",
       "      <td>7</td>\n",
       "      <td>2.0</td>\n",
       "      <td>37.0</td>\n",
       "      <td>0.0</td>\n",
       "    </tr>\n",
       "    <tr>\n",
       "      <th>1</th>\n",
       "      <td>0.0</td>\n",
       "      <td>2007</td>\n",
       "      <td>0.0</td>\n",
       "      <td>140</td>\n",
       "      <td>46.0</td>\n",
       "      <td>150000</td>\n",
       "      <td>8</td>\n",
       "      <td>2.0</td>\n",
       "      <td>20.0</td>\n",
       "      <td>0.0</td>\n",
       "    </tr>\n",
       "    <tr>\n",
       "      <th>2</th>\n",
       "      <td>5.0</td>\n",
       "      <td>2006</td>\n",
       "      <td>1.0</td>\n",
       "      <td>105</td>\n",
       "      <td>115.0</td>\n",
       "      <td>150000</td>\n",
       "      <td>9</td>\n",
       "      <td>2.0</td>\n",
       "      <td>37.0</td>\n",
       "      <td>0.0</td>\n",
       "    </tr>\n",
       "    <tr>\n",
       "      <th>3</th>\n",
       "      <td>5.0</td>\n",
       "      <td>2001</td>\n",
       "      <td>1.0</td>\n",
       "      <td>58</td>\n",
       "      <td>82.0</td>\n",
       "      <td>150000</td>\n",
       "      <td>7</td>\n",
       "      <td>6.0</td>\n",
       "      <td>24.0</td>\n",
       "      <td>0.0</td>\n",
       "    </tr>\n",
       "    <tr>\n",
       "      <th>4</th>\n",
       "      <td>2.0</td>\n",
       "      <td>2007</td>\n",
       "      <td>0.0</td>\n",
       "      <td>286</td>\n",
       "      <td>11.0</td>\n",
       "      <td>150000</td>\n",
       "      <td>7</td>\n",
       "      <td>2.0</td>\n",
       "      <td>2.0</td>\n",
       "      <td>0.0</td>\n",
       "    </tr>\n",
       "  </tbody>\n",
       "</table>\n",
       "</div>"
      ],
      "text/plain": [
       "   vehicle_type  registration_year  gearbox  power  model  kilometer  \\\n",
       "0           0.0               1988      1.0     75  221.0     150000   \n",
       "1           0.0               2007      0.0    140   46.0     150000   \n",
       "2           5.0               2006      1.0    105  115.0     150000   \n",
       "3           5.0               2001      1.0     58   82.0     150000   \n",
       "4           2.0               2007      0.0    286   11.0     150000   \n",
       "\n",
       "   registration_month  fuel_type  brand  repaired  \n",
       "0                   7        2.0   37.0       0.0  \n",
       "1                   8        2.0   20.0       0.0  \n",
       "2                   9        2.0   37.0       0.0  \n",
       "3                   7        6.0   24.0       0.0  \n",
       "4                   7        2.0    2.0       0.0  "
      ]
     },
     "execution_count": 77,
     "metadata": {},
     "output_type": "execute_result"
    }
   ],
   "source": [
    "features_valid_oe.head()"
   ]
  },
  {
   "cell_type": "code",
   "execution_count": 78,
   "metadata": {},
   "outputs": [
    {
     "data": {
      "text/html": [
       "<div>\n",
       "<style scoped>\n",
       "    .dataframe tbody tr th:only-of-type {\n",
       "        vertical-align: middle;\n",
       "    }\n",
       "\n",
       "    .dataframe tbody tr th {\n",
       "        vertical-align: top;\n",
       "    }\n",
       "\n",
       "    .dataframe thead th {\n",
       "        text-align: right;\n",
       "    }\n",
       "</style>\n",
       "<table border=\"1\" class=\"dataframe\">\n",
       "  <thead>\n",
       "    <tr style=\"text-align: right;\">\n",
       "      <th></th>\n",
       "      <th>vehicle_type</th>\n",
       "      <th>registration_year</th>\n",
       "      <th>gearbox</th>\n",
       "      <th>power</th>\n",
       "      <th>model</th>\n",
       "      <th>kilometer</th>\n",
       "      <th>registration_month</th>\n",
       "      <th>fuel_type</th>\n",
       "      <th>brand</th>\n",
       "      <th>repaired</th>\n",
       "    </tr>\n",
       "  </thead>\n",
       "  <tbody>\n",
       "    <tr>\n",
       "      <th>0</th>\n",
       "      <td>4.0</td>\n",
       "      <td>1998</td>\n",
       "      <td>1.0</td>\n",
       "      <td>200</td>\n",
       "      <td>115.0</td>\n",
       "      <td>150000</td>\n",
       "      <td>6</td>\n",
       "      <td>6.0</td>\n",
       "      <td>37.0</td>\n",
       "      <td>0.0</td>\n",
       "    </tr>\n",
       "    <tr>\n",
       "      <th>1</th>\n",
       "      <td>7.0</td>\n",
       "      <td>2011</td>\n",
       "      <td>1.0</td>\n",
       "      <td>125</td>\n",
       "      <td>41.0</td>\n",
       "      <td>150000</td>\n",
       "      <td>8</td>\n",
       "      <td>2.0</td>\n",
       "      <td>24.0</td>\n",
       "      <td>0.0</td>\n",
       "    </tr>\n",
       "    <tr>\n",
       "      <th>2</th>\n",
       "      <td>1.0</td>\n",
       "      <td>1997</td>\n",
       "      <td>1.0</td>\n",
       "      <td>125</td>\n",
       "      <td>19.0</td>\n",
       "      <td>150000</td>\n",
       "      <td>5</td>\n",
       "      <td>6.0</td>\n",
       "      <td>1.0</td>\n",
       "      <td>0.0</td>\n",
       "    </tr>\n",
       "    <tr>\n",
       "      <th>3</th>\n",
       "      <td>7.0</td>\n",
       "      <td>2002</td>\n",
       "      <td>1.0</td>\n",
       "      <td>141</td>\n",
       "      <td>16.0</td>\n",
       "      <td>150000</td>\n",
       "      <td>12</td>\n",
       "      <td>6.0</td>\n",
       "      <td>19.0</td>\n",
       "      <td>0.0</td>\n",
       "    </tr>\n",
       "    <tr>\n",
       "      <th>4</th>\n",
       "      <td>7.0</td>\n",
       "      <td>2006</td>\n",
       "      <td>1.0</td>\n",
       "      <td>101</td>\n",
       "      <td>102.0</td>\n",
       "      <td>125000</td>\n",
       "      <td>0</td>\n",
       "      <td>5.0</td>\n",
       "      <td>10.0</td>\n",
       "      <td>0.0</td>\n",
       "    </tr>\n",
       "  </tbody>\n",
       "</table>\n",
       "</div>"
      ],
      "text/plain": [
       "   vehicle_type  registration_year  gearbox  power  model  kilometer  \\\n",
       "0           4.0               1998      1.0    200  115.0     150000   \n",
       "1           7.0               2011      1.0    125   41.0     150000   \n",
       "2           1.0               1997      1.0    125   19.0     150000   \n",
       "3           7.0               2002      1.0    141   16.0     150000   \n",
       "4           7.0               2006      1.0    101  102.0     125000   \n",
       "\n",
       "   registration_month  fuel_type  brand  repaired  \n",
       "0                   6        6.0   37.0       0.0  \n",
       "1                   8        2.0   24.0       0.0  \n",
       "2                   5        6.0    1.0       0.0  \n",
       "3                  12        6.0   19.0       0.0  \n",
       "4                   0        5.0   10.0       0.0  "
      ]
     },
     "execution_count": 78,
     "metadata": {},
     "output_type": "execute_result"
    }
   ],
   "source": [
    "features_test_oe.head()"
   ]
  },
  {
   "cell_type": "markdown",
   "metadata": {},
   "source": [
    "#### RandomForestRegressor"
   ]
  },
  {
   "cell_type": "markdown",
   "metadata": {},
   "source": [
    "Обучим модель и сделаем предсказания."
   ]
  },
  {
   "cell_type": "markdown",
   "metadata": {},
   "source": [
    "Для подбора гипепараметров используем `RandomizedSearchCV`."
   ]
  },
  {
   "cell_type": "code",
   "execution_count": 79,
   "metadata": {},
   "outputs": [],
   "source": [
    "model_forest_oe = RandomForestRegressor(random_state=12345)"
   ]
  },
  {
   "cell_type": "markdown",
   "metadata": {},
   "source": [
    "Выделим гиперпараметры для перебора:"
   ]
  },
  {
   "cell_type": "code",
   "execution_count": 80,
   "metadata": {},
   "outputs": [],
   "source": [
    "parametrs = {\n",
    "    'max_depth': range(1, 10),\n",
    "    'n_estimators': range(10, 101, 10),\n",
    "    'min_samples_leaf': range(1, 8),\n",
    "    'min_samples_split': range(2, 10, 2)\n",
    "}"
   ]
  },
  {
   "cell_type": "markdown",
   "metadata": {},
   "source": [
    "Для обучения `RandomizedSearchCV` объединим обучающую и валидационную выборки:"
   ]
  },
  {
   "cell_type": "code",
   "execution_count": 82,
   "metadata": {},
   "outputs": [],
   "source": [
    "features_train_oe_united = pd.concat([features_train_oe, features_valid_oe]).reset_index(drop=True)"
   ]
  },
  {
   "cell_type": "code",
   "execution_count": 83,
   "metadata": {},
   "outputs": [
    {
     "name": "stdout",
     "output_type": "stream",
     "text": [
      "Fitting 3 folds for each of 10 candidates, totalling 30 fits\n",
      "[CV] END max_depth=2, min_samples_leaf=6, min_samples_split=2, n_estimators=30; total time=   1.1s\n",
      "[CV] END max_depth=2, min_samples_leaf=6, min_samples_split=2, n_estimators=30; total time=   1.1s\n",
      "[CV] END max_depth=2, min_samples_leaf=6, min_samples_split=2, n_estimators=30; total time=   1.1s\n",
      "[CV] END max_depth=8, min_samples_leaf=6, min_samples_split=4, n_estimators=80; total time=  10.1s\n",
      "[CV] END max_depth=8, min_samples_leaf=6, min_samples_split=4, n_estimators=80; total time=   9.7s\n",
      "[CV] END max_depth=8, min_samples_leaf=6, min_samples_split=4, n_estimators=80; total time=   9.5s\n",
      "[CV] END max_depth=2, min_samples_leaf=3, min_samples_split=6, n_estimators=30; total time=   1.1s\n",
      "[CV] END max_depth=2, min_samples_leaf=3, min_samples_split=6, n_estimators=30; total time=   1.1s\n",
      "[CV] END max_depth=2, min_samples_leaf=3, min_samples_split=6, n_estimators=30; total time=   1.1s\n",
      "[CV] END max_depth=2, min_samples_leaf=7, min_samples_split=6, n_estimators=70; total time=   2.5s\n",
      "[CV] END max_depth=2, min_samples_leaf=7, min_samples_split=6, n_estimators=70; total time=   2.5s\n",
      "[CV] END max_depth=2, min_samples_leaf=7, min_samples_split=6, n_estimators=70; total time=   2.5s\n",
      "[CV] END max_depth=8, min_samples_leaf=5, min_samples_split=8, n_estimators=40; total time=   4.7s\n",
      "[CV] END max_depth=8, min_samples_leaf=5, min_samples_split=8, n_estimators=40; total time=   4.7s\n",
      "[CV] END max_depth=8, min_samples_leaf=5, min_samples_split=8, n_estimators=40; total time=   4.6s\n",
      "[CV] END max_depth=5, min_samples_leaf=7, min_samples_split=8, n_estimators=90; total time=   7.4s\n",
      "[CV] END max_depth=5, min_samples_leaf=7, min_samples_split=8, n_estimators=90; total time=   7.2s\n",
      "[CV] END max_depth=5, min_samples_leaf=7, min_samples_split=8, n_estimators=90; total time=   7.2s\n",
      "[CV] END max_depth=4, min_samples_leaf=2, min_samples_split=2, n_estimators=30; total time=   2.0s\n",
      "[CV] END max_depth=4, min_samples_leaf=2, min_samples_split=2, n_estimators=30; total time=   1.9s\n",
      "[CV] END max_depth=4, min_samples_leaf=2, min_samples_split=2, n_estimators=30; total time=   2.0s\n",
      "[CV] END max_depth=3, min_samples_leaf=4, min_samples_split=8, n_estimators=40; total time=   2.0s\n",
      "[CV] END max_depth=3, min_samples_leaf=4, min_samples_split=8, n_estimators=40; total time=   2.4s\n",
      "[CV] END max_depth=3, min_samples_leaf=4, min_samples_split=8, n_estimators=40; total time=   2.2s\n",
      "[CV] END max_depth=1, min_samples_leaf=7, min_samples_split=6, n_estimators=80; total time=   1.6s\n",
      "[CV] END max_depth=1, min_samples_leaf=7, min_samples_split=6, n_estimators=80; total time=   1.7s\n",
      "[CV] END max_depth=1, min_samples_leaf=7, min_samples_split=6, n_estimators=80; total time=   1.6s\n",
      "[CV] END max_depth=6, min_samples_leaf=7, min_samples_split=8, n_estimators=50; total time=   4.7s\n",
      "[CV] END max_depth=6, min_samples_leaf=7, min_samples_split=8, n_estimators=50; total time=   4.7s\n",
      "[CV] END max_depth=6, min_samples_leaf=7, min_samples_split=8, n_estimators=50; total time=   4.7s\n"
     ]
    },
    {
     "data": {
      "text/plain": [
       "RandomizedSearchCV(cv=3, estimator=RandomForestRegressor(random_state=12345),\n",
       "                   n_jobs=-1,\n",
       "                   param_distributions={'max_depth': range(1, 10),\n",
       "                                        'min_samples_leaf': range(1, 8),\n",
       "                                        'min_samples_split': range(2, 10, 2),\n",
       "                                        'n_estimators': range(10, 101, 10)},\n",
       "                   random_state=12345,\n",
       "                   scoring=make_scorer(rmse, greater_is_better=False),\n",
       "                   verbose=2)"
      ]
     },
     "execution_count": 83,
     "metadata": {},
     "output_type": "execute_result"
    }
   ],
   "source": [
    "random_src.fit(features_train_oe_united, target_train_united)"
   ]
  },
  {
   "cell_type": "markdown",
   "metadata": {},
   "source": [
    "Выведем результаты кросс-валидации:"
   ]
  },
  {
   "cell_type": "code",
   "execution_count": 84,
   "metadata": {},
   "outputs": [
    {
     "name": "stdout",
     "output_type": "stream",
     "text": [
      "Время обучения: 9.47 с\n"
     ]
    }
   ],
   "source": [
    "fit_time_forest_oe = round(random_src.cv_results_['mean_fit_time'][random_src.best_index_], 2)\n",
    "print('Время обучения:', fit_time_forest_oe, 'с')"
   ]
  },
  {
   "cell_type": "code",
   "execution_count": 85,
   "metadata": {},
   "outputs": [
    {
     "name": "stdout",
     "output_type": "stream",
     "text": [
      "Время предсказания: 0.28 с\n"
     ]
    }
   ],
   "source": [
    "pred_time_forest_oe = round(random_src.cv_results_['mean_score_time'][random_src.best_index_], 2)\n",
    "print('Время предсказания:', pred_time_forest_oe, 'с')"
   ]
  },
  {
   "cell_type": "code",
   "execution_count": 86,
   "metadata": {},
   "outputs": [
    {
     "data": {
      "text/plain": [
       "{'n_estimators': 80,\n",
       " 'min_samples_split': 4,\n",
       " 'min_samples_leaf': 6,\n",
       " 'max_depth': 8}"
      ]
     },
     "execution_count": 86,
     "metadata": {},
     "output_type": "execute_result"
    }
   ],
   "source": [
    "random_src.cv_results_['params'][random_src.best_index_] # гиперпараметры лучшей модели"
   ]
  },
  {
   "cell_type": "code",
   "execution_count": 87,
   "metadata": {},
   "outputs": [
    {
     "name": "stdout",
     "output_type": "stream",
     "text": [
      "RMSE модели RandomForestRegressor на валидационной выборке: 2071.64\n"
     ]
    }
   ],
   "source": [
    "forest_oe_rmse = abs(round(random_src.best_score_, 2))\n",
    "print('RMSE модели RandomForestRegressor на валидационной выборке:', forest_oe_rmse)"
   ]
  },
  {
   "cell_type": "markdown",
   "metadata": {},
   "source": [
    "#### Линейная регрессия"
   ]
  },
  {
   "cell_type": "markdown",
   "metadata": {},
   "source": [
    "Для модели линейной регрессии сделаем масштабирование признаков:"
   ]
  },
  {
   "cell_type": "code",
   "execution_count": 92,
   "metadata": {},
   "outputs": [],
   "source": [
    "features_train_oe_scaled = features_train_oe.copy()\n",
    "features_valid_oe_scaled = features_valid_oe.copy()\n",
    "features_test_oe_scaled = features_test_oe.copy()\n",
    "\n",
    "scaler = StandardScaler()\n",
    "scaler.fit(features_train_oe[numeric_col])\n",
    "features_train_oe_scaled[numeric_col] = scaler.transform(features_train_oe[numeric_col])\n",
    "features_valid_oe_scaled[numeric_col] = scaler.transform(features_valid_oe[numeric_col])\n",
    "features_test_oe_scaled[numeric_col] = scaler.transform(features_test_oe[numeric_col])"
   ]
  },
  {
   "cell_type": "markdown",
   "metadata": {},
   "source": [
    "Обучим модель и сделаем предсказания:"
   ]
  },
  {
   "cell_type": "code",
   "execution_count": 93,
   "metadata": {},
   "outputs": [
    {
     "name": "stdout",
     "output_type": "stream",
     "text": [
      "Время обучения: 0.06 с\n"
     ]
    }
   ],
   "source": [
    "model_linear_oe = LinearRegression()\n",
    "\n",
    "start = time.time()\n",
    "\n",
    "model_linear_oe.fit(features_train_oe_scaled, target_train)\n",
    "\n",
    "end = time.time()\n",
    "\n",
    "fit_time_linear_oe_scaled = round(end - start, 2)\n",
    "\n",
    "print('Время обучения:', fit_time_linear_oe_scaled, 'с')"
   ]
  },
  {
   "cell_type": "code",
   "execution_count": 94,
   "metadata": {},
   "outputs": [
    {
     "name": "stdout",
     "output_type": "stream",
     "text": [
      "Время предсказания: 0.0 с\n"
     ]
    }
   ],
   "source": [
    "start = time.time()\n",
    "\n",
    "predictions = model_linear_oe.predict(features_valid_oe_scaled)\n",
    "\n",
    "end = time.time()\n",
    "\n",
    "pred_time_linear_oe_scaled = round(end - start, 2)\n",
    "\n",
    "print('Время предсказания:', pred_time_linear_oe_scaled, 'с')"
   ]
  },
  {
   "cell_type": "code",
   "execution_count": 95,
   "metadata": {},
   "outputs": [
    {
     "name": "stdout",
     "output_type": "stream",
     "text": [
      "RMSE модели LinearRegression на валидационной выборке: 2967.43\n"
     ]
    }
   ],
   "source": [
    "linear_oe_scaled_rmse = round(rmse(target_valid, predictions), 2)\n",
    "print('RMSE модели LinearRegression на валидационной выборке:', linear_oe_scaled_rmse)"
   ]
  },
  {
   "cell_type": "markdown",
   "metadata": {},
   "source": [
    "### LightGBM"
   ]
  },
  {
   "cell_type": "markdown",
   "metadata": {},
   "source": [
    "Обучим модель и сделаем предсказания."
   ]
  },
  {
   "cell_type": "markdown",
   "metadata": {},
   "source": [
    "Для подбора гипепараметров используем `RandomizedSearchCV`."
   ]
  },
  {
   "cell_type": "code",
   "execution_count": 96,
   "metadata": {},
   "outputs": [],
   "source": [
    "model_lgbm = LGBMRegressor(random_state=12345)"
   ]
  },
  {
   "cell_type": "markdown",
   "metadata": {},
   "source": [
    "Выделим гиперпараметры для перебора:"
   ]
  },
  {
   "cell_type": "code",
   "execution_count": 97,
   "metadata": {},
   "outputs": [],
   "source": [
    "parametrs = {\n",
    "    'max_depth': range(1, 10),\n",
    "    'n_estimators': range(10, 101, 10),\n",
    "}"
   ]
  },
  {
   "cell_type": "code",
   "execution_count": 98,
   "metadata": {},
   "outputs": [],
   "source": [
    "random_src = RandomizedSearchCV(estimator=model_lgbm,\n",
    "                                param_distributions=parametrs,\n",
    "                                cv=3,\n",
    "                                n_iter=10,\n",
    "                                n_jobs=-1,\n",
    "                                random_state=12345,\n",
    "                                scoring=rmse_scorer,\n",
    "                                verbose=2)"
   ]
  },
  {
   "cell_type": "code",
   "execution_count": 99,
   "metadata": {
    "scrolled": false
   },
   "outputs": [
    {
     "name": "stdout",
     "output_type": "stream",
     "text": [
      "Fitting 3 folds for each of 10 candidates, totalling 30 fits\n",
      "[CV] END .......................max_depth=1, n_estimators=50; total time=   3.6s\n",
      "[CV] END .......................max_depth=1, n_estimators=50; total time=   2.6s\n",
      "[CV] END .......................max_depth=1, n_estimators=50; total time=   2.4s\n",
      "[CV] END ......................max_depth=1, n_estimators=100; total time=   4.8s\n",
      "[CV] END ......................max_depth=1, n_estimators=100; total time=   3.4s\n",
      "[CV] END ......................max_depth=1, n_estimators=100; total time=   6.1s\n",
      "[CV] END .......................max_depth=2, n_estimators=40; total time=   4.8s\n",
      "[CV] END .......................max_depth=2, n_estimators=40; total time=   3.2s\n",
      "[CV] END .......................max_depth=2, n_estimators=40; total time=   3.1s\n",
      "[CV] END ......................max_depth=4, n_estimators=100; total time=  13.5s\n",
      "[CV] END ......................max_depth=4, n_estimators=100; total time=  15.5s\n",
      "[CV] END ......................max_depth=4, n_estimators=100; total time=  15.0s\n",
      "[CV] END .......................max_depth=5, n_estimators=30; total time=  11.3s\n",
      "[CV] END .......................max_depth=5, n_estimators=30; total time=   5.5s\n",
      "[CV] END .......................max_depth=5, n_estimators=30; total time=   6.6s\n",
      "[CV] END .......................max_depth=7, n_estimators=30; total time=   9.5s\n",
      "[CV] END .......................max_depth=7, n_estimators=30; total time=  11.0s\n",
      "[CV] END .......................max_depth=7, n_estimators=30; total time=   7.9s\n",
      "[CV] END .......................max_depth=8, n_estimators=20; total time=   8.4s\n",
      "[CV] END .......................max_depth=8, n_estimators=20; total time=   6.2s\n",
      "[CV] END .......................max_depth=8, n_estimators=20; total time=   8.2s\n",
      "[CV] END .......................max_depth=7, n_estimators=70; total time=  17.5s\n",
      "[CV] END .......................max_depth=7, n_estimators=70; total time=  25.2s\n",
      "[CV] END .......................max_depth=7, n_estimators=70; total time=  17.2s\n",
      "[CV] END .......................max_depth=3, n_estimators=10; total time=   2.9s\n",
      "[CV] END .......................max_depth=3, n_estimators=10; total time=   2.6s\n",
      "[CV] END .......................max_depth=3, n_estimators=10; total time=   2.1s\n",
      "[CV] END .......................max_depth=6, n_estimators=10; total time=   4.1s\n",
      "[CV] END .......................max_depth=6, n_estimators=10; total time=   5.5s\n",
      "[CV] END .......................max_depth=6, n_estimators=10; total time=   5.2s\n"
     ]
    },
    {
     "data": {
      "text/plain": [
       "RandomizedSearchCV(cv=3, estimator=LGBMRegressor(random_state=12345), n_jobs=-1,\n",
       "                   param_distributions={'max_depth': range(1, 10),\n",
       "                                        'n_estimators': range(10, 101, 10)},\n",
       "                   random_state=12345,\n",
       "                   scoring=make_scorer(rmse, greater_is_better=False),\n",
       "                   verbose=2)"
      ]
     },
     "execution_count": 99,
     "metadata": {},
     "output_type": "execute_result"
    }
   ],
   "source": [
    "random_src.fit(features_train_oe_united, target_train_united)"
   ]
  },
  {
   "cell_type": "markdown",
   "metadata": {},
   "source": [
    "Выведем результаты кросс-валидации:"
   ]
  },
  {
   "cell_type": "code",
   "execution_count": 100,
   "metadata": {},
   "outputs": [
    {
     "name": "stdout",
     "output_type": "stream",
     "text": [
      "Время обучения: 19.6 с\n"
     ]
    }
   ],
   "source": [
    "fit_time_lgbm_oe = round(random_src.cv_results_['mean_fit_time'][random_src.best_index_], 2)\n",
    "print('Время обучения:', fit_time_lgbm_oe, 'с')"
   ]
  },
  {
   "cell_type": "code",
   "execution_count": 101,
   "metadata": {},
   "outputs": [
    {
     "name": "stdout",
     "output_type": "stream",
     "text": [
      "Время предсказания: 0.36 с\n"
     ]
    }
   ],
   "source": [
    "pred_time_lgbm_oe = round(random_src.cv_results_['mean_score_time'][random_src.best_index_], 2)\n",
    "print('Время предсказания:', pred_time_lgbm_oe, 'с')"
   ]
  },
  {
   "cell_type": "code",
   "execution_count": 102,
   "metadata": {},
   "outputs": [
    {
     "data": {
      "text/plain": [
       "{'n_estimators': 70, 'max_depth': 7}"
      ]
     },
     "execution_count": 102,
     "metadata": {},
     "output_type": "execute_result"
    }
   ],
   "source": [
    "random_src.cv_results_['params'][random_src.best_index_] # гиперпараметры лучшей модели"
   ]
  },
  {
   "cell_type": "code",
   "execution_count": 103,
   "metadata": {},
   "outputs": [
    {
     "name": "stdout",
     "output_type": "stream",
     "text": [
      "RMSE модели RandomForestRegressor на валидационной выборке: 1762.11\n"
     ]
    }
   ],
   "source": [
    "lgbm_oe_rmse = abs(round(random_src.best_score_, 2)) \n",
    "print('RMSE модели RandomForestRegressor на валидационной выборке:', lgbm_oe_rmse)"
   ]
  },
  {
   "cell_type": "markdown",
   "metadata": {},
   "source": [
    "Соберём все получившиеся результаты в `Dataframe`:"
   ]
  },
  {
   "cell_type": "code",
   "execution_count": 108,
   "metadata": {},
   "outputs": [],
   "source": [
    "data = [[fit_time_cat, pred_time_cat, catboost_rmse],\n",
    "        [fit_time_forest_ohe, pred_time_forest_ohe, forest_ohe_rmse],\n",
    "        [fit_time_linear_ohe_scaled, pred_time_linear_ohe_scaled, linear_ohe_scaled_rmse],\n",
    "        [fit_time_forest_oe, pred_time_forest_oe, forest_oe_rmse],\n",
    "        [fit_time_linear_oe_scaled, pred_time_linear_oe_scaled, linear_oe_scaled_rmse],\n",
    "        [fit_time_lgbm_oe, pred_time_lgbm_oe, lgbm_oe_rmse]]\n",
    "\n",
    "results = pd.DataFrame(\n",
    "    data,\n",
    "    index=[\n",
    "        'CatBoostRegressor', 'Forest_OHE', 'LR_OHE', 'Forest_OE', 'LR_OE',\n",
    "        'LGBM_OE'\n",
    "    ],\n",
    "    columns=['Время обучения, с', 'Время предсказания, с', 'RMSE'])"
   ]
  },
  {
   "cell_type": "code",
   "execution_count": 109,
   "metadata": {},
   "outputs": [
    {
     "data": {
      "text/html": [
       "<div>\n",
       "<style scoped>\n",
       "    .dataframe tbody tr th:only-of-type {\n",
       "        vertical-align: middle;\n",
       "    }\n",
       "\n",
       "    .dataframe tbody tr th {\n",
       "        vertical-align: top;\n",
       "    }\n",
       "\n",
       "    .dataframe thead th {\n",
       "        text-align: right;\n",
       "    }\n",
       "</style>\n",
       "<table border=\"1\" class=\"dataframe\">\n",
       "  <thead>\n",
       "    <tr style=\"text-align: right;\">\n",
       "      <th></th>\n",
       "      <th>Время обучения, с</th>\n",
       "      <th>Время предсказания, с</th>\n",
       "      <th>RMSE</th>\n",
       "    </tr>\n",
       "  </thead>\n",
       "  <tbody>\n",
       "    <tr>\n",
       "      <th>CatBoostRegressor</th>\n",
       "      <td>173.31</td>\n",
       "      <td>0.49</td>\n",
       "      <td>1625.21</td>\n",
       "    </tr>\n",
       "    <tr>\n",
       "      <th>LGBM_OE</th>\n",
       "      <td>19.60</td>\n",
       "      <td>0.36</td>\n",
       "      <td>1762.11</td>\n",
       "    </tr>\n",
       "    <tr>\n",
       "      <th>Forest_OE</th>\n",
       "      <td>9.47</td>\n",
       "      <td>0.28</td>\n",
       "      <td>2071.64</td>\n",
       "    </tr>\n",
       "    <tr>\n",
       "      <th>Forest_OHE</th>\n",
       "      <td>84.40</td>\n",
       "      <td>0.40</td>\n",
       "      <td>2073.26</td>\n",
       "    </tr>\n",
       "    <tr>\n",
       "      <th>LR_OHE</th>\n",
       "      <td>19.37</td>\n",
       "      <td>0.14</td>\n",
       "      <td>2580.86</td>\n",
       "    </tr>\n",
       "    <tr>\n",
       "      <th>LR_OE</th>\n",
       "      <td>0.06</td>\n",
       "      <td>0.00</td>\n",
       "      <td>2967.43</td>\n",
       "    </tr>\n",
       "  </tbody>\n",
       "</table>\n",
       "</div>"
      ],
      "text/plain": [
       "                   Время обучения, с  Время предсказания, с     RMSE\n",
       "CatBoostRegressor             173.31                   0.49  1625.21\n",
       "LGBM_OE                        19.60                   0.36  1762.11\n",
       "Forest_OE                       9.47                   0.28  2071.64\n",
       "Forest_OHE                     84.40                   0.40  2073.26\n",
       "LR_OHE                         19.37                   0.14  2580.86\n",
       "LR_OE                           0.06                   0.00  2967.43"
      ]
     },
     "execution_count": 109,
     "metadata": {},
     "output_type": "execute_result"
    }
   ],
   "source": [
    "results.sort_values(by='RMSE')"
   ]
  },
  {
   "cell_type": "markdown",
   "metadata": {},
   "source": [
    "**Примечение:** вместо огромного значения `RMSE` для линейной регрессии с данными, закодированными `OneHotEncoder`'ом поставил пропуск, чтобы не слетал формат вывода значений."
   ]
  },
  {
   "cell_type": "markdown",
   "metadata": {},
   "source": [
    "### Тест лучшей модели"
   ]
  },
  {
   "cell_type": "markdown",
   "metadata": {},
   "source": [
    "Лучший результат показала модель `CatBoostRegressor`, проверим метрику на тестовых данных."
   ]
  },
  {
   "cell_type": "code",
   "execution_count": 110,
   "metadata": {},
   "outputs": [
    {
     "name": "stdout",
     "output_type": "stream",
     "text": [
      "Время обучения: 169.24 с\n"
     ]
    }
   ],
   "source": [
    "start = time.time()\n",
    "\n",
    "model_catboost.fit(features_train, target_train, cat_features=cat_features, verbose=False)\n",
    "\n",
    "end = time.time()\n",
    "\n",
    "fit_time_cat_test = round(end - start, 2)\n",
    "\n",
    "print('Время обучения:', fit_time_cat_test, 'с')"
   ]
  },
  {
   "cell_type": "markdown",
   "metadata": {},
   "source": [
    "Сделаем предсказания:"
   ]
  },
  {
   "cell_type": "code",
   "execution_count": 111,
   "metadata": {},
   "outputs": [
    {
     "name": "stdout",
     "output_type": "stream",
     "text": [
      "Время предсказания: 0.47 с\n"
     ]
    }
   ],
   "source": [
    "start = time.time()\n",
    "\n",
    "predictions = model_catboost.predict(features_test)\n",
    "\n",
    "end = time.time()\n",
    "\n",
    "pred_time_cat_test = round(end - start, 2)\n",
    "\n",
    "print('Время предсказания:', pred_time_cat_test, 'с')"
   ]
  },
  {
   "cell_type": "markdown",
   "metadata": {},
   "source": [
    "Посчитаем `RMSE`:"
   ]
  },
  {
   "cell_type": "code",
   "execution_count": 112,
   "metadata": {},
   "outputs": [
    {
     "name": "stdout",
     "output_type": "stream",
     "text": [
      "RMSE модели CatBoostRegressor на тестовой выборке: 1647.34\n"
     ]
    }
   ],
   "source": [
    "catboost_rmse_test = round(rmse(target_test, predictions), 2)\n",
    "print('RMSE модели CatBoostRegressor на тестовой выборке:', catboost_rmse_test)"
   ]
  },
  {
   "cell_type": "markdown",
   "metadata": {},
   "source": [
    "## Анализ моделей"
   ]
  },
  {
   "cell_type": "markdown",
   "metadata": {},
   "source": [
    "**Подведем итоги.**"
   ]
  },
  {
   "cell_type": "markdown",
   "metadata": {},
   "source": [
    "### Время обучения"
   ]
  },
  {
   "cell_type": "code",
   "execution_count": 113,
   "metadata": {},
   "outputs": [
    {
     "data": {
      "text/html": [
       "<div>\n",
       "<style scoped>\n",
       "    .dataframe tbody tr th:only-of-type {\n",
       "        vertical-align: middle;\n",
       "    }\n",
       "\n",
       "    .dataframe tbody tr th {\n",
       "        vertical-align: top;\n",
       "    }\n",
       "\n",
       "    .dataframe thead th {\n",
       "        text-align: right;\n",
       "    }\n",
       "</style>\n",
       "<table border=\"1\" class=\"dataframe\">\n",
       "  <thead>\n",
       "    <tr style=\"text-align: right;\">\n",
       "      <th></th>\n",
       "      <th>Время обучения, с</th>\n",
       "      <th>Время предсказания, с</th>\n",
       "      <th>RMSE</th>\n",
       "    </tr>\n",
       "  </thead>\n",
       "  <tbody>\n",
       "    <tr>\n",
       "      <th>LR_OE</th>\n",
       "      <td>0.06</td>\n",
       "      <td>0.00</td>\n",
       "      <td>2967.43</td>\n",
       "    </tr>\n",
       "    <tr>\n",
       "      <th>Forest_OE</th>\n",
       "      <td>9.47</td>\n",
       "      <td>0.28</td>\n",
       "      <td>2071.64</td>\n",
       "    </tr>\n",
       "    <tr>\n",
       "      <th>LR_OHE</th>\n",
       "      <td>19.37</td>\n",
       "      <td>0.14</td>\n",
       "      <td>2580.86</td>\n",
       "    </tr>\n",
       "    <tr>\n",
       "      <th>LGBM_OE</th>\n",
       "      <td>19.60</td>\n",
       "      <td>0.36</td>\n",
       "      <td>1762.11</td>\n",
       "    </tr>\n",
       "    <tr>\n",
       "      <th>Forest_OHE</th>\n",
       "      <td>84.40</td>\n",
       "      <td>0.40</td>\n",
       "      <td>2073.26</td>\n",
       "    </tr>\n",
       "    <tr>\n",
       "      <th>CatBoostRegressor</th>\n",
       "      <td>173.31</td>\n",
       "      <td>0.49</td>\n",
       "      <td>1625.21</td>\n",
       "    </tr>\n",
       "  </tbody>\n",
       "</table>\n",
       "</div>"
      ],
      "text/plain": [
       "                   Время обучения, с  Время предсказания, с     RMSE\n",
       "LR_OE                           0.06                   0.00  2967.43\n",
       "Forest_OE                       9.47                   0.28  2071.64\n",
       "LR_OHE                         19.37                   0.14  2580.86\n",
       "LGBM_OE                        19.60                   0.36  1762.11\n",
       "Forest_OHE                     84.40                   0.40  2073.26\n",
       "CatBoostRegressor             173.31                   0.49  1625.21"
      ]
     },
     "execution_count": 113,
     "metadata": {},
     "output_type": "execute_result"
    }
   ],
   "source": [
    "results.sort_values(by='Время обучения, с')"
   ]
  },
  {
   "cell_type": "markdown",
   "metadata": {},
   "source": [
    "**Вывод:** быстрее всех обучалась модель линейной регресии на данных, закодированных методом `Ordinal Encoding`. Дольше всех обучалась модель `CatBoostRegressor`."
   ]
  },
  {
   "cell_type": "markdown",
   "metadata": {},
   "source": [
    "### Время предсказания"
   ]
  },
  {
   "cell_type": "code",
   "execution_count": 114,
   "metadata": {},
   "outputs": [
    {
     "data": {
      "text/html": [
       "<div>\n",
       "<style scoped>\n",
       "    .dataframe tbody tr th:only-of-type {\n",
       "        vertical-align: middle;\n",
       "    }\n",
       "\n",
       "    .dataframe tbody tr th {\n",
       "        vertical-align: top;\n",
       "    }\n",
       "\n",
       "    .dataframe thead th {\n",
       "        text-align: right;\n",
       "    }\n",
       "</style>\n",
       "<table border=\"1\" class=\"dataframe\">\n",
       "  <thead>\n",
       "    <tr style=\"text-align: right;\">\n",
       "      <th></th>\n",
       "      <th>Время обучения, с</th>\n",
       "      <th>Время предсказания, с</th>\n",
       "      <th>RMSE</th>\n",
       "    </tr>\n",
       "  </thead>\n",
       "  <tbody>\n",
       "    <tr>\n",
       "      <th>LR_OE</th>\n",
       "      <td>0.06</td>\n",
       "      <td>0.00</td>\n",
       "      <td>2967.43</td>\n",
       "    </tr>\n",
       "    <tr>\n",
       "      <th>LR_OHE</th>\n",
       "      <td>19.37</td>\n",
       "      <td>0.14</td>\n",
       "      <td>2580.86</td>\n",
       "    </tr>\n",
       "    <tr>\n",
       "      <th>Forest_OE</th>\n",
       "      <td>9.47</td>\n",
       "      <td>0.28</td>\n",
       "      <td>2071.64</td>\n",
       "    </tr>\n",
       "    <tr>\n",
       "      <th>LGBM_OE</th>\n",
       "      <td>19.60</td>\n",
       "      <td>0.36</td>\n",
       "      <td>1762.11</td>\n",
       "    </tr>\n",
       "    <tr>\n",
       "      <th>Forest_OHE</th>\n",
       "      <td>84.40</td>\n",
       "      <td>0.40</td>\n",
       "      <td>2073.26</td>\n",
       "    </tr>\n",
       "    <tr>\n",
       "      <th>CatBoostRegressor</th>\n",
       "      <td>173.31</td>\n",
       "      <td>0.49</td>\n",
       "      <td>1625.21</td>\n",
       "    </tr>\n",
       "  </tbody>\n",
       "</table>\n",
       "</div>"
      ],
      "text/plain": [
       "                   Время обучения, с  Время предсказания, с     RMSE\n",
       "LR_OE                           0.06                   0.00  2967.43\n",
       "LR_OHE                         19.37                   0.14  2580.86\n",
       "Forest_OE                       9.47                   0.28  2071.64\n",
       "LGBM_OE                        19.60                   0.36  1762.11\n",
       "Forest_OHE                     84.40                   0.40  2073.26\n",
       "CatBoostRegressor             173.31                   0.49  1625.21"
      ]
     },
     "execution_count": 114,
     "metadata": {},
     "output_type": "execute_result"
    }
   ],
   "source": [
    "results.sort_values(by='Время предсказания, с')"
   ]
  },
  {
   "cell_type": "markdown",
   "metadata": {},
   "source": [
    "**Вывод:** меньше всего времени на предсказание ушло у той же модели линейной регресии на данных, закодированных методом `Ordinal Encoding`. Дольше всех предсказывала модель `RandomForestRegressor` на данных, закодированных методом `One-Hot Encoding`."
   ]
  },
  {
   "cell_type": "markdown",
   "metadata": {},
   "source": [
    "### `RMSE`"
   ]
  },
  {
   "cell_type": "code",
   "execution_count": 115,
   "metadata": {},
   "outputs": [
    {
     "data": {
      "text/html": [
       "<div>\n",
       "<style scoped>\n",
       "    .dataframe tbody tr th:only-of-type {\n",
       "        vertical-align: middle;\n",
       "    }\n",
       "\n",
       "    .dataframe tbody tr th {\n",
       "        vertical-align: top;\n",
       "    }\n",
       "\n",
       "    .dataframe thead th {\n",
       "        text-align: right;\n",
       "    }\n",
       "</style>\n",
       "<table border=\"1\" class=\"dataframe\">\n",
       "  <thead>\n",
       "    <tr style=\"text-align: right;\">\n",
       "      <th></th>\n",
       "      <th>Время обучения, с</th>\n",
       "      <th>Время предсказания, с</th>\n",
       "      <th>RMSE</th>\n",
       "    </tr>\n",
       "  </thead>\n",
       "  <tbody>\n",
       "    <tr>\n",
       "      <th>CatBoostRegressor</th>\n",
       "      <td>173.31</td>\n",
       "      <td>0.49</td>\n",
       "      <td>1625.21</td>\n",
       "    </tr>\n",
       "    <tr>\n",
       "      <th>LGBM_OE</th>\n",
       "      <td>19.60</td>\n",
       "      <td>0.36</td>\n",
       "      <td>1762.11</td>\n",
       "    </tr>\n",
       "    <tr>\n",
       "      <th>Forest_OE</th>\n",
       "      <td>9.47</td>\n",
       "      <td>0.28</td>\n",
       "      <td>2071.64</td>\n",
       "    </tr>\n",
       "    <tr>\n",
       "      <th>Forest_OHE</th>\n",
       "      <td>84.40</td>\n",
       "      <td>0.40</td>\n",
       "      <td>2073.26</td>\n",
       "    </tr>\n",
       "    <tr>\n",
       "      <th>LR_OHE</th>\n",
       "      <td>19.37</td>\n",
       "      <td>0.14</td>\n",
       "      <td>2580.86</td>\n",
       "    </tr>\n",
       "    <tr>\n",
       "      <th>LR_OE</th>\n",
       "      <td>0.06</td>\n",
       "      <td>0.00</td>\n",
       "      <td>2967.43</td>\n",
       "    </tr>\n",
       "  </tbody>\n",
       "</table>\n",
       "</div>"
      ],
      "text/plain": [
       "                   Время обучения, с  Время предсказания, с     RMSE\n",
       "CatBoostRegressor             173.31                   0.49  1625.21\n",
       "LGBM_OE                        19.60                   0.36  1762.11\n",
       "Forest_OE                       9.47                   0.28  2071.64\n",
       "Forest_OHE                     84.40                   0.40  2073.26\n",
       "LR_OHE                         19.37                   0.14  2580.86\n",
       "LR_OE                           0.06                   0.00  2967.43"
      ]
     },
     "execution_count": 115,
     "metadata": {},
     "output_type": "execute_result"
    }
   ],
   "source": [
    "results.sort_values(by='RMSE')"
   ]
  },
  {
   "cell_type": "markdown",
   "metadata": {},
   "source": [
    "**Вывод:** наименьшее `RMSE` показала модель `CatBoostRegressor`. Худшее `RMSE` у модели линейной регресии на данных, закодированных методом `Ordinal Encoding`. С ТЗ справились `CatBoostRegressor`, `LightGBM`, `RandomForestRegressor` на данных, закодированных методом `One-Hot Encoding`, `RandomForestRegressor` на данных, закодированных методом `Ordinal Encoding`, т.к. у них у всех `RMSE` < 2500."
   ]
  },
  {
   "cell_type": "markdown",
   "metadata": {},
   "source": [
    "## Общий вывод"
   ]
  },
  {
   "cell_type": "markdown",
   "metadata": {},
   "source": [
    "1. Было произведено предварительное изучение данных и подготовка данных: \n",
    "\n",
    "   * загрузили все необходимые для работы библиотеки ([1.1 Импорт библиотек](#Импорт-библиотек))\n",
    "   * сохранили данные в переменную ([1.2 Чтение файла](#Чтение-файла)) \n",
    "   * была просмотрена вся основаная информация о датафрейме ([1.3 Изучение данных](#Изучение-данных))\n",
    "   * столбцы были приведены к змеиному регистру в соотвествии со стандартом PEP8 ([1.4 Приведение столбцов к змеиному_регистру](#Приведение-столбцов-к-змеиному_регистру))\n",
    "   * была проведена проверка на явные дубликаты и их удаление сначала для данных без удалённых столбцов ([1.5 Проверка на явные дубликаты](#Проверка-на-явные-дубликаты)), затем после удаления лишних столбцов ([1.6 Удаление лишних столбцов](#Удаление-лишних-столбцов))\n",
    "   * были удалены столбцы, которые не влияют на обучение моделей ([1.6 Удаление лишних столбцов](#Удаление-лишних-столбцов))\n",
    "   * была проведена работа с пропусками ([1.7 Работа с пропусками](#Работа-с-пропусками))\n",
    "   * была проведена работа с аномальными значениями ([1.8 Работа с аномальными значениями](#Работа-с-аномальными-значениями))\n",
    "\n",
    "\n",
    "2. Обучение моделей:\n",
    "   * перед обучением данные были поделены на три выборки: обучающую, валидационную и тестовую ([2.1 Деление данных на выборки](#Деление-данных-на-выборки))\n",
    "   * выборки были поделены на признаки и целевой признак ([2.2 Деление выборок на признаки и целевой признак](#Деление-выборок-на-признаки-и-целевой-признак))\n",
    "   * написана функция для вычисления `RMSE` ([2.3 Функция для вычисления `RMSE`](#Функция-для-вычисления-RMSE))\n",
    "   * обучена и проверена модель `CatBoostRegressor` ([2.4 CatBoostRegressor](#CatBoostRegressor))\n",
    "   * данные были закодированы методом `One-Hot Encoding` и на них обучены модели `RandomForestRegressor` и линейная регрессия ([2.5 One-Hot Encoding](#One-Hot-Encoding))\n",
    "   * данные были закодированы методом `Ordinal Encoding` и на них обучены модели `RandomForestRegressor` и линейная регрессия, а также `LGBMRegressor` ([2.6 Ordinal Encoding](#Ordinal-Encoding)) ([2.7 LightGBM](#LightGBM))\n",
    "   * модель, показавшая лучший результат на валидационной выборке, была проверена на тестовой выборке ([2.8 Тест лучшей модели](#Тест-лучшей-модели))\n",
    "\n",
    "\n",
    "3. Был сделан анализ скорости работы и качества моделей ([3 Анализ моделей](#Анализ-моделей))\n",
    "\n",
    "\n",
    "4. Написан общий вывод к работе."
   ]
  }
 ],
 "metadata": {
  "ExecuteTimeLog": [
   {
    "duration": 1977,
    "start_time": "2023-01-17T08:01:54.190Z"
   },
   {
    "duration": 1249,
    "start_time": "2023-01-17T08:01:56.169Z"
   },
   {
    "duration": 778,
    "start_time": "2023-01-17T08:01:57.420Z"
   },
   {
    "duration": 16,
    "start_time": "2023-01-17T08:01:58.200Z"
   },
   {
    "duration": 3,
    "start_time": "2023-01-17T08:01:58.218Z"
   },
   {
    "duration": 114,
    "start_time": "2023-01-17T08:01:58.222Z"
   },
   {
    "duration": 133,
    "start_time": "2023-01-17T08:01:58.337Z"
   },
   {
    "duration": 109,
    "start_time": "2023-01-17T08:01:58.471Z"
   },
   {
    "duration": 104,
    "start_time": "2023-01-17T08:01:58.581Z"
   },
   {
    "duration": 3,
    "start_time": "2023-01-17T08:01:58.687Z"
   },
   {
    "duration": 52,
    "start_time": "2023-01-17T08:01:58.691Z"
   },
   {
    "duration": 7,
    "start_time": "2023-01-17T08:01:58.745Z"
   },
   {
    "duration": 479,
    "start_time": "2023-01-17T08:01:58.754Z"
   },
   {
    "duration": 529,
    "start_time": "2023-01-17T08:01:59.234Z"
   },
   {
    "duration": 458,
    "start_time": "2023-01-17T08:01:59.765Z"
   },
   {
    "duration": 33,
    "start_time": "2023-01-17T08:02:00.225Z"
   },
   {
    "duration": 43,
    "start_time": "2023-01-17T08:02:00.260Z"
   },
   {
    "duration": 222,
    "start_time": "2023-01-17T08:02:00.305Z"
   },
   {
    "duration": 176,
    "start_time": "2023-01-17T08:02:00.528Z"
   },
   {
    "duration": 177,
    "start_time": "2023-01-17T08:02:00.705Z"
   },
   {
    "duration": 72,
    "start_time": "2023-01-17T08:02:00.884Z"
   },
   {
    "duration": 25,
    "start_time": "2023-01-17T08:02:00.958Z"
   },
   {
    "duration": 27,
    "start_time": "2023-01-17T08:02:00.985Z"
   },
   {
    "duration": 32,
    "start_time": "2023-01-17T08:02:01.014Z"
   },
   {
    "duration": 27,
    "start_time": "2023-01-17T08:02:01.048Z"
   },
   {
    "duration": 35,
    "start_time": "2023-01-17T08:02:01.077Z"
   },
   {
    "duration": 52,
    "start_time": "2023-01-17T08:02:01.114Z"
   },
   {
    "duration": 89,
    "start_time": "2023-01-17T08:02:01.170Z"
   },
   {
    "duration": 26,
    "start_time": "2023-01-17T08:02:01.261Z"
   },
   {
    "duration": 11,
    "start_time": "2023-01-17T08:02:01.288Z"
   },
   {
    "duration": 114,
    "start_time": "2023-01-17T08:02:01.301Z"
   },
   {
    "duration": 22,
    "start_time": "2023-01-17T08:02:01.417Z"
   },
   {
    "duration": 23,
    "start_time": "2023-01-17T08:02:01.441Z"
   },
   {
    "duration": 26,
    "start_time": "2023-01-17T08:02:01.466Z"
   },
   {
    "duration": 24,
    "start_time": "2023-01-17T08:02:01.493Z"
   },
   {
    "duration": 11,
    "start_time": "2023-01-17T08:02:01.519Z"
   },
   {
    "duration": 16,
    "start_time": "2023-01-17T08:02:01.532Z"
   },
   {
    "duration": 15,
    "start_time": "2023-01-17T08:02:01.549Z"
   },
   {
    "duration": 16,
    "start_time": "2023-01-17T08:02:01.566Z"
   },
   {
    "duration": 13,
    "start_time": "2023-01-17T08:02:01.584Z"
   },
   {
    "duration": 35,
    "start_time": "2023-01-17T08:02:01.598Z"
   },
   {
    "duration": 38,
    "start_time": "2023-01-17T08:02:01.634Z"
   },
   {
    "duration": 45,
    "start_time": "2023-01-17T08:02:01.673Z"
   },
   {
    "duration": 173294,
    "start_time": "2023-01-17T08:02:01.720Z"
   },
   {
    "duration": 480,
    "start_time": "2023-01-17T08:04:55.016Z"
   },
   {
    "duration": 5,
    "start_time": "2023-01-17T08:04:55.498Z"
   },
   {
    "duration": 853,
    "start_time": "2023-01-17T08:04:55.504Z"
   },
   {
    "duration": 5,
    "start_time": "2023-01-17T08:04:56.359Z"
   },
   {
    "duration": 48,
    "start_time": "2023-01-17T08:04:56.366Z"
   },
   {
    "duration": 34,
    "start_time": "2023-01-17T08:04:56.416Z"
   },
   {
    "duration": 33,
    "start_time": "2023-01-17T08:04:56.452Z"
   },
   {
    "duration": 1477,
    "start_time": "2023-01-17T08:04:56.486Z"
   },
   {
    "duration": 228,
    "start_time": "2023-01-17T08:04:57.964Z"
   },
   {
    "duration": 21,
    "start_time": "2023-01-17T08:04:58.193Z"
   },
   {
    "duration": 27,
    "start_time": "2023-01-17T08:04:58.216Z"
   },
   {
    "duration": 26,
    "start_time": "2023-01-17T08:04:58.245Z"
   },
   {
    "duration": 3,
    "start_time": "2023-01-17T08:04:58.277Z"
   },
   {
    "duration": 7,
    "start_time": "2023-01-17T08:04:58.281Z"
   },
   {
    "duration": 7,
    "start_time": "2023-01-17T08:04:58.289Z"
   },
   {
    "duration": 7,
    "start_time": "2023-01-17T08:04:58.298Z"
   },
   {
    "duration": 2118,
    "start_time": "2023-01-18T11:52:16.267Z"
   },
   {
    "duration": 1536,
    "start_time": "2023-01-18T11:52:18.387Z"
   },
   {
    "duration": 1008,
    "start_time": "2023-01-18T11:52:20.717Z"
   },
   {
    "duration": 16,
    "start_time": "2023-01-18T11:52:22.684Z"
   },
   {
    "duration": 3,
    "start_time": "2023-01-18T11:52:23.358Z"
   },
   {
    "duration": 114,
    "start_time": "2023-01-18T11:52:23.790Z"
   },
   {
    "duration": 150,
    "start_time": "2023-01-18T11:52:24.166Z"
   },
   {
    "duration": 98,
    "start_time": "2023-01-18T11:52:24.573Z"
   },
   {
    "duration": 103,
    "start_time": "2023-01-18T11:52:25.171Z"
   },
   {
    "duration": 4,
    "start_time": "2023-01-18T11:52:25.764Z"
   },
   {
    "duration": 43,
    "start_time": "2023-01-18T11:52:25.939Z"
   },
   {
    "duration": 4,
    "start_time": "2023-01-18T11:52:26.327Z"
   },
   {
    "duration": 409,
    "start_time": "2023-01-18T11:52:26.910Z"
   },
   {
    "duration": 475,
    "start_time": "2023-01-18T11:52:27.320Z"
   },
   {
    "duration": 415,
    "start_time": "2023-01-18T11:52:27.797Z"
   },
   {
    "duration": 28,
    "start_time": "2023-01-18T11:52:28.501Z"
   },
   {
    "duration": 12,
    "start_time": "2023-01-18T11:52:28.891Z"
   },
   {
    "duration": 166,
    "start_time": "2023-01-18T11:52:29.448Z"
   },
   {
    "duration": 159,
    "start_time": "2023-01-18T11:52:29.838Z"
   },
   {
    "duration": 146,
    "start_time": "2023-01-18T11:52:30.048Z"
   },
   {
    "duration": 68,
    "start_time": "2023-01-18T11:52:30.781Z"
   },
   {
    "duration": 15,
    "start_time": "2023-01-18T11:52:31.308Z"
   },
   {
    "duration": 13,
    "start_time": "2023-01-18T11:52:31.651Z"
   },
   {
    "duration": 16,
    "start_time": "2023-01-18T11:52:31.982Z"
   },
   {
    "duration": 17,
    "start_time": "2023-01-18T11:52:32.356Z"
   },
   {
    "duration": 15,
    "start_time": "2023-01-18T11:52:32.671Z"
   },
   {
    "duration": 16,
    "start_time": "2023-01-18T11:52:33.182Z"
   },
   {
    "duration": 60,
    "start_time": "2023-01-18T11:52:33.737Z"
   },
   {
    "duration": 21,
    "start_time": "2023-01-18T11:52:34.458Z"
   },
   {
    "duration": 4,
    "start_time": "2023-01-18T11:52:34.818Z"
   },
   {
    "duration": 62,
    "start_time": "2023-01-18T11:52:36.634Z"
   },
   {
    "duration": 21,
    "start_time": "2023-01-18T11:52:37.501Z"
   },
   {
    "duration": 19,
    "start_time": "2023-01-18T11:52:37.668Z"
   },
   {
    "duration": 10,
    "start_time": "2023-01-18T11:52:37.862Z"
   },
   {
    "duration": 4,
    "start_time": "2023-01-18T11:52:39.034Z"
   },
   {
    "duration": 3,
    "start_time": "2023-01-18T11:52:39.182Z"
   },
   {
    "duration": 3,
    "start_time": "2023-01-18T11:52:39.332Z"
   },
   {
    "duration": 4,
    "start_time": "2023-01-18T11:52:39.548Z"
   },
   {
    "duration": 9,
    "start_time": "2023-01-18T11:52:40.202Z"
   },
   {
    "duration": 5,
    "start_time": "2023-01-18T11:52:40.369Z"
   },
   {
    "duration": 5,
    "start_time": "2023-01-18T11:52:40.533Z"
   },
   {
    "duration": 3,
    "start_time": "2023-01-18T11:52:41.101Z"
   },
   {
    "duration": 2,
    "start_time": "2023-01-18T11:52:42.514Z"
   },
   {
    "duration": 168923,
    "start_time": "2023-01-18T11:52:43.697Z"
   },
   {
    "duration": 473,
    "start_time": "2023-01-18T11:55:32.622Z"
   },
   {
    "duration": 5,
    "start_time": "2023-01-18T11:55:33.097Z"
   },
   {
    "duration": 799,
    "start_time": "2023-01-18T11:57:33.475Z"
   },
   {
    "duration": 779,
    "start_time": "2023-01-18T11:57:43.088Z"
   },
   {
    "duration": 495,
    "start_time": "2023-01-18T11:58:03.156Z"
   },
   {
    "duration": 18,
    "start_time": "2023-01-18T11:58:12.608Z"
   },
   {
    "duration": 2084,
    "start_time": "2023-01-18T12:30:37.623Z"
   },
   {
    "duration": 1430,
    "start_time": "2023-01-18T12:30:39.710Z"
   },
   {
    "duration": 800,
    "start_time": "2023-01-18T12:30:41.142Z"
   },
   {
    "duration": 17,
    "start_time": "2023-01-18T12:30:41.944Z"
   },
   {
    "duration": 8,
    "start_time": "2023-01-18T12:30:41.963Z"
   },
   {
    "duration": 124,
    "start_time": "2023-01-18T12:30:41.973Z"
   },
   {
    "duration": 157,
    "start_time": "2023-01-18T12:30:42.098Z"
   },
   {
    "duration": 114,
    "start_time": "2023-01-18T12:30:42.257Z"
   },
   {
    "duration": 114,
    "start_time": "2023-01-18T12:30:42.373Z"
   },
   {
    "duration": 3,
    "start_time": "2023-01-18T12:30:42.489Z"
   },
   {
    "duration": 66,
    "start_time": "2023-01-18T12:30:42.493Z"
   },
   {
    "duration": 4,
    "start_time": "2023-01-18T12:30:42.560Z"
   },
   {
    "duration": 436,
    "start_time": "2023-01-18T12:30:42.565Z"
   },
   {
    "duration": 498,
    "start_time": "2023-01-18T12:30:43.002Z"
   },
   {
    "duration": 436,
    "start_time": "2023-01-18T12:30:43.502Z"
   },
   {
    "duration": 25,
    "start_time": "2023-01-18T12:30:43.939Z"
   },
   {
    "duration": 12,
    "start_time": "2023-01-18T12:30:43.966Z"
   },
   {
    "duration": 195,
    "start_time": "2023-01-18T12:30:43.980Z"
   },
   {
    "duration": 179,
    "start_time": "2023-01-18T12:30:44.177Z"
   },
   {
    "duration": 162,
    "start_time": "2023-01-18T12:30:44.358Z"
   },
   {
    "duration": 72,
    "start_time": "2023-01-18T12:30:44.521Z"
   },
   {
    "duration": 42,
    "start_time": "2023-01-18T12:30:44.595Z"
   },
   {
    "duration": 14,
    "start_time": "2023-01-18T12:30:44.639Z"
   },
   {
    "duration": 19,
    "start_time": "2023-01-18T12:30:44.655Z"
   },
   {
    "duration": 19,
    "start_time": "2023-01-18T12:30:44.676Z"
   },
   {
    "duration": 40,
    "start_time": "2023-01-18T12:30:44.697Z"
   },
   {
    "duration": 27,
    "start_time": "2023-01-18T12:30:44.738Z"
   },
   {
    "duration": 72,
    "start_time": "2023-01-18T12:30:44.770Z"
   },
   {
    "duration": 32,
    "start_time": "2023-01-18T12:30:44.844Z"
   },
   {
    "duration": 4,
    "start_time": "2023-01-18T12:30:44.878Z"
   },
   {
    "duration": 70,
    "start_time": "2023-01-18T12:30:44.884Z"
   },
   {
    "duration": 24,
    "start_time": "2023-01-18T12:30:44.955Z"
   },
   {
    "duration": 18,
    "start_time": "2023-01-18T12:30:44.980Z"
   },
   {
    "duration": 39,
    "start_time": "2023-01-18T12:30:45.000Z"
   },
   {
    "duration": 22,
    "start_time": "2023-01-18T12:30:45.042Z"
   },
   {
    "duration": 17,
    "start_time": "2023-01-18T12:30:45.066Z"
   },
   {
    "duration": 14,
    "start_time": "2023-01-18T12:30:45.085Z"
   },
   {
    "duration": 18,
    "start_time": "2023-01-18T12:30:45.101Z"
   },
   {
    "duration": 33,
    "start_time": "2023-01-18T12:30:45.121Z"
   },
   {
    "duration": 10,
    "start_time": "2023-01-18T12:30:45.155Z"
   },
   {
    "duration": 13,
    "start_time": "2023-01-18T12:30:45.167Z"
   },
   {
    "duration": 12,
    "start_time": "2023-01-18T12:30:45.182Z"
   },
   {
    "duration": 16,
    "start_time": "2023-01-18T12:30:45.195Z"
   },
   {
    "duration": 173327,
    "start_time": "2023-01-18T12:30:45.213Z"
   },
   {
    "duration": 497,
    "start_time": "2023-01-18T12:33:38.541Z"
   },
   {
    "duration": 8,
    "start_time": "2023-01-18T12:33:39.040Z"
   },
   {
    "duration": 920,
    "start_time": "2023-01-18T12:33:39.050Z"
   },
   {
    "duration": 4,
    "start_time": "2023-01-18T12:33:39.972Z"
   },
   {
    "duration": 35,
    "start_time": "2023-01-18T12:33:39.978Z"
   },
   {
    "duration": 50,
    "start_time": "2023-01-18T12:33:40.014Z"
   },
   {
    "duration": 48,
    "start_time": "2023-01-18T12:33:40.065Z"
   },
   {
    "duration": 1582,
    "start_time": "2023-01-18T12:33:40.114Z"
   },
   {
    "duration": 237,
    "start_time": "2023-01-18T12:33:41.698Z"
   },
   {
    "duration": 25,
    "start_time": "2023-01-18T12:33:41.937Z"
   },
   {
    "duration": 36,
    "start_time": "2023-01-18T12:33:41.963Z"
   },
   {
    "duration": 43,
    "start_time": "2023-01-18T12:33:42.001Z"
   },
   {
    "duration": 21,
    "start_time": "2023-01-18T12:33:42.046Z"
   },
   {
    "duration": 20,
    "start_time": "2023-01-18T12:33:42.069Z"
   },
   {
    "duration": 19,
    "start_time": "2023-01-18T12:33:42.090Z"
   },
   {
    "duration": 17,
    "start_time": "2023-01-18T12:33:42.110Z"
   },
   {
    "duration": 357,
    "start_time": "2023-01-18T12:33:42.129Z"
   },
   {
    "duration": 1036733,
    "start_time": "2023-01-18T12:33:42.487Z"
   },
   {
    "duration": 15,
    "start_time": "2023-01-18T12:50:59.222Z"
   },
   {
    "duration": 16,
    "start_time": "2023-01-18T12:50:59.238Z"
   },
   {
    "duration": 23,
    "start_time": "2023-01-18T12:50:59.256Z"
   },
   {
    "duration": 19,
    "start_time": "2023-01-18T12:50:59.281Z"
   },
   {
    "duration": 16,
    "start_time": "2023-01-18T12:50:59.302Z"
   },
   {
    "duration": 28,
    "start_time": "2023-01-18T12:50:59.320Z"
   },
   {
    "duration": 19,
    "start_time": "2023-01-18T12:50:59.350Z"
   },
   {
    "duration": 29,
    "start_time": "2023-01-18T12:50:59.371Z"
   },
   {
    "duration": 379,
    "start_time": "2023-01-18T12:50:59.402Z"
   },
   {
    "duration": 19456,
    "start_time": "2023-01-18T12:50:59.782Z"
   },
   {
    "duration": 188,
    "start_time": "2023-01-18T12:51:19.240Z"
   },
   {
    "duration": 6,
    "start_time": "2023-01-18T12:51:19.436Z"
   },
   {
    "duration": 703,
    "start_time": "2023-01-18T12:51:19.443Z"
   },
   {
    "duration": 13,
    "start_time": "2023-01-18T12:51:20.147Z"
   },
   {
    "duration": 28,
    "start_time": "2023-01-18T12:51:20.161Z"
   },
   {
    "duration": 20,
    "start_time": "2023-01-18T12:51:20.190Z"
   },
   {
    "duration": 26,
    "start_time": "2023-01-18T12:51:20.212Z"
   },
   {
    "duration": 19,
    "start_time": "2023-01-18T12:51:20.240Z"
   },
   {
    "duration": 27,
    "start_time": "2023-01-18T12:51:20.260Z"
   },
   {
    "duration": 46,
    "start_time": "2023-01-18T12:51:20.293Z"
   },
   {
    "duration": 125502,
    "start_time": "2023-01-18T12:51:20.341Z"
   },
   {
    "duration": 5,
    "start_time": "2023-01-18T12:53:25.845Z"
   },
   {
    "duration": 14,
    "start_time": "2023-01-18T12:53:25.851Z"
   },
   {
    "duration": 6,
    "start_time": "2023-01-18T12:53:25.867Z"
   },
   {
    "duration": 7,
    "start_time": "2023-01-18T12:53:25.874Z"
   },
   {
    "duration": 6,
    "start_time": "2023-01-18T12:53:25.882Z"
   },
   {
    "duration": 5,
    "start_time": "2023-01-18T12:53:25.890Z"
   },
   {
    "duration": 8,
    "start_time": "2023-01-18T12:53:25.897Z"
   },
   {
    "duration": 6,
    "start_time": "2023-01-18T12:53:25.907Z"
   },
   {
    "duration": 151,
    "start_time": "2023-01-18T12:53:25.914Z"
   },
   {
    "duration": 72,
    "start_time": "2023-01-18T12:53:26.067Z"
   },
   {
    "duration": 8,
    "start_time": "2023-01-18T12:53:26.143Z"
   },
   {
    "duration": 113,
    "start_time": "2023-01-18T12:53:26.227Z"
   },
   {
    "duration": 4,
    "start_time": "2023-01-18T12:53:26.341Z"
   },
   {
    "duration": 10,
    "start_time": "2023-01-18T12:53:26.346Z"
   },
   {
    "duration": 15,
    "start_time": "2023-01-18T12:53:26.357Z"
   },
   {
    "duration": 253974,
    "start_time": "2023-01-18T12:53:26.373Z"
   },
   {
    "duration": 5,
    "start_time": "2023-01-18T12:57:40.348Z"
   },
   {
    "duration": 81,
    "start_time": "2023-01-18T12:57:40.354Z"
   },
   {
    "duration": 3,
    "start_time": "2023-01-18T12:57:40.438Z"
   },
   {
    "duration": 22,
    "start_time": "2023-01-18T12:57:40.442Z"
   },
   {
    "duration": 6,
    "start_time": "2023-01-18T12:57:40.465Z"
   },
   {
    "duration": 7,
    "start_time": "2023-01-18T12:57:40.472Z"
   },
   {
    "duration": 9,
    "start_time": "2023-01-18T12:57:40.480Z"
   },
   {
    "duration": 4,
    "start_time": "2023-01-18T12:57:40.491Z"
   },
   {
    "duration": 18,
    "start_time": "2023-01-18T12:57:40.496Z"
   },
   {
    "duration": 22,
    "start_time": "2023-01-18T12:57:40.515Z"
   },
   {
    "duration": 169249,
    "start_time": "2023-01-18T12:57:40.539Z"
   },
   {
    "duration": 471,
    "start_time": "2023-01-18T13:00:29.790Z"
   },
   {
    "duration": 5,
    "start_time": "2023-01-18T13:00:30.263Z"
   },
   {
    "duration": 28,
    "start_time": "2023-01-18T13:00:30.270Z"
   },
   {
    "duration": 19,
    "start_time": "2023-01-18T13:00:30.300Z"
   },
   {
    "duration": 26,
    "start_time": "2023-01-18T13:00:30.321Z"
   }
  ],
  "kernelspec": {
   "display_name": "Python 3 (ipykernel)",
   "language": "python",
   "name": "python3"
  },
  "language_info": {
   "codemirror_mode": {
    "name": "ipython",
    "version": 3
   },
   "file_extension": ".py",
   "mimetype": "text/x-python",
   "name": "python",
   "nbconvert_exporter": "python",
   "pygments_lexer": "ipython3",
   "version": "3.9.14"
  },
  "toc": {
   "base_numbering": 1,
   "nav_menu": {},
   "number_sections": true,
   "sideBar": true,
   "skip_h1_title": true,
   "title_cell": "Table of Contents",
   "title_sidebar": "Contents",
   "toc_cell": false,
   "toc_position": {
    "height": "calc(100% - 180px)",
    "left": "10px",
    "top": "150px",
    "width": "340.391px"
   },
   "toc_section_display": true,
   "toc_window_display": true
  }
 },
 "nbformat": 4,
 "nbformat_minor": 2
}
